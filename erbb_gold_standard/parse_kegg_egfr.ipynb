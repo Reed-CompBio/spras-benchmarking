{
 "cells": [
  {
   "cell_type": "code",
   "execution_count": 2,
   "metadata": {},
   "outputs": [],
   "source": [
    "from Bio.KEGG.KGML.KGML_parser import read, parse\n",
    "import pandas as pd\n",
    "import requests\n",
    "import itertools"
   ]
  },
  {
   "cell_type": "markdown",
   "metadata": {},
   "source": [
    "**Load KEGG xml file**"
   ]
  },
  {
   "cell_type": "code",
   "execution_count": 2,
   "metadata": {},
   "outputs": [
    {
     "name": "stdout",
     "output_type": "stream",
     "text": [
      "Pathway: ErbB signaling pathway\n",
      "KEGG ID: path:hsa04012\n",
      "Image file: https://www.kegg.jp/kegg/pathway/hsa/hsa04012.png\n",
      "Organism: hsa\n",
      "Entries: 80\n",
      "Entry types:\n",
      "\tgene: 60\n",
      "\tgroup: 6\n",
      "\tcompound: 4\n",
      "\tmap: 10\n",
      "\n"
     ]
    }
   ],
   "source": [
    "pathway = read(open(\"hiv_raw_data/hsa04012.xml\", 'r'))\n",
    "print(pathway)"
   ]
  },
  {
   "cell_type": "markdown",
   "metadata": {},
   "source": [
    "**Function to extract relations (i.e. edges) from KGML file**"
   ]
  },
  {
   "cell_type": "code",
   "execution_count": 3,
   "metadata": {},
   "outputs": [],
   "source": [
    "def extract_relations(kgml_file):\n",
    "\n",
    "    with open(kgml_file, 'r') as f:\n",
    "        pathway = read(f)\n",
    "\n",
    "    relations_data = []\n",
    "\n",
    "    # iterate over all relations in the pathway\n",
    "    for relation in pathway.relations:\n",
    "        entry1 = relation.entry1.id\n",
    "        entry2 = relation.entry2.id\n",
    "        relation_type = relation.type  # Type of interaction (e.g., PPrel, GErel, etc.)\n",
    "\n",
    "        relations_data.append((entry1, entry2, relation_type))\n",
    "\n",
    "    return relations_data"
   ]
  },
  {
   "cell_type": "markdown",
   "metadata": {},
   "source": [
    "**Parse KGML file to extract relations**"
   ]
  },
  {
   "cell_type": "code",
   "execution_count": 4,
   "metadata": {},
   "outputs": [
    {
     "name": "stdout",
     "output_type": "stream",
     "text": [
      "85\n"
     ]
    }
   ],
   "source": [
    "kgml_file_path = \"hiv_raw_data/hsa04012.xml\"  \n",
    "relations = extract_relations(kgml_file_path)\n",
    "\n",
    "# for node1, node2, rel_type in relations:\n",
    "#     print(f\"Relation: Node1={node1}, Node2={node2}, Type={rel_type}\")\n",
    "\n",
    "print(len(relations))"
   ]
  },
  {
   "cell_type": "code",
   "execution_count": 5,
   "metadata": {},
   "outputs": [
    {
     "data": {
      "text/html": [
       "<div>\n",
       "<style scoped>\n",
       "    .dataframe tbody tr th:only-of-type {\n",
       "        vertical-align: middle;\n",
       "    }\n",
       "\n",
       "    .dataframe tbody tr th {\n",
       "        vertical-align: top;\n",
       "    }\n",
       "\n",
       "    .dataframe thead th {\n",
       "        text-align: right;\n",
       "    }\n",
       "</style>\n",
       "<table border=\"1\" class=\"dataframe\">\n",
       "  <thead>\n",
       "    <tr style=\"text-align: right;\">\n",
       "      <th></th>\n",
       "      <th>Node1</th>\n",
       "      <th>Node2</th>\n",
       "      <th>RelationType</th>\n",
       "    </tr>\n",
       "  </thead>\n",
       "  <tbody>\n",
       "    <tr>\n",
       "      <th>0</th>\n",
       "      <td>78</td>\n",
       "      <td>77</td>\n",
       "      <td>PPrel</td>\n",
       "    </tr>\n",
       "    <tr>\n",
       "      <th>1</th>\n",
       "      <td>45</td>\n",
       "      <td>10</td>\n",
       "      <td>PPrel</td>\n",
       "    </tr>\n",
       "    <tr>\n",
       "      <th>2</th>\n",
       "      <td>77</td>\n",
       "      <td>76</td>\n",
       "      <td>PPrel</td>\n",
       "    </tr>\n",
       "    <tr>\n",
       "      <th>3</th>\n",
       "      <td>44</td>\n",
       "      <td>178</td>\n",
       "      <td>PPrel</td>\n",
       "    </tr>\n",
       "    <tr>\n",
       "      <th>4</th>\n",
       "      <td>76</td>\n",
       "      <td>71</td>\n",
       "      <td>PPrel</td>\n",
       "    </tr>\n",
       "  </tbody>\n",
       "</table>\n",
       "</div>"
      ],
      "text/plain": [
       "   Node1  Node2 RelationType\n",
       "0     78     77        PPrel\n",
       "1     45     10        PPrel\n",
       "2     77     76        PPrel\n",
       "3     44    178        PPrel\n",
       "4     76     71        PPrel"
      ]
     },
     "execution_count": 5,
     "metadata": {},
     "output_type": "execute_result"
    }
   ],
   "source": [
    "relations_df = pd.DataFrame(relations, columns=['Node1', 'Node2', 'RelationType'])\n",
    "relations_df.head()"
   ]
  },
  {
   "cell_type": "markdown",
   "metadata": {},
   "source": [
    "**Get entries i.e. nodes from KGML file**"
   ]
  },
  {
   "cell_type": "code",
   "execution_count": 6,
   "metadata": {},
   "outputs": [
    {
     "data": {
      "text/plain": [
       "80"
      ]
     },
     "execution_count": 6,
     "metadata": {},
     "output_type": "execute_result"
    }
   ],
   "source": [
    "entries_data = []\n",
    "for entry in pathway.entries.values():\n",
    "    entries_data.append({\n",
    "        'id': entry.id,\n",
    "        'name': entry.name,\n",
    "        'type': entry.type,\n",
    "        'link': entry.link,\n",
    "        'reaction': entry.reaction,\n",
    "    })\n",
    "entries_df = pd.DataFrame(entries_data)\n",
    "len(entries_df)"
   ]
  },
  {
   "cell_type": "code",
   "execution_count": 7,
   "metadata": {},
   "outputs": [
    {
     "data": {
      "text/html": [
       "<div>\n",
       "<style scoped>\n",
       "    .dataframe tbody tr th:only-of-type {\n",
       "        vertical-align: middle;\n",
       "    }\n",
       "\n",
       "    .dataframe tbody tr th {\n",
       "        vertical-align: top;\n",
       "    }\n",
       "\n",
       "    .dataframe thead th {\n",
       "        text-align: right;\n",
       "    }\n",
       "</style>\n",
       "<table border=\"1\" class=\"dataframe\">\n",
       "  <thead>\n",
       "    <tr style=\"text-align: right;\">\n",
       "      <th></th>\n",
       "      <th>id</th>\n",
       "      <th>name</th>\n",
       "      <th>type</th>\n",
       "      <th>link</th>\n",
       "      <th>reaction</th>\n",
       "    </tr>\n",
       "  </thead>\n",
       "  <tbody>\n",
       "    <tr>\n",
       "      <th>0</th>\n",
       "      <td>7</td>\n",
       "      <td>path:hsa05223</td>\n",
       "      <td>map</td>\n",
       "      <td>https://www.kegg.jp/dbget-bin/www_bget?hsa05223</td>\n",
       "      <td></td>\n",
       "    </tr>\n",
       "    <tr>\n",
       "      <th>1</th>\n",
       "      <td>8</td>\n",
       "      <td>hsa:2885</td>\n",
       "      <td>gene</td>\n",
       "      <td>https://www.kegg.jp/dbget-bin/www_bget?hsa:2885</td>\n",
       "      <td></td>\n",
       "    </tr>\n",
       "    <tr>\n",
       "      <th>2</th>\n",
       "      <td>9</td>\n",
       "      <td>hsa:2002</td>\n",
       "      <td>gene</td>\n",
       "      <td>https://www.kegg.jp/dbget-bin/www_bget?hsa:2002</td>\n",
       "      <td></td>\n",
       "    </tr>\n",
       "    <tr>\n",
       "      <th>3</th>\n",
       "      <td>10</td>\n",
       "      <td>hsa:2066</td>\n",
       "      <td>gene</td>\n",
       "      <td>https://www.kegg.jp/dbget-bin/www_bget?hsa:2066</td>\n",
       "      <td></td>\n",
       "    </tr>\n",
       "    <tr>\n",
       "      <th>4</th>\n",
       "      <td>11</td>\n",
       "      <td>hsa:2066</td>\n",
       "      <td>gene</td>\n",
       "      <td>https://www.kegg.jp/dbget-bin/www_bget?hsa:2066</td>\n",
       "      <td></td>\n",
       "    </tr>\n",
       "  </tbody>\n",
       "</table>\n",
       "</div>"
      ],
      "text/plain": [
       "   id           name  type                                             link  \\\n",
       "0   7  path:hsa05223   map  https://www.kegg.jp/dbget-bin/www_bget?hsa05223   \n",
       "1   8       hsa:2885  gene  https://www.kegg.jp/dbget-bin/www_bget?hsa:2885   \n",
       "2   9       hsa:2002  gene  https://www.kegg.jp/dbget-bin/www_bget?hsa:2002   \n",
       "3  10       hsa:2066  gene  https://www.kegg.jp/dbget-bin/www_bget?hsa:2066   \n",
       "4  11       hsa:2066  gene  https://www.kegg.jp/dbget-bin/www_bget?hsa:2066   \n",
       "\n",
       "  reaction  \n",
       "0           \n",
       "1           \n",
       "2           \n",
       "3           \n",
       "4           "
      ]
     },
     "execution_count": 7,
     "metadata": {},
     "output_type": "execute_result"
    }
   ],
   "source": [
    "entries_df.head()"
   ]
  },
  {
   "cell_type": "code",
   "execution_count": 8,
   "metadata": {},
   "outputs": [
    {
     "data": {
      "text/plain": [
       "{'compound', 'gene', 'group', 'map'}"
      ]
     },
     "execution_count": 8,
     "metadata": {},
     "output_type": "execute_result"
    }
   ],
   "source": [
    "set(entries_df['type'])"
   ]
  },
  {
   "cell_type": "markdown",
   "metadata": {},
   "source": [
    "**Map the entry IDs in the relations to NodeIDs**"
   ]
  },
  {
   "cell_type": "code",
   "execution_count": 9,
   "metadata": {},
   "outputs": [
    {
     "data": {
      "text/html": [
       "<div>\n",
       "<style scoped>\n",
       "    .dataframe tbody tr th:only-of-type {\n",
       "        vertical-align: middle;\n",
       "    }\n",
       "\n",
       "    .dataframe tbody tr th {\n",
       "        vertical-align: top;\n",
       "    }\n",
       "\n",
       "    .dataframe thead th {\n",
       "        text-align: right;\n",
       "    }\n",
       "</style>\n",
       "<table border=\"1\" class=\"dataframe\">\n",
       "  <thead>\n",
       "    <tr style=\"text-align: right;\">\n",
       "      <th></th>\n",
       "      <th>Node1</th>\n",
       "      <th>Node2</th>\n",
       "      <th>RelationType</th>\n",
       "      <th>Node1_Name</th>\n",
       "    </tr>\n",
       "  </thead>\n",
       "  <tbody>\n",
       "    <tr>\n",
       "      <th>0</th>\n",
       "      <td>78</td>\n",
       "      <td>77</td>\n",
       "      <td>PPrel</td>\n",
       "      <td>hsa:369 hsa:5894 hsa:673</td>\n",
       "    </tr>\n",
       "    <tr>\n",
       "      <th>1</th>\n",
       "      <td>45</td>\n",
       "      <td>10</td>\n",
       "      <td>PPrel</td>\n",
       "      <td>hsa:9542</td>\n",
       "    </tr>\n",
       "    <tr>\n",
       "      <th>2</th>\n",
       "      <td>77</td>\n",
       "      <td>76</td>\n",
       "      <td>PPrel</td>\n",
       "      <td>hsa:5604 hsa:5605</td>\n",
       "    </tr>\n",
       "    <tr>\n",
       "      <th>3</th>\n",
       "      <td>44</td>\n",
       "      <td>178</td>\n",
       "      <td>PPrel</td>\n",
       "      <td>hsa:10718</td>\n",
       "    </tr>\n",
       "    <tr>\n",
       "      <th>4</th>\n",
       "      <td>76</td>\n",
       "      <td>71</td>\n",
       "      <td>PPrel</td>\n",
       "      <td>hsa:5594 hsa:5595</td>\n",
       "    </tr>\n",
       "  </tbody>\n",
       "</table>\n",
       "</div>"
      ],
      "text/plain": [
       "   Node1  Node2 RelationType                Node1_Name\n",
       "0     78     77        PPrel  hsa:369 hsa:5894 hsa:673\n",
       "1     45     10        PPrel                  hsa:9542\n",
       "2     77     76        PPrel         hsa:5604 hsa:5605\n",
       "3     44    178        PPrel                 hsa:10718\n",
       "4     76     71        PPrel         hsa:5594 hsa:5595"
      ]
     },
     "execution_count": 9,
     "metadata": {},
     "output_type": "execute_result"
    }
   ],
   "source": [
    "# replace Node1 with Name\n",
    "relations_df = relations_df.merge(entries_df[['id', 'name']], left_on='Node1', right_on='id', how='left').drop(columns=['id'])\n",
    "relations_df.rename(columns={'name': 'Node1_Name'}, inplace=True)\n",
    "relations_df.head()"
   ]
  },
  {
   "cell_type": "code",
   "execution_count": 10,
   "metadata": {},
   "outputs": [
    {
     "data": {
      "text/html": [
       "<div>\n",
       "<style scoped>\n",
       "    .dataframe tbody tr th:only-of-type {\n",
       "        vertical-align: middle;\n",
       "    }\n",
       "\n",
       "    .dataframe tbody tr th {\n",
       "        vertical-align: top;\n",
       "    }\n",
       "\n",
       "    .dataframe thead th {\n",
       "        text-align: right;\n",
       "    }\n",
       "</style>\n",
       "<table border=\"1\" class=\"dataframe\">\n",
       "  <thead>\n",
       "    <tr style=\"text-align: right;\">\n",
       "      <th></th>\n",
       "      <th>Node1</th>\n",
       "      <th>Node2</th>\n",
       "      <th>RelationType</th>\n",
       "      <th>Node1_Name</th>\n",
       "      <th>Node2_Name</th>\n",
       "    </tr>\n",
       "  </thead>\n",
       "  <tbody>\n",
       "    <tr>\n",
       "      <th>0</th>\n",
       "      <td>78</td>\n",
       "      <td>77</td>\n",
       "      <td>PPrel</td>\n",
       "      <td>hsa:369 hsa:5894 hsa:673</td>\n",
       "      <td>hsa:5604 hsa:5605</td>\n",
       "    </tr>\n",
       "    <tr>\n",
       "      <th>1</th>\n",
       "      <td>45</td>\n",
       "      <td>10</td>\n",
       "      <td>PPrel</td>\n",
       "      <td>hsa:9542</td>\n",
       "      <td>hsa:2066</td>\n",
       "    </tr>\n",
       "    <tr>\n",
       "      <th>2</th>\n",
       "      <td>77</td>\n",
       "      <td>76</td>\n",
       "      <td>PPrel</td>\n",
       "      <td>hsa:5604 hsa:5605</td>\n",
       "      <td>hsa:5594 hsa:5595</td>\n",
       "    </tr>\n",
       "    <tr>\n",
       "      <th>3</th>\n",
       "      <td>44</td>\n",
       "      <td>178</td>\n",
       "      <td>PPrel</td>\n",
       "      <td>hsa:10718</td>\n",
       "      <td>undefined</td>\n",
       "    </tr>\n",
       "    <tr>\n",
       "      <th>4</th>\n",
       "      <td>76</td>\n",
       "      <td>71</td>\n",
       "      <td>PPrel</td>\n",
       "      <td>hsa:5594 hsa:5595</td>\n",
       "      <td>hsa:4609</td>\n",
       "    </tr>\n",
       "  </tbody>\n",
       "</table>\n",
       "</div>"
      ],
      "text/plain": [
       "   Node1  Node2 RelationType                Node1_Name         Node2_Name\n",
       "0     78     77        PPrel  hsa:369 hsa:5894 hsa:673  hsa:5604 hsa:5605\n",
       "1     45     10        PPrel                  hsa:9542           hsa:2066\n",
       "2     77     76        PPrel         hsa:5604 hsa:5605  hsa:5594 hsa:5595\n",
       "3     44    178        PPrel                 hsa:10718          undefined\n",
       "4     76     71        PPrel         hsa:5594 hsa:5595           hsa:4609"
      ]
     },
     "execution_count": 10,
     "metadata": {},
     "output_type": "execute_result"
    }
   ],
   "source": [
    "# replace Node2 with Name\n",
    "relations_df = relations_df.merge(entries_df[['id', 'name']], left_on='Node2', right_on='id', how='left').drop(columns=['id'])\n",
    "relations_df.rename(columns={'name': 'Node2_Name'}, inplace=True)\n",
    "relations_df.head()"
   ]
  },
  {
   "cell_type": "markdown",
   "metadata": {},
   "source": [
    "**Replace all `undefined` with ErbB-2 ID**"
   ]
  },
  {
   "cell_type": "code",
   "execution_count": 11,
   "metadata": {},
   "outputs": [],
   "source": [
    "relations_df = relations_df.replace('undefined', 'hsa:2064', regex=True)"
   ]
  },
  {
   "cell_type": "markdown",
   "metadata": {},
   "source": [
    "**Get cartesian product of all proteins in each ro - i.e. get all pairs**"
   ]
  },
  {
   "cell_type": "code",
   "execution_count": 16,
   "metadata": {},
   "outputs": [
    {
     "name": "stdout",
     "output_type": "stream",
     "text": [
      "85\n"
     ]
    },
    {
     "data": {
      "text/html": [
       "<div>\n",
       "<style scoped>\n",
       "    .dataframe tbody tr th:only-of-type {\n",
       "        vertical-align: middle;\n",
       "    }\n",
       "\n",
       "    .dataframe tbody tr th {\n",
       "        vertical-align: top;\n",
       "    }\n",
       "\n",
       "    .dataframe thead th {\n",
       "        text-align: right;\n",
       "    }\n",
       "</style>\n",
       "<table border=\"1\" class=\"dataframe\">\n",
       "  <thead>\n",
       "    <tr style=\"text-align: right;\">\n",
       "      <th></th>\n",
       "      <th>0</th>\n",
       "      <th>1</th>\n",
       "      <th>2</th>\n",
       "      <th>3</th>\n",
       "      <th>4</th>\n",
       "      <th>5</th>\n",
       "      <th>6</th>\n",
       "    </tr>\n",
       "  </thead>\n",
       "  <tbody>\n",
       "    <tr>\n",
       "      <th>0</th>\n",
       "      <td>hsa:369</td>\n",
       "      <td>hsa:5894</td>\n",
       "      <td>hsa:673</td>\n",
       "      <td>None</td>\n",
       "      <td>None</td>\n",
       "      <td>None</td>\n",
       "      <td>None</td>\n",
       "    </tr>\n",
       "    <tr>\n",
       "      <th>1</th>\n",
       "      <td>hsa:9542</td>\n",
       "      <td>None</td>\n",
       "      <td>None</td>\n",
       "      <td>None</td>\n",
       "      <td>None</td>\n",
       "      <td>None</td>\n",
       "      <td>None</td>\n",
       "    </tr>\n",
       "    <tr>\n",
       "      <th>2</th>\n",
       "      <td>hsa:5604</td>\n",
       "      <td>hsa:5605</td>\n",
       "      <td>None</td>\n",
       "      <td>None</td>\n",
       "      <td>None</td>\n",
       "      <td>None</td>\n",
       "      <td>None</td>\n",
       "    </tr>\n",
       "    <tr>\n",
       "      <th>3</th>\n",
       "      <td>hsa:10718</td>\n",
       "      <td>None</td>\n",
       "      <td>None</td>\n",
       "      <td>None</td>\n",
       "      <td>None</td>\n",
       "      <td>None</td>\n",
       "      <td>None</td>\n",
       "    </tr>\n",
       "    <tr>\n",
       "      <th>4</th>\n",
       "      <td>hsa:5594</td>\n",
       "      <td>hsa:5595</td>\n",
       "      <td>None</td>\n",
       "      <td>None</td>\n",
       "      <td>None</td>\n",
       "      <td>None</td>\n",
       "      <td>None</td>\n",
       "    </tr>\n",
       "  </tbody>\n",
       "</table>\n",
       "</div>"
      ],
      "text/plain": [
       "           0         1        2     3     4     5     6\n",
       "0    hsa:369  hsa:5894  hsa:673  None  None  None  None\n",
       "1   hsa:9542      None     None  None  None  None  None\n",
       "2   hsa:5604  hsa:5605     None  None  None  None  None\n",
       "3  hsa:10718      None     None  None  None  None  None\n",
       "4   hsa:5594  hsa:5595     None  None  None  None  None"
      ]
     },
     "execution_count": 16,
     "metadata": {},
     "output_type": "execute_result"
    }
   ],
   "source": [
    "split_node1_df = relations_df['Node1_Name'].str.split(' ', expand=True)\n",
    "print(len(split_node1_df))\n",
    "split_node1_df.head()"
   ]
  },
  {
   "cell_type": "code",
   "execution_count": 17,
   "metadata": {},
   "outputs": [
    {
     "name": "stdout",
     "output_type": "stream",
     "text": [
      "85\n"
     ]
    },
    {
     "data": {
      "text/html": [
       "<div>\n",
       "<style scoped>\n",
       "    .dataframe tbody tr th:only-of-type {\n",
       "        vertical-align: middle;\n",
       "    }\n",
       "\n",
       "    .dataframe tbody tr th {\n",
       "        vertical-align: top;\n",
       "    }\n",
       "\n",
       "    .dataframe thead th {\n",
       "        text-align: right;\n",
       "    }\n",
       "</style>\n",
       "<table border=\"1\" class=\"dataframe\">\n",
       "  <thead>\n",
       "    <tr style=\"text-align: right;\">\n",
       "      <th></th>\n",
       "      <th>0</th>\n",
       "      <th>1</th>\n",
       "      <th>2</th>\n",
       "      <th>3</th>\n",
       "      <th>4</th>\n",
       "      <th>5</th>\n",
       "      <th>6</th>\n",
       "    </tr>\n",
       "  </thead>\n",
       "  <tbody>\n",
       "    <tr>\n",
       "      <th>0</th>\n",
       "      <td>hsa:5604</td>\n",
       "      <td>hsa:5605</td>\n",
       "      <td>None</td>\n",
       "      <td>None</td>\n",
       "      <td>None</td>\n",
       "      <td>None</td>\n",
       "      <td>None</td>\n",
       "    </tr>\n",
       "    <tr>\n",
       "      <th>1</th>\n",
       "      <td>hsa:2066</td>\n",
       "      <td>None</td>\n",
       "      <td>None</td>\n",
       "      <td>None</td>\n",
       "      <td>None</td>\n",
       "      <td>None</td>\n",
       "      <td>None</td>\n",
       "    </tr>\n",
       "    <tr>\n",
       "      <th>2</th>\n",
       "      <td>hsa:5594</td>\n",
       "      <td>hsa:5595</td>\n",
       "      <td>None</td>\n",
       "      <td>None</td>\n",
       "      <td>None</td>\n",
       "      <td>None</td>\n",
       "      <td>None</td>\n",
       "    </tr>\n",
       "    <tr>\n",
       "      <th>3</th>\n",
       "      <td>hsa:2064</td>\n",
       "      <td>None</td>\n",
       "      <td>None</td>\n",
       "      <td>None</td>\n",
       "      <td>None</td>\n",
       "      <td>None</td>\n",
       "      <td>None</td>\n",
       "    </tr>\n",
       "    <tr>\n",
       "      <th>4</th>\n",
       "      <td>hsa:4609</td>\n",
       "      <td>None</td>\n",
       "      <td>None</td>\n",
       "      <td>None</td>\n",
       "      <td>None</td>\n",
       "      <td>None</td>\n",
       "      <td>None</td>\n",
       "    </tr>\n",
       "  </tbody>\n",
       "</table>\n",
       "</div>"
      ],
      "text/plain": [
       "          0         1     2     3     4     5     6\n",
       "0  hsa:5604  hsa:5605  None  None  None  None  None\n",
       "1  hsa:2066      None  None  None  None  None  None\n",
       "2  hsa:5594  hsa:5595  None  None  None  None  None\n",
       "3  hsa:2064      None  None  None  None  None  None\n",
       "4  hsa:4609      None  None  None  None  None  None"
      ]
     },
     "execution_count": 17,
     "metadata": {},
     "output_type": "execute_result"
    }
   ],
   "source": [
    "split_node2_df = relations_df['Node2_Name'].str.split(' ', expand=True)\n",
    "print(len(split_node2_df))\n",
    "split_node2_df.head()"
   ]
  },
  {
   "cell_type": "code",
   "execution_count": 18,
   "metadata": {},
   "outputs": [],
   "source": [
    "def cartesian_product_rows(df1, df2):\n",
    "    result = []\n",
    "    for row1, row2 in zip(df1.values, df2.values):\n",
    "        # remove None vals\n",
    "        values1 = [x for x in row1 if x is not None]\n",
    "        values2 = [x for x in row2 if x is not None]\n",
    "        \n",
    "        # get the cartesian prod\n",
    "        for pair in itertools.product(values1, values2):\n",
    "            result.append(pair)\n",
    "    \n",
    "    return pd.DataFrame(result)"
   ]
  },
  {
   "cell_type": "code",
   "execution_count": 19,
   "metadata": {},
   "outputs": [
    {
     "data": {
      "text/html": [
       "<div>\n",
       "<style scoped>\n",
       "    .dataframe tbody tr th:only-of-type {\n",
       "        vertical-align: middle;\n",
       "    }\n",
       "\n",
       "    .dataframe tbody tr th {\n",
       "        vertical-align: top;\n",
       "    }\n",
       "\n",
       "    .dataframe thead th {\n",
       "        text-align: right;\n",
       "    }\n",
       "</style>\n",
       "<table border=\"1\" class=\"dataframe\">\n",
       "  <thead>\n",
       "    <tr style=\"text-align: right;\">\n",
       "      <th></th>\n",
       "      <th>Node1</th>\n",
       "      <th>Node2</th>\n",
       "    </tr>\n",
       "  </thead>\n",
       "  <tbody>\n",
       "    <tr>\n",
       "      <th>0</th>\n",
       "      <td>hsa:369</td>\n",
       "      <td>hsa:5604</td>\n",
       "    </tr>\n",
       "    <tr>\n",
       "      <th>1</th>\n",
       "      <td>hsa:369</td>\n",
       "      <td>hsa:5605</td>\n",
       "    </tr>\n",
       "    <tr>\n",
       "      <th>2</th>\n",
       "      <td>hsa:5894</td>\n",
       "      <td>hsa:5604</td>\n",
       "    </tr>\n",
       "    <tr>\n",
       "      <th>3</th>\n",
       "      <td>hsa:5894</td>\n",
       "      <td>hsa:5605</td>\n",
       "    </tr>\n",
       "    <tr>\n",
       "      <th>4</th>\n",
       "      <td>hsa:673</td>\n",
       "      <td>hsa:5604</td>\n",
       "    </tr>\n",
       "  </tbody>\n",
       "</table>\n",
       "</div>"
      ],
      "text/plain": [
       "      Node1     Node2\n",
       "0   hsa:369  hsa:5604\n",
       "1   hsa:369  hsa:5605\n",
       "2  hsa:5894  hsa:5604\n",
       "3  hsa:5894  hsa:5605\n",
       "4   hsa:673  hsa:5604"
      ]
     },
     "execution_count": 19,
     "metadata": {},
     "output_type": "execute_result"
    }
   ],
   "source": [
    "all_reaction_pairs = cartesian_product_rows(df1=split_node1_df, df2=split_node2_df)\n",
    "all_reaction_pairs.columns = ['Node1', 'Node2']\n",
    "all_reaction_pairs.head()"
   ]
  },
  {
   "cell_type": "markdown",
   "metadata": {},
   "source": [
    "**ID Mapping using LinkDB + keep only SwissProt reviewed proteins**"
   ]
  },
  {
   "cell_type": "code",
   "execution_count": 21,
   "metadata": {},
   "outputs": [
    {
     "data": {
      "text/html": [
       "<div>\n",
       "<style scoped>\n",
       "    .dataframe tbody tr th:only-of-type {\n",
       "        vertical-align: middle;\n",
       "    }\n",
       "\n",
       "    .dataframe tbody tr th {\n",
       "        vertical-align: top;\n",
       "    }\n",
       "\n",
       "    .dataframe thead th {\n",
       "        text-align: right;\n",
       "    }\n",
       "</style>\n",
       "<table border=\"1\" class=\"dataframe\">\n",
       "  <thead>\n",
       "    <tr style=\"text-align: right;\">\n",
       "      <th></th>\n",
       "      <th>HSA</th>\n",
       "      <th>Uniprot</th>\n",
       "      <th>link_category</th>\n",
       "    </tr>\n",
       "  </thead>\n",
       "  <tbody>\n",
       "    <tr>\n",
       "      <th>0</th>\n",
       "      <td>hsa:1</td>\n",
       "      <td>up:P04217</td>\n",
       "      <td>equivalent</td>\n",
       "    </tr>\n",
       "    <tr>\n",
       "      <th>1</th>\n",
       "      <td>hsa:1</td>\n",
       "      <td>up:V9HWD8</td>\n",
       "      <td>equivalent</td>\n",
       "    </tr>\n",
       "    <tr>\n",
       "      <th>2</th>\n",
       "      <td>hsa:10</td>\n",
       "      <td>up:A4Z6T7</td>\n",
       "      <td>equivalent</td>\n",
       "    </tr>\n",
       "    <tr>\n",
       "      <th>3</th>\n",
       "      <td>hsa:10</td>\n",
       "      <td>up:P11245</td>\n",
       "      <td>equivalent</td>\n",
       "    </tr>\n",
       "    <tr>\n",
       "      <th>4</th>\n",
       "      <td>hsa:100</td>\n",
       "      <td>up:A0A0S2Z381</td>\n",
       "      <td>equivalent</td>\n",
       "    </tr>\n",
       "  </tbody>\n",
       "</table>\n",
       "</div>"
      ],
      "text/plain": [
       "       HSA        Uniprot link_category\n",
       "0    hsa:1      up:P04217    equivalent\n",
       "1    hsa:1      up:V9HWD8    equivalent\n",
       "2   hsa:10      up:A4Z6T7    equivalent\n",
       "3   hsa:10      up:P11245    equivalent\n",
       "4  hsa:100  up:A0A0S2Z381    equivalent"
      ]
     },
     "execution_count": 21,
     "metadata": {},
     "output_type": "execute_result"
    }
   ],
   "source": [
    "hsa_uniprot_df = pd.read_csv(\"hiv_raw_data/hsa_uniprot_03122025.list\", sep='\\t', header=None)\n",
    "hsa_uniprot_df.columns = ['HSA','Uniprot','link_category']\n",
    "hsa_uniprot_df.head()"
   ]
  },
  {
   "cell_type": "code",
   "execution_count": 22,
   "metadata": {},
   "outputs": [
    {
     "data": {
      "text/html": [
       "<div>\n",
       "<style scoped>\n",
       "    .dataframe tbody tr th:only-of-type {\n",
       "        vertical-align: middle;\n",
       "    }\n",
       "\n",
       "    .dataframe tbody tr th {\n",
       "        vertical-align: top;\n",
       "    }\n",
       "\n",
       "    .dataframe thead th {\n",
       "        text-align: right;\n",
       "    }\n",
       "</style>\n",
       "<table border=\"1\" class=\"dataframe\">\n",
       "  <thead>\n",
       "    <tr style=\"text-align: right;\">\n",
       "      <th></th>\n",
       "      <th>Node1</th>\n",
       "      <th>Node2</th>\n",
       "      <th>Node1_Uniprot</th>\n",
       "    </tr>\n",
       "  </thead>\n",
       "  <tbody>\n",
       "    <tr>\n",
       "      <th>0</th>\n",
       "      <td>hsa:369</td>\n",
       "      <td>hsa:5604</td>\n",
       "      <td>up:A0A024R178</td>\n",
       "    </tr>\n",
       "    <tr>\n",
       "      <th>1</th>\n",
       "      <td>hsa:369</td>\n",
       "      <td>hsa:5604</td>\n",
       "      <td>up:P10398</td>\n",
       "    </tr>\n",
       "    <tr>\n",
       "      <th>2</th>\n",
       "      <td>hsa:369</td>\n",
       "      <td>hsa:5605</td>\n",
       "      <td>up:A0A024R178</td>\n",
       "    </tr>\n",
       "    <tr>\n",
       "      <th>3</th>\n",
       "      <td>hsa:369</td>\n",
       "      <td>hsa:5605</td>\n",
       "      <td>up:P10398</td>\n",
       "    </tr>\n",
       "    <tr>\n",
       "      <th>4</th>\n",
       "      <td>hsa:5894</td>\n",
       "      <td>hsa:5604</td>\n",
       "      <td>up:L7RRS6</td>\n",
       "    </tr>\n",
       "  </tbody>\n",
       "</table>\n",
       "</div>"
      ],
      "text/plain": [
       "      Node1     Node2  Node1_Uniprot\n",
       "0   hsa:369  hsa:5604  up:A0A024R178\n",
       "1   hsa:369  hsa:5604      up:P10398\n",
       "2   hsa:369  hsa:5605  up:A0A024R178\n",
       "3   hsa:369  hsa:5605      up:P10398\n",
       "4  hsa:5894  hsa:5604      up:L7RRS6"
      ]
     },
     "execution_count": 22,
     "metadata": {},
     "output_type": "execute_result"
    }
   ],
   "source": [
    "# replace Node1 with UniprotID\n",
    "all_reaction_pairs = all_reaction_pairs.merge(hsa_uniprot_df[['HSA', 'Uniprot']], left_on='Node1', right_on='HSA', how='left').drop(columns=['HSA'])\n",
    "all_reaction_pairs.rename(columns={'Uniprot': 'Node1_Uniprot'}, inplace=True)\n",
    "all_reaction_pairs.head()"
   ]
  },
  {
   "cell_type": "code",
   "execution_count": 23,
   "metadata": {},
   "outputs": [
    {
     "data": {
      "text/html": [
       "<div>\n",
       "<style scoped>\n",
       "    .dataframe tbody tr th:only-of-type {\n",
       "        vertical-align: middle;\n",
       "    }\n",
       "\n",
       "    .dataframe tbody tr th {\n",
       "        vertical-align: top;\n",
       "    }\n",
       "\n",
       "    .dataframe thead th {\n",
       "        text-align: right;\n",
       "    }\n",
       "</style>\n",
       "<table border=\"1\" class=\"dataframe\">\n",
       "  <thead>\n",
       "    <tr style=\"text-align: right;\">\n",
       "      <th></th>\n",
       "      <th>Node1</th>\n",
       "      <th>Node2</th>\n",
       "      <th>Node1_Uniprot</th>\n",
       "      <th>Node2_Uniprot</th>\n",
       "    </tr>\n",
       "  </thead>\n",
       "  <tbody>\n",
       "    <tr>\n",
       "      <th>0</th>\n",
       "      <td>hsa:369</td>\n",
       "      <td>hsa:5604</td>\n",
       "      <td>up:A0A024R178</td>\n",
       "      <td>up:A4QPA9</td>\n",
       "    </tr>\n",
       "    <tr>\n",
       "      <th>1</th>\n",
       "      <td>hsa:369</td>\n",
       "      <td>hsa:5604</td>\n",
       "      <td>up:A0A024R178</td>\n",
       "      <td>up:Q02750</td>\n",
       "    </tr>\n",
       "    <tr>\n",
       "      <th>2</th>\n",
       "      <td>hsa:369</td>\n",
       "      <td>hsa:5604</td>\n",
       "      <td>up:P10398</td>\n",
       "      <td>up:A4QPA9</td>\n",
       "    </tr>\n",
       "    <tr>\n",
       "      <th>3</th>\n",
       "      <td>hsa:369</td>\n",
       "      <td>hsa:5604</td>\n",
       "      <td>up:P10398</td>\n",
       "      <td>up:Q02750</td>\n",
       "    </tr>\n",
       "    <tr>\n",
       "      <th>4</th>\n",
       "      <td>hsa:369</td>\n",
       "      <td>hsa:5605</td>\n",
       "      <td>up:A0A024R178</td>\n",
       "      <td>up:P36507</td>\n",
       "    </tr>\n",
       "  </tbody>\n",
       "</table>\n",
       "</div>"
      ],
      "text/plain": [
       "     Node1     Node2  Node1_Uniprot Node2_Uniprot\n",
       "0  hsa:369  hsa:5604  up:A0A024R178     up:A4QPA9\n",
       "1  hsa:369  hsa:5604  up:A0A024R178     up:Q02750\n",
       "2  hsa:369  hsa:5604      up:P10398     up:A4QPA9\n",
       "3  hsa:369  hsa:5604      up:P10398     up:Q02750\n",
       "4  hsa:369  hsa:5605  up:A0A024R178     up:P36507"
      ]
     },
     "execution_count": 23,
     "metadata": {},
     "output_type": "execute_result"
    }
   ],
   "source": [
    "# replace Node1 with UniprotID\n",
    "all_reaction_pairs = all_reaction_pairs.merge(hsa_uniprot_df[['HSA', 'Uniprot']], left_on='Node2', right_on='HSA', how='left').drop(columns=['HSA'])\n",
    "all_reaction_pairs.rename(columns={'Uniprot': 'Node2_Uniprot'}, inplace=True)\n",
    "all_reaction_pairs.head()"
   ]
  },
  {
   "cell_type": "code",
   "execution_count": 24,
   "metadata": {},
   "outputs": [
    {
     "data": {
      "text/html": [
       "<div>\n",
       "<style scoped>\n",
       "    .dataframe tbody tr th:only-of-type {\n",
       "        vertical-align: middle;\n",
       "    }\n",
       "\n",
       "    .dataframe tbody tr th {\n",
       "        vertical-align: top;\n",
       "    }\n",
       "\n",
       "    .dataframe thead th {\n",
       "        text-align: right;\n",
       "    }\n",
       "</style>\n",
       "<table border=\"1\" class=\"dataframe\">\n",
       "  <thead>\n",
       "    <tr style=\"text-align: right;\">\n",
       "      <th></th>\n",
       "      <th>Node1_Uniprot</th>\n",
       "      <th>Node2_Uniprot</th>\n",
       "    </tr>\n",
       "  </thead>\n",
       "  <tbody>\n",
       "    <tr>\n",
       "      <th>0</th>\n",
       "      <td>up:A0A024R178</td>\n",
       "      <td>up:A4QPA9</td>\n",
       "    </tr>\n",
       "    <tr>\n",
       "      <th>1</th>\n",
       "      <td>up:A0A024R178</td>\n",
       "      <td>up:Q02750</td>\n",
       "    </tr>\n",
       "    <tr>\n",
       "      <th>2</th>\n",
       "      <td>up:P10398</td>\n",
       "      <td>up:A4QPA9</td>\n",
       "    </tr>\n",
       "    <tr>\n",
       "      <th>3</th>\n",
       "      <td>up:P10398</td>\n",
       "      <td>up:Q02750</td>\n",
       "    </tr>\n",
       "    <tr>\n",
       "      <th>4</th>\n",
       "      <td>up:A0A024R178</td>\n",
       "      <td>up:P36507</td>\n",
       "    </tr>\n",
       "  </tbody>\n",
       "</table>\n",
       "</div>"
      ],
      "text/plain": [
       "   Node1_Uniprot Node2_Uniprot\n",
       "0  up:A0A024R178     up:A4QPA9\n",
       "1  up:A0A024R178     up:Q02750\n",
       "2      up:P10398     up:A4QPA9\n",
       "3      up:P10398     up:Q02750\n",
       "4  up:A0A024R178     up:P36507"
      ]
     },
     "execution_count": 24,
     "metadata": {},
     "output_type": "execute_result"
    }
   ],
   "source": [
    "all_reaction_pairs_uniprot = all_reaction_pairs.drop(columns=['Node1', 'Node2'])\n",
    "all_reaction_pairs_uniprot.head()"
   ]
  },
  {
   "cell_type": "code",
   "execution_count": 25,
   "metadata": {},
   "outputs": [
    {
     "name": "stderr",
     "output_type": "stream",
     "text": [
      "C:\\Users\\sumed\\AppData\\Local\\Temp\\ipykernel_21620\\578247303.py:2: FutureWarning: DataFrame.applymap has been deprecated. Use DataFrame.map instead.\n",
      "  all_reaction_pairs_uniprot = all_reaction_pairs_uniprot.applymap(lambda x: x.replace(\"up:\", \"\") if isinstance(x, str) else x)\n"
     ]
    },
    {
     "data": {
      "text/html": [
       "<div>\n",
       "<style scoped>\n",
       "    .dataframe tbody tr th:only-of-type {\n",
       "        vertical-align: middle;\n",
       "    }\n",
       "\n",
       "    .dataframe tbody tr th {\n",
       "        vertical-align: top;\n",
       "    }\n",
       "\n",
       "    .dataframe thead th {\n",
       "        text-align: right;\n",
       "    }\n",
       "</style>\n",
       "<table border=\"1\" class=\"dataframe\">\n",
       "  <thead>\n",
       "    <tr style=\"text-align: right;\">\n",
       "      <th></th>\n",
       "      <th>Node1_Uniprot</th>\n",
       "      <th>Node2_Uniprot</th>\n",
       "    </tr>\n",
       "  </thead>\n",
       "  <tbody>\n",
       "    <tr>\n",
       "      <th>0</th>\n",
       "      <td>A0A024R178</td>\n",
       "      <td>A4QPA9</td>\n",
       "    </tr>\n",
       "    <tr>\n",
       "      <th>1</th>\n",
       "      <td>A0A024R178</td>\n",
       "      <td>Q02750</td>\n",
       "    </tr>\n",
       "    <tr>\n",
       "      <th>2</th>\n",
       "      <td>P10398</td>\n",
       "      <td>A4QPA9</td>\n",
       "    </tr>\n",
       "    <tr>\n",
       "      <th>3</th>\n",
       "      <td>P10398</td>\n",
       "      <td>Q02750</td>\n",
       "    </tr>\n",
       "    <tr>\n",
       "      <th>4</th>\n",
       "      <td>A0A024R178</td>\n",
       "      <td>P36507</td>\n",
       "    </tr>\n",
       "  </tbody>\n",
       "</table>\n",
       "</div>"
      ],
      "text/plain": [
       "  Node1_Uniprot Node2_Uniprot\n",
       "0    A0A024R178        A4QPA9\n",
       "1    A0A024R178        Q02750\n",
       "2        P10398        A4QPA9\n",
       "3        P10398        Q02750\n",
       "4    A0A024R178        P36507"
      ]
     },
     "execution_count": 25,
     "metadata": {},
     "output_type": "execute_result"
    }
   ],
   "source": [
    "# Remove 'up:' from all strings excluding NaN\n",
    "all_reaction_pairs_uniprot = all_reaction_pairs_uniprot.applymap(lambda x: x.replace(\"up:\", \"\") if isinstance(x, str) else x)\n",
    "all_reaction_pairs_uniprot.head()"
   ]
  },
  {
   "cell_type": "code",
   "execution_count": 26,
   "metadata": {},
   "outputs": [],
   "source": [
    "def filter_dataframe(df):\n",
    "    base_url = \"https://www.genome.jp/entry/sp:\"\n",
    "    # list to keep track of rows to keep\n",
    "    rows_to_keep = []\n",
    "    df = df.dropna()\n",
    "    for index, row in df.iterrows():\n",
    "        n1_uniprot = row['Node1_Uniprot']\n",
    "        n2_uniprot = row['Node2_Uniprot']\n",
    "        url_n1 = f\"{base_url}{n1_uniprot}\"\n",
    "        response_n1 = requests.get(url_n1)\n",
    "        url_n2 = f\"{base_url}{n2_uniprot}\"\n",
    "        response_n2 = requests.get(url_n2)\n",
    "        if \"No such data was found.\" not in response_n1.text and \"No such data was found.\" not in response_n2.text:\n",
    "            rows_to_keep.append(index)\n",
    "            # print(df.loc[index])\n",
    "    # filter the DataFrame to keep only the desired rows\n",
    "    filtered_df = df.loc[rows_to_keep].reset_index(drop=True)\n",
    "    return filtered_df"
   ]
  },
  {
   "cell_type": "code",
   "execution_count": 27,
   "metadata": {},
   "outputs": [
    {
     "data": {
      "text/html": [
       "<div>\n",
       "<style scoped>\n",
       "    .dataframe tbody tr th:only-of-type {\n",
       "        vertical-align: middle;\n",
       "    }\n",
       "\n",
       "    .dataframe tbody tr th {\n",
       "        vertical-align: top;\n",
       "    }\n",
       "\n",
       "    .dataframe thead th {\n",
       "        text-align: right;\n",
       "    }\n",
       "</style>\n",
       "<table border=\"1\" class=\"dataframe\">\n",
       "  <thead>\n",
       "    <tr style=\"text-align: right;\">\n",
       "      <th></th>\n",
       "      <th>Node1_Uniprot</th>\n",
       "      <th>Node2_Uniprot</th>\n",
       "    </tr>\n",
       "  </thead>\n",
       "  <tbody>\n",
       "    <tr>\n",
       "      <th>0</th>\n",
       "      <td>P10398</td>\n",
       "      <td>Q02750</td>\n",
       "    </tr>\n",
       "    <tr>\n",
       "      <th>1</th>\n",
       "      <td>P10398</td>\n",
       "      <td>P36507</td>\n",
       "    </tr>\n",
       "    <tr>\n",
       "      <th>2</th>\n",
       "      <td>P04049</td>\n",
       "      <td>Q02750</td>\n",
       "    </tr>\n",
       "    <tr>\n",
       "      <th>3</th>\n",
       "      <td>P04049</td>\n",
       "      <td>P36507</td>\n",
       "    </tr>\n",
       "    <tr>\n",
       "      <th>4</th>\n",
       "      <td>P15056</td>\n",
       "      <td>Q02750</td>\n",
       "    </tr>\n",
       "  </tbody>\n",
       "</table>\n",
       "</div>"
      ],
      "text/plain": [
       "  Node1_Uniprot Node2_Uniprot\n",
       "0        P10398        Q02750\n",
       "1        P10398        P36507\n",
       "2        P04049        Q02750\n",
       "3        P04049        P36507\n",
       "4        P15056        Q02750"
      ]
     },
     "execution_count": 27,
     "metadata": {},
     "output_type": "execute_result"
    }
   ],
   "source": [
    "copy = all_reaction_pairs_uniprot.copy()\n",
    "all_reaction_pairs_swissprot = filter_dataframe(copy)\n",
    "all_reaction_pairs_swissprot.head()"
   ]
  },
  {
   "cell_type": "markdown",
   "metadata": {},
   "source": [
    "**Add directionality and edge weights**"
   ]
  },
  {
   "cell_type": "code",
   "execution_count": 28,
   "metadata": {},
   "outputs": [],
   "source": [
    "directionality = 'D'\n",
    "edge_weight = 1.0"
   ]
  },
  {
   "cell_type": "code",
   "execution_count": null,
   "metadata": {},
   "outputs": [],
   "source": [
    "all_reaction_pairs_swissprot['Prize'] = edge_weight\n",
    "all_reaction_pairs_swissprot['Directionality'] = directionality"
   ]
  },
  {
   "cell_type": "code",
   "execution_count": 30,
   "metadata": {},
   "outputs": [
    {
     "data": {
      "text/html": [
       "<div>\n",
       "<style scoped>\n",
       "    .dataframe tbody tr th:only-of-type {\n",
       "        vertical-align: middle;\n",
       "    }\n",
       "\n",
       "    .dataframe tbody tr th {\n",
       "        vertical-align: top;\n",
       "    }\n",
       "\n",
       "    .dataframe thead th {\n",
       "        text-align: right;\n",
       "    }\n",
       "</style>\n",
       "<table border=\"1\" class=\"dataframe\">\n",
       "  <thead>\n",
       "    <tr style=\"text-align: right;\">\n",
       "      <th></th>\n",
       "      <th>Node1_Uniprot</th>\n",
       "      <th>Node2_Uniprot</th>\n",
       "      <th>Directionality</th>\n",
       "      <th>Prize</th>\n",
       "    </tr>\n",
       "  </thead>\n",
       "  <tbody>\n",
       "    <tr>\n",
       "      <th>0</th>\n",
       "      <td>P10398</td>\n",
       "      <td>Q02750</td>\n",
       "      <td>D</td>\n",
       "      <td>1.0</td>\n",
       "    </tr>\n",
       "    <tr>\n",
       "      <th>1</th>\n",
       "      <td>P10398</td>\n",
       "      <td>P36507</td>\n",
       "      <td>D</td>\n",
       "      <td>1.0</td>\n",
       "    </tr>\n",
       "    <tr>\n",
       "      <th>2</th>\n",
       "      <td>P04049</td>\n",
       "      <td>Q02750</td>\n",
       "      <td>D</td>\n",
       "      <td>1.0</td>\n",
       "    </tr>\n",
       "    <tr>\n",
       "      <th>3</th>\n",
       "      <td>P04049</td>\n",
       "      <td>P36507</td>\n",
       "      <td>D</td>\n",
       "      <td>1.0</td>\n",
       "    </tr>\n",
       "    <tr>\n",
       "      <th>4</th>\n",
       "      <td>P15056</td>\n",
       "      <td>Q02750</td>\n",
       "      <td>D</td>\n",
       "      <td>1.0</td>\n",
       "    </tr>\n",
       "  </tbody>\n",
       "</table>\n",
       "</div>"
      ],
      "text/plain": [
       "  Node1_Uniprot Node2_Uniprot Directionality  Prize\n",
       "0        P10398        Q02750              D    1.0\n",
       "1        P10398        P36507              D    1.0\n",
       "2        P04049        Q02750              D    1.0\n",
       "3        P04049        P36507              D    1.0\n",
       "4        P15056        Q02750              D    1.0"
      ]
     },
     "execution_count": 30,
     "metadata": {},
     "output_type": "execute_result"
    }
   ],
   "source": [
    "all_reaction_pairs_swissprot.head()"
   ]
  },
  {
   "cell_type": "markdown",
   "metadata": {},
   "source": [
    "**Save file**"
   ]
  },
  {
   "cell_type": "code",
   "execution_count": 15,
   "metadata": {},
   "outputs": [],
   "source": [
    "all_reaction_pairs_swissprot.to_csv('erbb_edges_gold_standard.txt',sep='\\t',header=None, index=False)"
   ]
  }
 ],
 "metadata": {
  "kernelspec": {
   "display_name": "base",
   "language": "python",
   "name": "python3"
  },
  "language_info": {
   "codemirror_mode": {
    "name": "ipython",
    "version": 3
   },
   "file_extension": ".py",
   "mimetype": "text/x-python",
   "name": "python",
   "nbconvert_exporter": "python",
   "pygments_lexer": "ipython3",
   "version": "3.11.7"
  }
 },
 "nbformat": 4,
 "nbformat_minor": 2
}
