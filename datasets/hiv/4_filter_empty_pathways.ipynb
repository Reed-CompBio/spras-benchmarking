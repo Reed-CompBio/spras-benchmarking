{
 "cells": [
  {
   "cell_type": "code",
   "execution_count": 4,
   "id": "242b3c92-0170-458b-a46b-1fcabbb4a01c",
   "metadata": {},
   "outputs": [],
   "source": [
    "import os"
   ]
  },
  {
   "cell_type": "code",
   "execution_count": 5,
   "id": "66dc5430-b195-4422-a3da-9ad48491c29b",
   "metadata": {},
   "outputs": [],
   "source": [
    "hiv_preprocessing_results_path = \"spras-hiv-results/hiv-benchmarking-05-060-modified-v2\""
   ]
  },
  {
   "cell_type": "code",
   "execution_count": 6,
   "id": "1265f77c-c5a0-43d8-8d9d-60b55c602629",
   "metadata": {},
   "outputs": [],
   "source": [
    "def delete_empty_pathway_files_and_dirs(root_dir):\n",
    "    no_of_files_deleted = 0\n",
    "    for dirpath, dirnames, filenames in os.walk(root_dir, topdown=False):\n",
    "        # delete empty .txt files\n",
    "        for filename in filenames:\n",
    "            file_path = os.path.join(dirpath, filename)\n",
    "            if file_path.endswith('.txt') and os.path.isfile(file_path) and os.path.getsize(file_path) == 0:\n",
    "                print(\"Deleting File >>>\", file_path.replace('\\\\', '/'))\n",
    "                os.remove(file_path)\n",
    "                no_of_files_deleted += 1\n",
    "        \n",
    "        # look for remaining .txt files in the directory\n",
    "        txt_files_remaining = any(f.endswith('.txt') for f in os.listdir(dirpath))\n",
    "        \n",
    "        # delete directory if there are no remaining .txt files\n",
    "        if not txt_files_remaining:\n",
    "            print(\"Deleting Directory >>>\", dirpath.replace('\\\\', '/'))\n",
    "            for filename in os.listdir(dirpath):\n",
    "                file_path = os.path.join(dirpath, filename)\n",
    "                if os.path.isfile(file_path):\n",
    "                    print(\"Deleting File >>>\", file_path.replace('\\\\', '/'))\n",
    "                    os.remove(file_path)\n",
    "            os.rmdir(dirpath)\n",
    "    \n",
    "    print(no_of_files_deleted, \"file(s) have been deleted.\")"
   ]
  },
  {
   "cell_type": "code",
   "execution_count": 7,
   "id": "633bb432-c781-4706-9c68-87446f842397",
   "metadata": {},
   "outputs": [
    {
     "name": "stdout",
     "output_type": "stream",
     "text": [
      "0 file(s) have been deleted.\n"
     ]
    }
   ],
   "source": [
    "delete_empty_pathway_files_and_dirs(hiv_preprocessing_results_path)"
   ]
  }
 ],
 "metadata": {
  "kernelspec": {
   "display_name": "Python 3 (ipykernel)",
   "language": "python",
   "name": "python3"
  },
  "language_info": {
   "codemirror_mode": {
    "name": "ipython",
    "version": 3
   },
   "file_extension": ".py",
   "mimetype": "text/x-python",
   "name": "python",
   "nbconvert_exporter": "python",
   "pygments_lexer": "ipython3",
   "version": "3.11.7"
  }
 },
 "nbformat": 4,
 "nbformat_minor": 5
}
