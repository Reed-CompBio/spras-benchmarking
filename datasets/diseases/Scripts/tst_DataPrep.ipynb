{
 "cells": [
  {
   "cell_type": "markdown",
   "id": "5fa9c6a4",
   "metadata": {},
   "source": [
    "# Read and crop input data"
   ]
  },
  {
   "cell_type": "code",
   "execution_count": 131,
   "id": "e89ae42d",
   "metadata": {},
   "outputs": [],
   "source": [
    "import pandas as pd \n",
    "import requests\n",
    "\n",
    "integrated =  pd.read_csv('../raw/human_disease_integrated_full.tsv',sep = '\\t')\n",
    "integrated.columns = ['geneID','geneName','diseaseID','diseaseName','integrated_confidenceScore']\n",
    "# integrated = integrated.drop(columns=['geneName','diseaseName'])\n",
    "\n",
    "text_mining = pd.read_csv('../raw/human_disease_textmining_filtered.tsv',sep = '\\t')\n",
    "text_mining.columns= ['geneID','geneName','diseaseID','diseaseName','zScore','confidenceScore','sourceUrl']\n",
    "\n",
    "knowlege = pd.read_csv('../raw/human_disease_knowledge_filtered.tsv',sep = '\\t')\n",
    "knowlege.columns= ['geneID','geneName','diseaseID','diseaseName','sourceDB','evidenceType','confidenceScore']\n",
    "\n",
    "tiga = pd.read_csv('../raw/tiga_gene-trait_stats.tsv',sep='\\t')\n",
    "tiga = tiga[['ensemblId','efoId','trait','n_snp','n_snpw']]\n",
    "tiga = tiga.drop_duplicates(subset=['ensemblId','trait'])\n",
    "\n",
    "human_do = pd.read_csv('../raw/HumanDO.tsv',sep = '\\t')\n",
    "human_do = human_do.drop_duplicates(subset='label')\n",
    "human_do = human_do[['id','label']]\n",
    "\n",
    "tiga_do = tiga.merge(human_do,left_on='trait',right_on='label',how='inner',validate='m:1')"
   ]
  },
  {
   "cell_type": "markdown",
   "id": "c69231c9",
   "metadata": {},
   "source": [
    "# Map geneIDs in knowledge channel from ENSP to ENSG format\n"
   ]
  },
  {
   "cell_type": "code",
   "execution_count": null,
   "id": "7518c52c",
   "metadata": {},
   "outputs": [
    {
     "name": "stdout",
     "output_type": "stream",
     "text": [
      "7769\n"
     ]
    }
   ],
   "source": [
    "r = requests.post(\n",
    "url='https://biit.cs.ut.ee/gprofiler/api/convert/convert/',\n",
    "json={\n",
    "    'organism':'hsapiens',\n",
    "    'target':'ENSG',\n",
    "    'query': list(knowlege['geneID']),\n",
    "    }\n",
    ")\n",
    "\n",
    "results = r.json()['result']\n",
    "mapping ={}\n",
    "for x in results:\n",
    "    if x['converted'] != 'None':\n",
    "        mapping.update({x['incoming']:x['converted']})\n",
    "\n",
    "mapping_df = pd.DataFrame.from_dict(mapping.items())\n",
    "mapping_df.columns = ['ENSP','ENSG']\n",
    "knowlege_mapped = knowlege.merge(mapping_df,left_on='geneID',right_on='ENSP',how ='inner',validate='m:1')\n",
    "knowlege_mapped = knowlege_mapped.sort_values('confidenceScore',ascending=False).drop_duplicates(subset = ['ENSG','diseaseID'],keep=False).sort_index()"
   ]
  },
  {
   "cell_type": "markdown",
   "id": "d117f394",
   "metadata": {},
   "source": [
    "# Map geneIDs in text mining channel from ENSP to ENSG format"
   ]
  },
  {
   "cell_type": "code",
   "execution_count": null,
   "id": "8f4a7651",
   "metadata": {},
   "outputs": [],
   "source": [
    "r = requests.post(\n",
    "url='https://biit.cs.ut.ee/gprofiler/api/convert/convert/',\n",
    "json={\n",
    "    'organism':'hsapiens',\n",
    "    'target':'ENSG',\n",
    "    'query': list(text_mining['geneID']),\n",
    "    }\n",
    ")\n",
    "results = r.json()['result']\n",
    "mapping ={}\n",
    "for x in results:\n",
    "    if x['converted'] != 'None':\n",
    "        mapping.update({x['incoming']:x['converted']})\n",
    "\n",
    "mapping_df = pd.DataFrame.from_dict(mapping.items())\n",
    "mapping_df.columns = ['ENSP','ENSG']\n",
    "text_mining_mapped = text_mining.merge(mapping_df,left_on='geneID',right_on='ENSP',how ='inner',validate='m:1')\n",
    "text_mining_mapped = text_mining_mapped.sort_values('confidenceScore',ascending=False).drop_duplicates(subset = ['ENSG','diseaseID'],keep=False).sort_index()"
   ]
  },
  {
   "cell_type": "markdown",
   "id": "397a8c44",
   "metadata": {},
   "source": [
    "# Map geneIDs in integrated channel from ENSP to ENSG format ?"
   ]
  },
  {
   "cell_type": "code",
   "execution_count": null,
   "id": "c30b6171",
   "metadata": {},
   "outputs": [],
   "source": [
    "from more_itertools import chunked\n",
    "\n",
    "\n",
    "# r = requests.post(\n",
    "# url='https://biit.cs.ut.ee/gprofiler/api/convert/convert/',\n",
    "# json={\n",
    "#     'organism':'hsapiens',\n",
    "#     'target':'ENSG',\n",
    "#     'query': list(integrated['geneID']),\n",
    "#     }\n",
    "# )\n",
    "# results = r.json()['result']\n",
    "# mapping ={}\n",
    "# for x in results:\n",
    "#     if x['converted'] != 'None':\n",
    "#         mapping.update({x['incoming']:x['converted']})\n",
    "\n",
    "# mapping_df = pd.DataFrame.from_dict(mapping.items())\n",
    "# mapping_df.columns = ['ENSP','ENSG']\n",
    "# integrated_mapped = integrated.merge(mapping_df,left_on='geneID',right_on='ENSP',how ='inner',validate='m:1')\n",
    "# integrated_mapped = integrated_mapped.sort_values('confidenceScore',ascending=False).drop_duplicates(subset = ['ENSG','diseaseID'],keep=False).sort_index()"
   ]
  },
  {
   "cell_type": "code",
   "execution_count": 164,
   "id": "f421e072",
   "metadata": {},
   "outputs": [
    {
     "name": "stdout",
     "output_type": "stream",
     "text": [
      "[45.0, 151.0, 439.0]\n",
      "696441\n"
     ]
    }
   ],
   "source": [
    "\n",
    "import statistics as stats\n",
    "\n",
    "integrated = integrated[~integrated['diseaseName'].str.contains('ICD10')]\n",
    "integrated_group = integrated.groupby('diseaseName')\n",
    "integrated_dict = {k:v for k,v in integrated_group}\n",
    "integrated_count = {x:len(integrated_dict[x]) for x in integrated_dict.keys()}\n",
    "\n",
    "\n",
    "print(stats.quantiles(integrated_count.values()))\n",
    "\n",
    "integrated_threshold = {k:v  for (k,v) in integrated_count.items() if (v > 100 and v <400)}\n",
    "tst = integrated.loc[integrated['diseaseName'].isin(list(integrated_threshold.keys()))]\n",
    "\n",
    "print(len(tst))\n",
    "\n",
    "\n",
    "# print(integrated_count)"
   ]
  },
  {
   "cell_type": "markdown",
   "id": "72c1bde1",
   "metadata": {},
   "source": [
    "# Merge TIGA data with knowlege and experimental channel datasets"
   ]
  },
  {
   "cell_type": "code",
   "execution_count": 34,
   "id": "76c39a3b",
   "metadata": {},
   "outputs": [],
   "source": [
    "tiga_knowledge = knowlege_mapped.merge(tiga_do,left_on=['ENSG','diseaseID'],right_on=['ensemblId','id'],how='inner',validate='1:1')\n",
    "tiga_knowledge = tiga_knowledge[['ENSP','ENSG','geneName','trait','efoId','diseaseID','confidenceScore','n_snp','n_snpw']]\n",
    "\n",
    "tiga_text = text_mining_mapped.merge(tiga_do,left_on=['ENSG','diseaseID'],right_on=['ensemblId','id'],how='inner',validate='1:1')\n",
    "tiga_text = tiga_text[['ENSP','ENSG','geneName','trait','efoId','diseaseID','confidenceScore','n_snp','n_snpw']]\n"
   ]
  },
  {
   "cell_type": "markdown",
   "id": "c5bb12bd",
   "metadata": {},
   "source": [
    "# Select highest confidence scores for each channel"
   ]
  },
  {
   "cell_type": "code",
   "execution_count": 169,
   "id": "92380bf1",
   "metadata": {},
   "outputs": [
    {
     "name": "stdout",
     "output_type": "stream",
     "text": [
      "2435\n"
     ]
    }
   ],
   "source": [
    "txt = tiga_text[['ENSG','diseaseID','confidenceScore','n_snp','n_snpw','trait']]\n",
    "kn = tiga_knowledge[['ENSG','diseaseID','confidenceScore','n_snp','n_snpw','trait']]\n",
    "\n",
    "inner = txt.merge(kn,on=['ENSG','diseaseID'],how='inner')\n",
    "inner['confidenceScore'] = inner.apply(lambda x: max(x.confidenceScore_x,x.confidenceScore_y),axis=1)\n",
    "inner = inner.rename(columns={'n_snp_x':'n_snp','n_snpw_x':'n_snpw','trait_x':'trait'})\n",
    "inner = inner[['ENSG','diseaseID','confidenceScore','n_snp','n_snpw','trait']]\n",
    "\n",
    "txt_only = txt.merge(kn,on=['ENSG','diseaseID'],how='left')\n",
    "txt_only = txt_only[txt_only['confidenceScore_y'].isna()]\n",
    "txt_only = txt_only.rename(columns={'confidenceScore_x':'confidenceScore','n_snp_x':'n_snp','n_snpw_x':'n_snpw','trait_x':'trait'})\n",
    "txt_only = txt_only[['ENSG','diseaseID','confidenceScore','n_snp','n_snpw','trait']]\n",
    "\n",
    "kn_only = txt.merge(kn,on=['ENSG','diseaseID'],how='right')\n",
    "kn_only = kn_only[kn_only['confidenceScore_x'].isna()]\n",
    "kn_only = kn_only.rename(columns={'confidenceScore_y':'confidenceScore','n_snp_y':'n_snp','n_snpw_y':'n_snpw','trait_y':'trait'})\n",
    "kn_only = kn_only[['ENSG','diseaseID','confidenceScore','n_snp','n_snpw','trait']]\n",
    "\n",
    "df_list = [inner,txt_only,kn_only]\n",
    "inputs = pd.concat(df_list)\n",
    "\n",
    "print(len(inputs))"
   ]
  },
  {
   "cell_type": "markdown",
   "id": "6a7e8650",
   "metadata": {},
   "source": [
    "# Select TIGA data with no associated DISEASE data"
   ]
  },
  {
   "cell_type": "code",
   "execution_count": null,
   "id": "d0884875",
   "metadata": {},
   "outputs": [],
   "source": [
    "tiga_only = inputs.merge(tiga_do,left_on=['ENSG','diseaseID'],right_on=['ensemblId','id'],how = 'right')\n",
    "tiga_only = tiga_only[tiga_only['ENSG'].isna()]\n",
    "\n"
   ]
  },
  {
   "cell_type": "markdown",
   "id": "2795ce85",
   "metadata": {},
   "source": [
    "# Generate quantile stats"
   ]
  },
  {
   "cell_type": "code",
   "execution_count": null,
   "id": "6ffb178f",
   "metadata": {},
   "outputs": [
    {
     "name": "stdout",
     "output_type": "stream",
     "text": [
      "296\n"
     ]
    }
   ],
   "source": [
    "import statistics as stats\n",
    "\n",
    "inputs_group = inputs.groupby('trait')\n",
    "inputs_dict = {k:v for k,v in inputs_group}\n",
    "inputs_count = {x:len(inputs_dict[x]) for x in inputs_dict.keys()}\n",
    "\n",
    "\n",
    "print('count quantiles: ',stats.quantiles(inputs_count.values()))\n",
    "print('score quantiles: ',stats.quantiles(inputs['confidenceScore']))\n"
   ]
  },
  {
   "cell_type": "markdown",
   "id": "b0717a0b",
   "metadata": {},
   "source": [
    "# Threshold inputs based on quantiles"
   ]
  },
  {
   "cell_type": "code",
   "execution_count": 168,
   "id": "f8b36c56",
   "metadata": {},
   "outputs": [
    {
     "name": "stdout",
     "output_type": "stream",
     "text": [
      "41\n",
      "COVID-19 80\n",
      "Crohn's disease 40\n",
      "alcohol dependence 15\n",
      "allergic disease 107\n",
      "alopecia 15\n",
      "alopecia areata 15\n",
      "ankylosing spondylitis 13\n",
      "asthma 203\n",
      "atrial fibrillation 21\n",
      "attention deficit hyperactivity disorder 109\n",
      "autism spectrum disorder 26\n",
      "bipolar disorder 87\n",
      "cancer 141\n",
      "cholelithiasis 11\n",
      "chronic obstructive pulmonary disease 21\n",
      "cleft lip 15\n",
      "coronary artery disease 189\n",
      "diabetes mellitus 54\n",
      "endometriosis 40\n",
      "glaucoma 29\n",
      "gout 23\n",
      "hypertension 99\n",
      "hypothyroidism 39\n",
      "inflammatory bowel disease 106\n",
      "keratoconus 12\n",
      "kidney disease 11\n",
      "leprosy 18\n",
      "melanoma 20\n",
      "multiple sclerosis 20\n",
      "nicotine dependence 15\n",
      "obesity 23\n",
      "osteoarthritis 13\n",
      "osteoporosis 22\n",
      "polycystic ovary syndrome 19\n",
      "psoriasis 34\n",
      "refractive error 12\n",
      "restless legs syndrome 11\n",
      "rheumatoid arthritis 48\n",
      "schizophrenia 296\n",
      "substance abuse 36\n",
      "systemic scleroderma 34\n"
     ]
    }
   ],
   "source": [
    "inputs_score_threshold = inputs.loc[(inputs['confidenceScore']>=4)]\n",
    "\n",
    "input_score_group = inputs.groupby('trait')\n",
    "input_score_dict = {k:v for k,v in input_score_group}\n",
    "input_score_count = {x:len(input_score_dict[x]) for x in input_score_dict.keys()}\n",
    "inputs_count_threshold = {k:v  for (k,v) in input_score_count.items() if (v > 10)}\n",
    "\n",
    "\n",
    "inputs_combined_threshold = inputs_score_threshold.loc[inputs_score_threshold['trait'].isin(list(inputs_count_threshold.keys()))]\n",
    "\n",
    "# print(len(inputs_combined_threshold))\n",
    "# print(inputs_combined_threshold)\n",
    "\n",
    "print(len(inputs_count_threshold))\n",
    "for i in inputs_count_threshold:\n",
    "    print(i,inputs_count_threshold[i])"
   ]
  }
 ],
 "metadata": {
  "kernelspec": {
   "display_name": "base",
   "language": "python",
   "name": "python3"
  },
  "language_info": {
   "codemirror_mode": {
    "name": "ipython",
    "version": 3
   },
   "file_extension": ".py",
   "mimetype": "text/x-python",
   "name": "python",
   "nbconvert_exporter": "python",
   "pygments_lexer": "ipython3",
   "version": "3.11.5"
  }
 },
 "nbformat": 4,
 "nbformat_minor": 5
}
