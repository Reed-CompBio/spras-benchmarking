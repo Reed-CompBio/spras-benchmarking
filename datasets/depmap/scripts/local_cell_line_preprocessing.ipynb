{
 "cells": [
  {
   "cell_type": "code",
   "execution_count": 25,
   "id": "48c390a6-5fa4-46c8-b62c-b2d3a1a7b472",
   "metadata": {},
   "outputs": [],
   "source": [
    "import pandas as pd \n",
    "import re \n",
    "import matplotlib.pyplot as plt \n",
    "import seaborn as sns\n",
    "import os "
   ]
  },
  {
   "cell_type": "code",
   "execution_count": 26,
   "id": "02e7ffa1",
   "metadata": {},
   "outputs": [
    {
     "name": "stdout",
     "output_type": "stream",
     "text": [
      "pandas: 2.2.2\n",
      "re: built-in module (no version)\n",
      "matplotlib: 3.9.2\n",
      "seaborn: 0.13.2\n",
      "os: built-in module (no version)\n"
     ]
    }
   ],
   "source": [
    "print(\"pandas:\", pd.__version__)\n",
    "print(\"re: built-in module (no version)\")\n",
    "print(\"matplotlib:\", plt.matplotlib.__version__)\n",
    "print(\"seaborn:\", sns.__version__)\n",
    "print(\"os: built-in module (no version)\")"
   ]
  },
  {
   "cell_type": "markdown",
   "id": "69e314b4",
   "metadata": {},
   "source": [
    "## Load all raw datasets "
   ]
  },
  {
   "cell_type": "code",
   "execution_count": 29,
   "id": "ce631dee-b464-46e7-815b-dcb2a9578e4d",
   "metadata": {},
   "outputs": [],
   "source": [
    "# load all file types with profiling data\n",
    "#damaging mutations matrix \n",
    "base_dir = os.path.join(\"..\", \"raw\")  # relative path to raw directory \n",
    "damaging_mutations_df = pd.read_csv(os.path.join(base_dir, \"OmicsSomaticMutationsMatrixDamaging.csv\"),index_col = 0 )\n",
    "#omics profiles \n",
    "omics_profiles = pd.read_csv(os.path.join(base_dir, \"OmicsProfiles.csv\"), index_col=0)\n",
    "#omics expresion data \n",
    "omics_expression = pd.read_csv(os.path.join(base_dir, \"OmicsExpressionProteinCodingGenesTPMLogp1.csv\"), index_col=0)\n",
    "#omics copy number variation data \n",
    "omics_cnv = pd.read_csv(os.path.join(base_dir, \"OmicsCNGeneWGS.csv\"), index_col=0)\n",
    "#estimated gene dependency probability based on CRISPR data \n",
    "CRISPR_dependency = pd.read_csv(os.path.join(base_dir, \"CRISPRGeneDependency.csv\"), index_col=0)"
   ]
  },
  {
   "cell_type": "markdown",
   "id": "1eef6763",
   "metadata": {},
   "source": [
    "## confirm cell line present in all data types"
   ]
  },
  {
   "cell_type": "code",
   "execution_count": 31,
   "id": "00087704",
   "metadata": {},
   "outputs": [
    {
     "name": "stdout",
     "output_type": "stream",
     "text": [
      "Found 'FADU' cell line, model ID: ACH-000846 (row ACH-000846)\n",
      "FADU cell line (Model ID: ACH-000846) present in mutations matrix at row 739 \n",
      "FADU cell line (Model ID: ACH-000846) present in CRISPR dependencies at row 568 \n",
      "FADU cell line (Model ID: ACH-000846) present in omics CNV at row 486 \n",
      "FADU cell line (Model ID: ACH-000846) present in omics expressions at row 941 \n"
     ]
    }
   ],
   "source": [
    "cell_line_name = \"FADU\" \n",
    "#check with omics profiles first \n",
    "match = omics_profiles[omics_profiles[\"StrippedCellLineName\"].str.lower()== cell_line_name.lower()]\n",
    "\n",
    "\n",
    "if match.empty: \n",
    "    print(f\"Cell line '{cell_line_name}' not found in OmicsProfiles.\")\n",
    "else: \n",
    "    model_id = match.index[0]  # ModelID is the index, not a column\n",
    "    profile_row = match.index[0]\n",
    "    print(f\"Found '{cell_line_name}' cell line, model ID: {model_id} (row {profile_row})\")\n",
    "    # check with damaging mutations matrix \n",
    "    if model_id in damaging_mutations_df.index: \n",
    "        row_mut = damaging_mutations_df.index.get_loc(model_id) \n",
    "        print(f\"{cell_line_name} cell line (Model ID: {model_id}) present in mutations matrix at row {row_mut} \") \n",
    "    else: \n",
    "        print(f\"{cell_line_name} not found in mutation matrix\") \n",
    "    # check with CRISPR dependency \n",
    "    if model_id in CRISPR_dependency.index: \n",
    "        row_dep = CRISPR_dependency.index.get_loc(model_id) \n",
    "        print(f\"{cell_line_name} cell line (Model ID: {model_id}) present in CRISPR dependencies at row {row_dep} \") \n",
    "    else: \n",
    "        print(f\"{cell_line_name} not found in CRISPR dependency data\") \n",
    "    # check with CNV\n",
    "    if model_id in omics_cnv.index: \n",
    "        row_cnv = omics_cnv.index.get_loc(model_id) \n",
    "        print(f\"{cell_line_name} cell line (Model ID: {model_id}) present in omics CNV at row {row_cnv} \") \n",
    "    else: \n",
    "        print(f\"{cell_line_name} not found in omics CNV data\") \n",
    "    #check with expression \n",
    "    if model_id in omics_expression.index: \n",
    "        row_exp = omics_expression.index.get_loc(model_id) \n",
    "        print(f\"{cell_line_name} cell line (Model ID: {model_id}) present in omics expressions at row {row_exp} \") \n",
    "    else: \n",
    "        print(f\"{cell_line_name} not found in expression data \")"
   ]
  },
  {
   "cell_type": "markdown",
   "id": "952df059",
   "metadata": {},
   "source": [
    "## CRISPR Gene Dependency data analysis "
   ]
  },
  {
   "cell_type": "code",
   "execution_count": null,
   "id": "1da4dfbc",
   "metadata": {},
   "outputs": [],
   "source": [
    "# plot the CRISPR dependency data \n",
    "# transpose the CRISPR dependency data for easier analysis\n",
    "CRISPR_depndency_t = CRISPR_dependency.T \n",
    "# number of genes in each cell line passing a certain threshold    \n",
    "thresholds = [0.5, 0.6, 0.7, 0.8, 0.9]\n",
    "threshold_summary = {}\n",
    "colors = ['orange', 'blue', 'green', 'red', 'purple']\n",
    "for i, threshold in enumerate(thresholds): \n",
    "    genes_above_threshold = (CRISPR_depndency_t >= threshold).sum(axis=0).sort_values()\n",
    "    threshold_summary[threshold] = genes_above_threshold\n",
    "    thredshold_summary_df = pd.DataFrame(threshold_summary)\n",
    "    #summary of number of genes above threshold for each cell line\n",
    "    summary_stats = thredshold_summary_df.describe(percentiles=[0.25, 0.5, 0.75])\n",
    "    print(f\"Summary statistics for threshold {threshold}:\")\n",
    "    print(summary_stats[threshold])\n",
    "    print(f\"Number of genes above threshold {threshold} in each cell line:\")\n",
    "    print(genes_above_threshold.head(5))\n",
    "    # plot number of genes above threshold for each cell line \n",
    "    plt.figure(figsize=(10, 6))\n",
    "    ax = sns.histplot(genes_above_threshold, bins=20, kde=True, color=colors[i % len(colors)])\n",
    "    plt.title(f\"Number of genes above threshold {threshold} per cell line\")\n",
    "    plt.xlabel(\"Number of genes\")\n",
    "    plt.ylabel(\"Number of cell lines\")\n",
    "    for patch in ax.patches:\n",
    "        count = int(patch.get_height())\n",
    "        if count > 0: \n",
    "            ax.annotate(f\"{count}\", \n",
    "                        (patch.get_x() + patch.get_width() / 2, patch.get_height()), \n",
    "                        ha='center', va='bottom')\n",
    "    plt.show()\n"
   ]
  },
  {
   "cell_type": "code",
   "execution_count": null,
   "id": "62d4ba6f",
   "metadata": {},
   "outputs": [],
   "source": [
    "# plotting the CRISPR dependency data for a specific cell line\n",
    "# get specific cell line gene dependency data summary\n",
    "cell_line_data = CRISPR_dependency.loc[model_id]\n",
    "print(f\"Summary statistics for {cell_line_name} cell line CRISPR dependency probabilities:\")\n",
    "print(cell_line_data.describe())\n",
    "# get the genes above the threshold for the specific cell line\n",
    "threshold = 0.5\n",
    "cell_line_genes_above_threshold = genes_above_threshold[cell_line_data.name]\n",
    "print(f\"genes in {cell_line_name} passing the {threshold} gene dependency threshold: {cell_line_genes_above_threshold}\")\n",
    "# make it for multiple thresholds\n",
    "#bucket counts \n",
    "bin_counts=pd.cut(cell_line_data, bins=[0, 0.25, 0.5,0.7, 0.9, 1.0], labels=[\"0-0.25\", \"0.25-0.5\", \"0.5-0.7\", \"0.7-0.9\", \"0.9-1.0\"]).value_counts().sort_index()\n",
    "print(f\"Dependency score distribution for {cell_line_name} cell line:\")\n",
    "print(bin_counts)\n",
    "# plot distirbution for the selected cell line \n",
    "plt.figure(figsize=(10, 6))\n",
    "ax = sns.histplot(cell_line_data, bins=20, kde=True, color ='orange')\n",
    "for pat in ax.patches:\n",
    "    if pat.get_height() > 0:\n",
    "        ax.annotate(f'{int(pat.get_height())}', \n",
    "                    (pat.get_x() + pat.get_width() / 2, pat.get_height()), \n",
    "                    ha='center', va='bottom', fontsize=10, color='black') \n",
    "plt.title(f\"CRISPR Dependecy Probabilities Distribution for {cell_line_name} cell line\")\n",
    "plt.xlabel(\"CRISPR Dependency Probability\")\n",
    "plt.ylabel(\"Number of Genes\")\n"
   ]
  },
  {
   "cell_type": "markdown",
   "id": "1a15eed0",
   "metadata": {},
   "source": [
    "## UniProt Mapping Process (includes both the Gene Index number attempt and Gene Symbol pipeline)"
   ]
  },
  {
   "cell_type": "code",
   "execution_count": null,
   "id": "0bb31ee5",
   "metadata": {},
   "outputs": [],
   "source": [
    "# pipeline for making the prize file \n",
    "# get the gene symbols from damaging mutations matrix as input file for Uniprot web service \n",
    "# use gene numbers instead of gene symbols \n",
    "preprocessed_dir = os.path.join(\"..\", \"processed\", \"gene_index_mapping_attempt\") \n",
    "os.makedirs(preprocessed_dir, exist_ok=True)\n",
    "gene_columns = damaging_mutations_df.columns.tolist()[1:]\n",
    "gene_numbers = [re.search(r'\\(([^)]+)\\)', col).group(1) for col in gene_columns if isinstance(col, str) and \"unknown\" not in col.lower() and re.search(r'\\(([^)]+)\\)', col)]   \n",
    "#get rid of unknown gene numbers saved as \"\"s \n",
    "genes_numbers_df = pd.DataFrame(gene_numbers, columns=[\"GeneNumber\"])\n",
    "#save the gene numbers to a csv file for uniprot mapping\n",
    "gene_columns_df = pd.DataFrame(gene_columns, columns=[\"GeneColumns\"])\n",
    "gene_columns_df.to_csv(os.path.join(preprocessed_dir, \"gene_columns.txt\"), index=False, sep='\\t', header=True)\n",
    "genes_numbers_df.to_csv(os.path.join(preprocessed_dir, \"gene_numbers.txt\"), index=False, sep='\\t', header=True)"
   ]
  },
  {
   "cell_type": "code",
   "execution_count": 135,
   "id": "0646790e",
   "metadata": {},
   "outputs": [
    {
     "name": "stdout",
     "output_type": "stream",
     "text": [
      "Number of unique reviewed mappings: 17498\n"
     ]
    }
   ],
   "source": [
    "#mapping task ran on uniprot web service 7/24/2025, from GeneID to UniprotKB \n",
    "raw_id_mapping = pd.read_csv(os.path.join(preprocessed_dir, \"raw_uniprot_idmapping_2025_07_24.tsv\"), sep='\\t')\n",
    "raw_id_mapping\n",
    "# multiply mappings for the same gene index number - duplicates are unreviewed, use reviewed only\n",
    "id_mapping = raw_id_mapping[raw_id_mapping[\"Reviewed\"] == \"reviewed\"]\n",
    "id_mapping\n",
    "# check for reviewed unique mappings \n",
    "unique_mappings = id_mapping['From'].unique()\n",
    "print(f\"Number of unique reviewed mappings: {len(unique_mappings)}\")   \n",
    "id_mapping.to_csv(os.path.join(preprocessed_dir, \"reviewed_id_mapping_2025_07_24.tsv\"), sep='\\t', index=False, header=True)\n"
   ]
  },
  {
   "cell_type": "code",
   "execution_count": null,
   "id": "ef3d7c49",
   "metadata": {},
   "outputs": [],
   "source": [
    "#check for duplicates \n",
    "duplicate_ids = id_mapping['From'].value_counts()   \n",
    "duplicate_ids = duplicate_ids[duplicate_ids > 1]\n",
    "duplicated_entries = id_mapping[id_mapping['From'].isin(duplicate_ids.index)]\n",
    "unique_duplicates = duplicated_entries['From'].unique()\n",
    "print(f\"Number of unique reviewed mappings: {len(unique_duplicates)}\")   \n",
    "# duplicated_entries.to_csv(os.path.join(preprocessed_dir, \"duplicated_mapping_entries.tsv\"), sep='\\t', index=False)\n",
    "duplicated_entries\n",
    "#need further work to go with gene index number mapping "
   ]
  },
  {
   "cell_type": "code",
   "execution_count": null,
   "id": "9291acc0",
   "metadata": {},
   "outputs": [],
   "source": [
    "# pipeline for mapping and making prize file using Gene Symbols instead \n",
    "# get the gene symbols from damaging mutations matrix as input file for Uniprot web service\n",
    "gene_columns = damaging_mutations_df.columns.tolist()[1:]\n",
    "gene_symbols = [re.match(r\"^(.*?) \\(\", col).group(1) if \" (\" in col else col for col in gene_columns]\n",
    "genes_df = pd.DataFrame(gene_symbols, columns=[\"GeneSymbol\"])\n",
    "print(genes_df.head())\n",
    "genes_df.to_csv(os.path.join(preprocessed_dir, \"DamagingMutationsGeneSymbols_20250718.csv\"), index=False)"
   ]
  },
  {
   "cell_type": "code",
   "execution_count": null,
   "id": "c248115d",
   "metadata": {},
   "outputs": [],
   "source": [
    "uniprot_map = pd.read_csv(os.path.join(\"..\", \"processed\", \"DamagingMutations_idMapping_20250718.tsv\"), sep='\\t')\n",
    "# mapping obtained from Uniprot web service 7/18/2025, from GeneSymbol to UniprotKB"
   ]
  },
  {
   "cell_type": "markdown",
   "id": "2e0cd9ea",
   "metadata": {},
   "source": [
    "## Preparing Prize input file "
   ]
  },
  {
   "cell_type": "code",
   "execution_count": 32,
   "id": "5222b26f",
   "metadata": {},
   "outputs": [
    {
     "name": "stdout",
     "output_type": "stream",
     "text": [
      "Summary of damaging mutations data for FADU cell line (Model ID: ACH-000846):\n",
      "count    19517.000000\n",
      "mean         0.003228\n",
      "std          0.067453\n",
      "min          0.000000\n",
      "25%          0.000000\n",
      "50%          0.000000\n",
      "75%          0.000000\n",
      "max          2.000000\n",
      "Name: ACH-000846, dtype: float64\n",
      "ACH-000846\n",
      "0.0    19467\n",
      "1.0       37\n",
      "2.0       13\n",
      "Name: count, dtype: int64\n"
     ]
    }
   ],
   "source": [
    "# extract mutation data for the cell line \n",
    "mutation_row = damaging_mutations_df.loc[model_id]\n",
    "print(f\"Summary of damaging mutations data for {cell_line_name} cell line (Model ID: {model_id}):\")\n",
    "print(mutation_row.describe())\n",
    "print(mutation_row.value_counts().sort_index()  )\n",
    "# mapping gene symbols to Uniprot IDs \n",
    "gene_to_uniprot = dict(zip(uniprot_map[\"From\"], uniprot_map[\"Entry Name\"]))\n",
    "rows = []\n",
    "for col, score in mutation_row.items(): \n",
    "    #extract gene symbols for mapping\n",
    "    match = re.match(r\"^(.*?) \\(\", col)\n",
    "    gene_symbol = match.group(1) if match else col\n",
    "    # only map for gene symbols in uniprot map \n",
    "    if gene_symbol in gene_to_uniprot:\n",
    "        uniprot_id = gene_to_uniprot[gene_symbol]\n",
    "        rows.append([gene_symbol, uniprot_id, score])\n",
    "mapped_prizes_df = pd.DataFrame(rows, columns=[\"GeneSymbol\", \"UniprotID\", \"Prize\"])"
   ]
  },
  {
   "cell_type": "code",
   "execution_count": 35,
   "id": "6453e961",
   "metadata": {},
   "outputs": [
    {
     "name": "stdout",
     "output_type": "stream",
     "text": [
      "Prize file saved for cell line 'FADU' at: ..\\processed\\FADU_cell_line_prizes_all.txt\n"
     ]
    }
   ],
   "source": [
    "prizes_input_file = mapped_prizes_df[mapped_prizes_df.columns[1:]].rename(columns={\"UniprotID\": \"NODEID\", \"Prize\":\"prize\"})\n",
    "# save the prizes input as txt for spras \n",
    "output_path = os.path.join(\"..\", \"processed\", f\"{cell_line_name}_cell_line_prizes_all.txt\")\n",
    "prizes_input_file.to_csv(output_path, sep='\\t', index=False, header=True)\n",
    "print(f\"Prize file saved for cell line '{cell_line_name}' at: {output_path}\")"
   ]
  },
  {
   "cell_type": "code",
   "execution_count": 38,
   "id": "3acda45a",
   "metadata": {},
   "outputs": [
    {
     "name": "stdout",
     "output_type": "stream",
     "text": [
      "Prize file saved for cell line 'FADU' at: ..\\processed\\FADU_cell_line_prizes_input_nonzero.txt\n"
     ]
    }
   ],
   "source": [
    "nonzero_prizes_input_file = prizes_input_file[prizes_input_file[\"prize\"] > 0]\n",
    "nonzero_prizes_input_file\n",
    "nonzero_output_path = os.path.join(\"..\", \"processed\", f\"{cell_line_name}_cell_line_prizes_input_nonzero.txt\")\n",
    "nonzero_prizes_input_file.to_csv(nonzero_output_path, sep='\\t', index=False, header=True)\n",
    "print(f\"Prize file saved for cell line '{cell_line_name}' at: {nonzero_output_path}\")"
   ]
  },
  {
   "cell_type": "markdown",
   "id": "aea1b0c8",
   "metadata": {},
   "source": [
    "## Making Gold standard file for the selected cell line based on gene dependency 0.5 cutoff"
   ]
  },
  {
   "cell_type": "code",
   "execution_count": null,
   "id": "ef5a354d",
   "metadata": {},
   "outputs": [
    {
     "name": "stdout",
     "output_type": "stream",
     "text": [
      "Mapped CRISPR dependency data for cell line 'FADU':\n"
     ]
    }
   ],
   "source": [
    "# map Uniprot IDs to gene symbols in the CRISPR dependency data \n",
    "cell_line_dependency = CRISPR_dependency.loc[model_id]\n",
    "filtered_dependency = cell_line_dependency[cell_line_dependency > 0.5]\n",
    "mapped_dependency = [] \n",
    "for gene, dependency in filtered_dependency.items():\n",
    "    match = re.match(r\"^(.*?) \\(\", gene)\n",
    "    gene_symbol = match.group(1) if match else gene\n",
    "    if gene_symbol in gene_to_uniprot:\n",
    "        uniprot_id = gene_to_uniprot[gene_symbol]\n",
    "        mapped_dependency.append([gene_symbol, uniprot_id, dependency])\n",
    "mapped_dependency_df = pd.DataFrame(mapped_dependency, columns=[\"GeneSymbol\", \"UniprotID\", \"Dependency\"])\n",
    "# save mapped dependency as gold standard file \n",
    "gold_standard = mapped_dependency_df[mapped_dependency_df.columns[1]]\n",
    "gold_standard_output_path = os.path.join(\"..\", \"processed\", f\"{cell_line_name}_gold_standard_test.txt\")\n",
    "gold_standard.to_csv(gold_standard_output_path, sep='\\t', index=False, header=False)"
   ]
  },
  {
   "cell_type": "code",
   "execution_count": null,
   "id": "cdd19fe4",
   "metadata": {},
   "outputs": [],
   "source": []
  }
 ],
 "metadata": {
  "kernelspec": {
   "display_name": "base",
   "language": "python",
   "name": "python3"
  },
  "language_info": {
   "codemirror_mode": {
    "name": "ipython",
    "version": 3
   },
   "file_extension": ".py",
   "mimetype": "text/x-python",
   "name": "python",
   "nbconvert_exporter": "python",
   "pygments_lexer": "ipython3",
   "version": "3.12.7"
  }
 },
 "nbformat": 4,
 "nbformat_minor": 5
}
