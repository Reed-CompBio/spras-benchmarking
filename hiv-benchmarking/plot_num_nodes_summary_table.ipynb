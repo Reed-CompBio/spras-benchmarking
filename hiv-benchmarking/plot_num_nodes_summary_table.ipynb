{
 "cells": [
  {
   "cell_type": "code",
   "execution_count": 1,
   "id": "ff83667b-3c8a-48f3-899a-ad0ec8da0b89",
   "metadata": {},
   "outputs": [],
   "source": [
    "import pandas as pd\n",
    "import matplotlib.pyplot as plt"
   ]
  },
  {
   "cell_type": "markdown",
   "id": "e4b9697f-aab6-4f46-af3a-170bb789eeda",
   "metadata": {},
   "source": [
    "### hiv05 summary table - number of nodes histogram"
   ]
  },
  {
   "cell_type": "code",
   "execution_count": 2,
   "id": "73f14ff8-ca74-4263-80b0-0f3260d8eac2",
   "metadata": {},
   "outputs": [],
   "source": [
    "hiv05_summary = pd.read_csv('C:/Users/sumed/BDS-SROP-24/spras-hiv-results/hiv-benchmarking-05-060-modified-v2/hiv05-pathway-summary.txt', sep='\\t')"
   ]
  },
  {
   "cell_type": "code",
   "execution_count": 3,
   "id": "f0e0c77c-293d-4d96-8344-c807a19271f2",
   "metadata": {},
   "outputs": [
    {
     "data": {
      "text/html": [
       "<div>\n",
       "<style scoped>\n",
       "    .dataframe tbody tr th:only-of-type {\n",
       "        vertical-align: middle;\n",
       "    }\n",
       "\n",
       "    .dataframe tbody tr th {\n",
       "        vertical-align: top;\n",
       "    }\n",
       "\n",
       "    .dataframe thead th {\n",
       "        text-align: right;\n",
       "    }\n",
       "</style>\n",
       "<table border=\"1\" class=\"dataframe\">\n",
       "  <thead>\n",
       "    <tr style=\"text-align: right;\">\n",
       "      <th></th>\n",
       "      <th>Name</th>\n",
       "      <th>Number of nodes</th>\n",
       "      <th>Number of undirected edges</th>\n",
       "      <th>Number of connected components</th>\n",
       "      <th>Nodes in prize</th>\n",
       "      <th>Nodes in sources</th>\n",
       "      <th>Nodes in targets</th>\n",
       "    </tr>\n",
       "  </thead>\n",
       "  <tbody>\n",
       "    <tr>\n",
       "      <th>0</th>\n",
       "      <td>output/hiv-omicsintegrator1-params-2G7CMNV/pat...</td>\n",
       "      <td>51</td>\n",
       "      <td>27</td>\n",
       "      <td>24</td>\n",
       "      <td>51</td>\n",
       "      <td>0</td>\n",
       "      <td>0</td>\n",
       "    </tr>\n",
       "    <tr>\n",
       "      <th>1</th>\n",
       "      <td>output/hiv-omicsintegrator1-params-2NFVB7W/pat...</td>\n",
       "      <td>8</td>\n",
       "      <td>4</td>\n",
       "      <td>4</td>\n",
       "      <td>8</td>\n",
       "      <td>0</td>\n",
       "      <td>0</td>\n",
       "    </tr>\n",
       "    <tr>\n",
       "      <th>2</th>\n",
       "      <td>output/hiv-omicsintegrator1-params-2NKIR7L/pat...</td>\n",
       "      <td>21</td>\n",
       "      <td>11</td>\n",
       "      <td>10</td>\n",
       "      <td>21</td>\n",
       "      <td>0</td>\n",
       "      <td>0</td>\n",
       "    </tr>\n",
       "    <tr>\n",
       "      <th>3</th>\n",
       "      <td>output/hiv-omicsintegrator1-params-2NL4RDV/pat...</td>\n",
       "      <td>0</td>\n",
       "      <td>0</td>\n",
       "      <td>0</td>\n",
       "      <td>0</td>\n",
       "      <td>0</td>\n",
       "      <td>0</td>\n",
       "    </tr>\n",
       "    <tr>\n",
       "      <th>4</th>\n",
       "      <td>output/hiv-omicsintegrator1-params-422WXNM/pat...</td>\n",
       "      <td>10</td>\n",
       "      <td>5</td>\n",
       "      <td>5</td>\n",
       "      <td>10</td>\n",
       "      <td>0</td>\n",
       "      <td>0</td>\n",
       "    </tr>\n",
       "  </tbody>\n",
       "</table>\n",
       "</div>"
      ],
      "text/plain": [
       "                                                Name  Number of nodes  \\\n",
       "0  output/hiv-omicsintegrator1-params-2G7CMNV/pat...               51   \n",
       "1  output/hiv-omicsintegrator1-params-2NFVB7W/pat...                8   \n",
       "2  output/hiv-omicsintegrator1-params-2NKIR7L/pat...               21   \n",
       "3  output/hiv-omicsintegrator1-params-2NL4RDV/pat...                0   \n",
       "4  output/hiv-omicsintegrator1-params-422WXNM/pat...               10   \n",
       "\n",
       "   Number of undirected edges  Number of connected components  Nodes in prize  \\\n",
       "0                          27                              24              51   \n",
       "1                           4                               4               8   \n",
       "2                          11                              10              21   \n",
       "3                           0                               0               0   \n",
       "4                           5                               5              10   \n",
       "\n",
       "   Nodes in sources  Nodes in targets  \n",
       "0                 0                 0  \n",
       "1                 0                 0  \n",
       "2                 0                 0  \n",
       "3                 0                 0  \n",
       "4                 0                 0  "
      ]
     },
     "execution_count": 3,
     "metadata": {},
     "output_type": "execute_result"
    }
   ],
   "source": [
    "hiv05_summary.head()"
   ]
  },
  {
   "cell_type": "code",
   "execution_count": 4,
   "id": "4f8f0518-1143-423e-a514-7bf8608958dc",
   "metadata": {},
   "outputs": [
    {
     "data": {
      "image/png": "[encoded data removed]",
      "text/plain": [
       "<Figure size 640x480 with 1 Axes>"
      ]
     },
     "metadata": {},
     "output_type": "display_data"
    }
   ],
   "source": [
    "value_counts = hiv05_summary['Number of nodes'].value_counts()\n",
    "# Sort the index (which represents the unique values in 'Number of nodes') in ascending order\n",
    "sorted_value_counts = value_counts.sort_index()\n",
    "sorted_value_counts.plot(kind='bar')\n",
    "plt.xlabel('Number of nodes')\n",
    "plt.ylabel('Count')\n",
    "plt.title('Number of nodes value counts - hiv05-pathway-summary')\n",
    "plt.show()"
   ]
  },
  {
   "cell_type": "markdown",
   "id": "531a65aa-136b-4595-972f-4735786a9d9d",
   "metadata": {},
   "source": [
    "### hiv060 summary table - number of nodes histogram"
   ]
  },
  {
   "cell_type": "code",
   "execution_count": 5,
   "id": "50bd204d-a946-42c0-9371-b903bd6ad9c4",
   "metadata": {},
   "outputs": [],
   "source": [
    "hiv060_summary = pd.read_csv('C:/Users/sumed/BDS-SROP-24/spras-hiv-results/hiv-benchmarking-05-060-modified-v2/hiv060-pathway-summary.txt', sep='\\t')"
   ]
  },
  {
   "cell_type": "code",
   "execution_count": 6,
   "id": "7d4b240d-c6cf-4056-98ac-9a5461f611d7",
   "metadata": {},
   "outputs": [
    {
     "data": {
      "text/html": [
       "<div>\n",
       "<style scoped>\n",
       "    .dataframe tbody tr th:only-of-type {\n",
       "        vertical-align: middle;\n",
       "    }\n",
       "\n",
       "    .dataframe tbody tr th {\n",
       "        vertical-align: top;\n",
       "    }\n",
       "\n",
       "    .dataframe thead th {\n",
       "        text-align: right;\n",
       "    }\n",
       "</style>\n",
       "<table border=\"1\" class=\"dataframe\">\n",
       "  <thead>\n",
       "    <tr style=\"text-align: right;\">\n",
       "      <th></th>\n",
       "      <th>Name</th>\n",
       "      <th>Number of nodes</th>\n",
       "      <th>Number of undirected edges</th>\n",
       "      <th>Number of connected components</th>\n",
       "      <th>Nodes in prize</th>\n",
       "      <th>Nodes in sources</th>\n",
       "      <th>Nodes in targets</th>\n",
       "    </tr>\n",
       "  </thead>\n",
       "  <tbody>\n",
       "    <tr>\n",
       "      <th>0</th>\n",
       "      <td>output/hiv060-omicsintegrator1-params-2G7CMNV/...</td>\n",
       "      <td>188</td>\n",
       "      <td>122</td>\n",
       "      <td>66</td>\n",
       "      <td>188</td>\n",
       "      <td>0</td>\n",
       "      <td>0</td>\n",
       "    </tr>\n",
       "    <tr>\n",
       "      <th>1</th>\n",
       "      <td>output/hiv060-omicsintegrator1-params-2NFVB7W/...</td>\n",
       "      <td>24</td>\n",
       "      <td>12</td>\n",
       "      <td>12</td>\n",
       "      <td>24</td>\n",
       "      <td>0</td>\n",
       "      <td>0</td>\n",
       "    </tr>\n",
       "    <tr>\n",
       "      <th>2</th>\n",
       "      <td>output/hiv060-omicsintegrator1-params-2NKIR7L/...</td>\n",
       "      <td>82</td>\n",
       "      <td>46</td>\n",
       "      <td>36</td>\n",
       "      <td>82</td>\n",
       "      <td>0</td>\n",
       "      <td>0</td>\n",
       "    </tr>\n",
       "    <tr>\n",
       "      <th>3</th>\n",
       "      <td>output/hiv060-omicsintegrator1-params-2NL4RDV/...</td>\n",
       "      <td>2</td>\n",
       "      <td>1</td>\n",
       "      <td>1</td>\n",
       "      <td>2</td>\n",
       "      <td>0</td>\n",
       "      <td>0</td>\n",
       "    </tr>\n",
       "    <tr>\n",
       "      <th>4</th>\n",
       "      <td>output/hiv060-omicsintegrator1-params-422WXNM/...</td>\n",
       "      <td>28</td>\n",
       "      <td>14</td>\n",
       "      <td>14</td>\n",
       "      <td>28</td>\n",
       "      <td>0</td>\n",
       "      <td>0</td>\n",
       "    </tr>\n",
       "  </tbody>\n",
       "</table>\n",
       "</div>"
      ],
      "text/plain": [
       "                                                Name  Number of nodes  \\\n",
       "0  output/hiv060-omicsintegrator1-params-2G7CMNV/...              188   \n",
       "1  output/hiv060-omicsintegrator1-params-2NFVB7W/...               24   \n",
       "2  output/hiv060-omicsintegrator1-params-2NKIR7L/...               82   \n",
       "3  output/hiv060-omicsintegrator1-params-2NL4RDV/...                2   \n",
       "4  output/hiv060-omicsintegrator1-params-422WXNM/...               28   \n",
       "\n",
       "   Number of undirected edges  Number of connected components  Nodes in prize  \\\n",
       "0                         122                              66             188   \n",
       "1                          12                              12              24   \n",
       "2                          46                              36              82   \n",
       "3                           1                               1               2   \n",
       "4                          14                              14              28   \n",
       "\n",
       "   Nodes in sources  Nodes in targets  \n",
       "0                 0                 0  \n",
       "1                 0                 0  \n",
       "2                 0                 0  \n",
       "3                 0                 0  \n",
       "4                 0                 0  "
      ]
     },
     "execution_count": 6,
     "metadata": {},
     "output_type": "execute_result"
    }
   ],
   "source": [
    "hiv060_summary.head()"
   ]
  },
  {
   "cell_type": "code",
   "execution_count": 7,
   "id": "bd1fc698-2c5c-42c0-b7f5-9e9281a9d6d2",
   "metadata": {},
   "outputs": [
    {
     "data": {
      "image/png": "[encoded data removed]",
      "text/plain": [
       "<Figure size 640x480 with 1 Axes>"
      ]
     },
     "metadata": {},
     "output_type": "display_data"
    }
   ],
   "source": [
    "value_counts = hiv060_summary['Number of nodes'].value_counts()\n",
    "# Sort the index (which represents the unique values in 'Number of nodes') in ascending order\n",
    "sorted_value_counts = value_counts.sort_index()\n",
    "sorted_value_counts.plot(kind='bar')\n",
    "plt.xlabel('Number of nodes')\n",
    "plt.ylabel('Count')\n",
    "plt.title('Number of nodes value counts - hiv060-pathway-summary')\n",
    "plt.show()"
   ]
  },
  {
   "cell_type": "code",
   "execution_count": null,
   "id": "bcfb1607-f60f-44db-a66f-ca6221e61449",
   "metadata": {},
   "outputs": [],
   "source": []
  }
 ],
 "metadata": {
  "kernelspec": {
   "display_name": "Python 3 (ipykernel)",
   "language": "python",
   "name": "python3"
  },
  "language_info": {
   "codemirror_mode": {
    "name": "ipython",
    "version": 3
   },
   "file_extension": ".py",
   "mimetype": "text/x-python",
   "name": "python",
   "nbconvert_exporter": "python",
   "pygments_lexer": "ipython3",
   "version": "3.11.7"
  }
 },
 "nbformat": 4,
 "nbformat_minor": 5
}
