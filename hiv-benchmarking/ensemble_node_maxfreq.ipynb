{
 "cells": [
  {
   "cell_type": "markdown",
   "id": "d66515df-7369-46a0-8f09-b31bff4c44d0",
   "metadata": {},
   "source": [
    "### Load ensemble pathway and Assign highest frequency associated with each node to the respective node "
   ]
  },
  {
   "cell_type": "code",
   "execution_count": 1,
   "id": "af93ac20-1b5c-4747-b82a-8d299936afa6",
   "metadata": {},
   "outputs": [],
   "source": [
    "import pandas as pd"
   ]
  },
  {
   "cell_type": "markdown",
   "id": "516212f2-9cd5-4afb-a8a9-9fb8db085dab",
   "metadata": {},
   "source": [
    "replace the ensemble pathway path for 05 or 060 and uncomment to_csv code cell to save"
   ]
  },
  {
   "cell_type": "code",
   "execution_count": 3,
   "id": "5c900269-77ad-4a42-b4c9-582544a05306",
   "metadata": {},
   "outputs": [
    {
     "data": {
      "text/html": [
       "<div>\n",
       "<style scoped>\n",
       "    .dataframe tbody tr th:only-of-type {\n",
       "        vertical-align: middle;\n",
       "    }\n",
       "\n",
       "    .dataframe tbody tr th {\n",
       "        vertical-align: top;\n",
       "    }\n",
       "\n",
       "    .dataframe thead th {\n",
       "        text-align: right;\n",
       "    }\n",
       "</style>\n",
       "<table border=\"1\" class=\"dataframe\">\n",
       "  <thead>\n",
       "    <tr style=\"text-align: right;\">\n",
       "      <th></th>\n",
       "      <th>Node1</th>\n",
       "      <th>Node2</th>\n",
       "      <th>Frequency</th>\n",
       "      <th>Direction</th>\n",
       "    </tr>\n",
       "  </thead>\n",
       "  <tbody>\n",
       "    <tr>\n",
       "      <th>0</th>\n",
       "      <td>1433B_HUMAN</td>\n",
       "      <td>FRYL_HUMAN</td>\n",
       "      <td>0.04</td>\n",
       "      <td>U</td>\n",
       "    </tr>\n",
       "    <tr>\n",
       "      <th>1</th>\n",
       "      <td>1433B_HUMAN</td>\n",
       "      <td>L7RRS6_HUMAN</td>\n",
       "      <td>0.04</td>\n",
       "      <td>U</td>\n",
       "    </tr>\n",
       "    <tr>\n",
       "      <th>2</th>\n",
       "      <td>1433B_HUMAN</td>\n",
       "      <td>PI3R4_HUMAN</td>\n",
       "      <td>0.04</td>\n",
       "      <td>U</td>\n",
       "    </tr>\n",
       "    <tr>\n",
       "      <th>3</th>\n",
       "      <td>1433B_HUMAN</td>\n",
       "      <td>WEE1_HUMAN</td>\n",
       "      <td>0.04</td>\n",
       "      <td>U</td>\n",
       "    </tr>\n",
       "    <tr>\n",
       "      <th>4</th>\n",
       "      <td>1433E_HUMAN</td>\n",
       "      <td>HDAC4_HUMAN</td>\n",
       "      <td>0.04</td>\n",
       "      <td>U</td>\n",
       "    </tr>\n",
       "  </tbody>\n",
       "</table>\n",
       "</div>"
      ],
      "text/plain": [
       "         Node1         Node2  Frequency Direction\n",
       "0  1433B_HUMAN    FRYL_HUMAN       0.04         U\n",
       "1  1433B_HUMAN  L7RRS6_HUMAN       0.04         U\n",
       "2  1433B_HUMAN   PI3R4_HUMAN       0.04         U\n",
       "3  1433B_HUMAN    WEE1_HUMAN       0.04         U\n",
       "4  1433E_HUMAN   HDAC4_HUMAN       0.04         U"
      ]
     },
     "execution_count": 3,
     "metadata": {},
     "output_type": "execute_result"
    }
   ],
   "source": [
    "ensemble_pathway_path = \"C:/Users/sumed/BDS-SROP-24/spras-hiv-results/hiv-benchmarking-05-060-modified-v2/hiv060-ml/ensemble-pathway.txt\"\n",
    "ensemble_pathway_df = pd.read_csv(ensemble_pathway_path, sep='\\t')\n",
    "ensemble_pathway_df.head()"
   ]
  },
  {
   "cell_type": "code",
   "execution_count": 4,
   "id": "cb0f5fc0-9a39-4cbc-af9b-cbcc9777d878",
   "metadata": {},
   "outputs": [
    {
     "data": {
      "text/plain": [
       "0.33"
      ]
     },
     "execution_count": 4,
     "metadata": {},
     "output_type": "execute_result"
    }
   ],
   "source": [
    "ensemble_pathway_df['Frequency'].max()"
   ]
  },
  {
   "cell_type": "code",
   "execution_count": 5,
   "id": "6d430e86-96a6-4a76-8069-4db1a17969e1",
   "metadata": {},
   "outputs": [
    {
     "data": {
      "text/html": [
       "<div>\n",
       "<style scoped>\n",
       "    .dataframe tbody tr th:only-of-type {\n",
       "        vertical-align: middle;\n",
       "    }\n",
       "\n",
       "    .dataframe tbody tr th {\n",
       "        vertical-align: top;\n",
       "    }\n",
       "\n",
       "    .dataframe thead th {\n",
       "        text-align: right;\n",
       "    }\n",
       "</style>\n",
       "<table border=\"1\" class=\"dataframe\">\n",
       "  <thead>\n",
       "    <tr style=\"text-align: right;\">\n",
       "      <th></th>\n",
       "      <th>Node1</th>\n",
       "      <th>Frequency</th>\n",
       "    </tr>\n",
       "  </thead>\n",
       "  <tbody>\n",
       "    <tr>\n",
       "      <th>0</th>\n",
       "      <td>1433B_HUMAN</td>\n",
       "      <td>0.04</td>\n",
       "    </tr>\n",
       "    <tr>\n",
       "      <th>1</th>\n",
       "      <td>1433B_HUMAN</td>\n",
       "      <td>0.04</td>\n",
       "    </tr>\n",
       "    <tr>\n",
       "      <th>2</th>\n",
       "      <td>1433B_HUMAN</td>\n",
       "      <td>0.04</td>\n",
       "    </tr>\n",
       "    <tr>\n",
       "      <th>3</th>\n",
       "      <td>1433B_HUMAN</td>\n",
       "      <td>0.04</td>\n",
       "    </tr>\n",
       "    <tr>\n",
       "      <th>4</th>\n",
       "      <td>1433E_HUMAN</td>\n",
       "      <td>0.04</td>\n",
       "    </tr>\n",
       "  </tbody>\n",
       "</table>\n",
       "</div>"
      ],
      "text/plain": [
       "         Node1  Frequency\n",
       "0  1433B_HUMAN       0.04\n",
       "1  1433B_HUMAN       0.04\n",
       "2  1433B_HUMAN       0.04\n",
       "3  1433B_HUMAN       0.04\n",
       "4  1433E_HUMAN       0.04"
      ]
     },
     "execution_count": 5,
     "metadata": {},
     "output_type": "execute_result"
    }
   ],
   "source": [
    "node1_freq = ensemble_pathway_df.drop(columns = ['Node2', 'Direction'])\n",
    "node1_freq.head()"
   ]
  },
  {
   "cell_type": "code",
   "execution_count": 6,
   "id": "bff28f1d-7f67-4d7d-9517-0e49592ef2be",
   "metadata": {},
   "outputs": [
    {
     "data": {
      "text/html": [
       "<div>\n",
       "<style scoped>\n",
       "    .dataframe tbody tr th:only-of-type {\n",
       "        vertical-align: middle;\n",
       "    }\n",
       "\n",
       "    .dataframe tbody tr th {\n",
       "        vertical-align: top;\n",
       "    }\n",
       "\n",
       "    .dataframe thead th {\n",
       "        text-align: right;\n",
       "    }\n",
       "</style>\n",
       "<table border=\"1\" class=\"dataframe\">\n",
       "  <thead>\n",
       "    <tr style=\"text-align: right;\">\n",
       "      <th></th>\n",
       "      <th>Node2</th>\n",
       "      <th>Frequency</th>\n",
       "    </tr>\n",
       "  </thead>\n",
       "  <tbody>\n",
       "    <tr>\n",
       "      <th>0</th>\n",
       "      <td>FRYL_HUMAN</td>\n",
       "      <td>0.04</td>\n",
       "    </tr>\n",
       "    <tr>\n",
       "      <th>1</th>\n",
       "      <td>L7RRS6_HUMAN</td>\n",
       "      <td>0.04</td>\n",
       "    </tr>\n",
       "    <tr>\n",
       "      <th>2</th>\n",
       "      <td>PI3R4_HUMAN</td>\n",
       "      <td>0.04</td>\n",
       "    </tr>\n",
       "    <tr>\n",
       "      <th>3</th>\n",
       "      <td>WEE1_HUMAN</td>\n",
       "      <td>0.04</td>\n",
       "    </tr>\n",
       "    <tr>\n",
       "      <th>4</th>\n",
       "      <td>HDAC4_HUMAN</td>\n",
       "      <td>0.04</td>\n",
       "    </tr>\n",
       "  </tbody>\n",
       "</table>\n",
       "</div>"
      ],
      "text/plain": [
       "          Node2  Frequency\n",
       "0    FRYL_HUMAN       0.04\n",
       "1  L7RRS6_HUMAN       0.04\n",
       "2   PI3R4_HUMAN       0.04\n",
       "3    WEE1_HUMAN       0.04\n",
       "4   HDAC4_HUMAN       0.04"
      ]
     },
     "execution_count": 6,
     "metadata": {},
     "output_type": "execute_result"
    }
   ],
   "source": [
    "node2_freq = ensemble_pathway_df.drop(columns = ['Node1', 'Direction'])\n",
    "node2_freq.head()"
   ]
  },
  {
   "cell_type": "code",
   "execution_count": 7,
   "id": "759dc8b7-320d-4ac3-aed7-598dc0f58b74",
   "metadata": {},
   "outputs": [
    {
     "data": {
      "text/html": [
       "<div>\n",
       "<style scoped>\n",
       "    .dataframe tbody tr th:only-of-type {\n",
       "        vertical-align: middle;\n",
       "    }\n",
       "\n",
       "    .dataframe tbody tr th {\n",
       "        vertical-align: top;\n",
       "    }\n",
       "\n",
       "    .dataframe thead th {\n",
       "        text-align: right;\n",
       "    }\n",
       "</style>\n",
       "<table border=\"1\" class=\"dataframe\">\n",
       "  <thead>\n",
       "    <tr style=\"text-align: right;\">\n",
       "      <th></th>\n",
       "      <th>Node1</th>\n",
       "      <th>Freq1</th>\n",
       "    </tr>\n",
       "  </thead>\n",
       "  <tbody>\n",
       "    <tr>\n",
       "      <th>0</th>\n",
       "      <td>1433B_HUMAN</td>\n",
       "      <td>0.04</td>\n",
       "    </tr>\n",
       "    <tr>\n",
       "      <th>1</th>\n",
       "      <td>1433E_HUMAN</td>\n",
       "      <td>0.04</td>\n",
       "    </tr>\n",
       "    <tr>\n",
       "      <th>2</th>\n",
       "      <td>1433G_HUMAN</td>\n",
       "      <td>0.04</td>\n",
       "    </tr>\n",
       "    <tr>\n",
       "      <th>3</th>\n",
       "      <td>1433T_HUMAN</td>\n",
       "      <td>0.04</td>\n",
       "    </tr>\n",
       "    <tr>\n",
       "      <th>4</th>\n",
       "      <td>2A5A_HUMAN</td>\n",
       "      <td>0.08</td>\n",
       "    </tr>\n",
       "  </tbody>\n",
       "</table>\n",
       "</div>"
      ],
      "text/plain": [
       "         Node1  Freq1\n",
       "0  1433B_HUMAN   0.04\n",
       "1  1433E_HUMAN   0.04\n",
       "2  1433G_HUMAN   0.04\n",
       "3  1433T_HUMAN   0.04\n",
       "4   2A5A_HUMAN   0.08"
      ]
     },
     "execution_count": 7,
     "metadata": {},
     "output_type": "execute_result"
    }
   ],
   "source": [
    "max_node1_freq = node1_freq.groupby(['Node1']).max().reset_index()\n",
    "max_node1_freq.rename(columns = {'Frequency': 'Freq1'}, inplace = True)\n",
    "max_node1_freq.head()"
   ]
  },
  {
   "cell_type": "code",
   "execution_count": 8,
   "id": "425c4afc-231d-4cba-9a4e-40b97850b3dc",
   "metadata": {},
   "outputs": [
    {
     "data": {
      "text/html": [
       "<div>\n",
       "<style scoped>\n",
       "    .dataframe tbody tr th:only-of-type {\n",
       "        vertical-align: middle;\n",
       "    }\n",
       "\n",
       "    .dataframe tbody tr th {\n",
       "        vertical-align: top;\n",
       "    }\n",
       "\n",
       "    .dataframe thead th {\n",
       "        text-align: right;\n",
       "    }\n",
       "</style>\n",
       "<table border=\"1\" class=\"dataframe\">\n",
       "  <thead>\n",
       "    <tr style=\"text-align: right;\">\n",
       "      <th></th>\n",
       "      <th>Node2</th>\n",
       "      <th>Freq2</th>\n",
       "    </tr>\n",
       "  </thead>\n",
       "  <tbody>\n",
       "    <tr>\n",
       "      <th>0</th>\n",
       "      <td>2A5D_HUMAN</td>\n",
       "      <td>0.04</td>\n",
       "    </tr>\n",
       "    <tr>\n",
       "      <th>1</th>\n",
       "      <td>2AAB_HUMAN</td>\n",
       "      <td>0.04</td>\n",
       "    </tr>\n",
       "    <tr>\n",
       "      <th>2</th>\n",
       "      <td>3BP5L_HUMAN</td>\n",
       "      <td>0.04</td>\n",
       "    </tr>\n",
       "    <tr>\n",
       "      <th>3</th>\n",
       "      <td>4EBP1_HUMAN</td>\n",
       "      <td>0.04</td>\n",
       "    </tr>\n",
       "    <tr>\n",
       "      <th>4</th>\n",
       "      <td>4ET_HUMAN</td>\n",
       "      <td>0.04</td>\n",
       "    </tr>\n",
       "  </tbody>\n",
       "</table>\n",
       "</div>"
      ],
      "text/plain": [
       "         Node2  Freq2\n",
       "0   2A5D_HUMAN   0.04\n",
       "1   2AAB_HUMAN   0.04\n",
       "2  3BP5L_HUMAN   0.04\n",
       "3  4EBP1_HUMAN   0.04\n",
       "4    4ET_HUMAN   0.04"
      ]
     },
     "execution_count": 8,
     "metadata": {},
     "output_type": "execute_result"
    }
   ],
   "source": [
    "max_node2_freq = node2_freq.groupby(['Node2']).max().reset_index()\n",
    "max_node2_freq.rename(columns = {'Frequency': 'Freq2'}, inplace = True)\n",
    "max_node2_freq.head()"
   ]
  },
  {
   "cell_type": "code",
   "execution_count": 9,
   "id": "bedc8e24-8aaa-451e-bf46-c33e8a7f5b84",
   "metadata": {},
   "outputs": [
    {
     "data": {
      "text/html": [
       "<div>\n",
       "<style scoped>\n",
       "    .dataframe tbody tr th:only-of-type {\n",
       "        vertical-align: middle;\n",
       "    }\n",
       "\n",
       "    .dataframe tbody tr th {\n",
       "        vertical-align: top;\n",
       "    }\n",
       "\n",
       "    .dataframe thead th {\n",
       "        text-align: right;\n",
       "    }\n",
       "</style>\n",
       "<table border=\"1\" class=\"dataframe\">\n",
       "  <thead>\n",
       "    <tr style=\"text-align: right;\">\n",
       "      <th></th>\n",
       "      <th>Node1</th>\n",
       "      <th>Freq1</th>\n",
       "      <th>Node2</th>\n",
       "      <th>Freq2</th>\n",
       "    </tr>\n",
       "  </thead>\n",
       "  <tbody>\n",
       "    <tr>\n",
       "      <th>0</th>\n",
       "      <td>1433B_HUMAN</td>\n",
       "      <td>0.04</td>\n",
       "      <td>NaN</td>\n",
       "      <td>NaN</td>\n",
       "    </tr>\n",
       "    <tr>\n",
       "      <th>1</th>\n",
       "      <td>1433E_HUMAN</td>\n",
       "      <td>0.04</td>\n",
       "      <td>NaN</td>\n",
       "      <td>NaN</td>\n",
       "    </tr>\n",
       "    <tr>\n",
       "      <th>2</th>\n",
       "      <td>1433G_HUMAN</td>\n",
       "      <td>0.04</td>\n",
       "      <td>NaN</td>\n",
       "      <td>NaN</td>\n",
       "    </tr>\n",
       "    <tr>\n",
       "      <th>3</th>\n",
       "      <td>1433T_HUMAN</td>\n",
       "      <td>0.04</td>\n",
       "      <td>NaN</td>\n",
       "      <td>NaN</td>\n",
       "    </tr>\n",
       "    <tr>\n",
       "      <th>4</th>\n",
       "      <td>2A5A_HUMAN</td>\n",
       "      <td>0.08</td>\n",
       "      <td>NaN</td>\n",
       "      <td>NaN</td>\n",
       "    </tr>\n",
       "  </tbody>\n",
       "</table>\n",
       "</div>"
      ],
      "text/plain": [
       "         Node1  Freq1 Node2  Freq2\n",
       "0  1433B_HUMAN   0.04   NaN    NaN\n",
       "1  1433E_HUMAN   0.04   NaN    NaN\n",
       "2  1433G_HUMAN   0.04   NaN    NaN\n",
       "3  1433T_HUMAN   0.04   NaN    NaN\n",
       "4   2A5A_HUMAN   0.08   NaN    NaN"
      ]
     },
     "execution_count": 9,
     "metadata": {},
     "output_type": "execute_result"
    }
   ],
   "source": [
    "node_df_merged = max_node1_freq.merge(max_node2_freq, left_on='Node1', right_on='Node2', how='outer')\n",
    "node_df_merged.head()"
   ]
  },
  {
   "cell_type": "code",
   "execution_count": 10,
   "id": "67b42aa4-6e77-485f-b04b-46a4dfda5c9b",
   "metadata": {},
   "outputs": [],
   "source": [
    "def select_max_freq_and_node(row):\n",
    "    max_freq = 0\n",
    "    node = \"\"\n",
    "    if pd.isna(row['Node2']) and pd.isna(row['Freq2']):\n",
    "        max_freq = row['Freq1']\n",
    "        node = row['Node1']\n",
    "    elif pd.isna(row['Node1']) and pd.isna(row['Freq1']):\n",
    "        max_freq = row['Freq2']\n",
    "        node = row['Node2']\n",
    "    else:\n",
    "        max_freq = max(row['Freq1'], row['Freq2'])\n",
    "        node = row['Node1']\n",
    "    return node, max_freq"
   ]
  },
  {
   "cell_type": "code",
   "execution_count": 11,
   "id": "f24474f9-8872-469a-b650-695b08862665",
   "metadata": {},
   "outputs": [
    {
     "data": {
      "text/html": [
       "<div>\n",
       "<style scoped>\n",
       "    .dataframe tbody tr th:only-of-type {\n",
       "        vertical-align: middle;\n",
       "    }\n",
       "\n",
       "    .dataframe tbody tr th {\n",
       "        vertical-align: top;\n",
       "    }\n",
       "\n",
       "    .dataframe thead th {\n",
       "        text-align: right;\n",
       "    }\n",
       "</style>\n",
       "<table border=\"1\" class=\"dataframe\">\n",
       "  <thead>\n",
       "    <tr style=\"text-align: right;\">\n",
       "      <th></th>\n",
       "      <th>Node</th>\n",
       "      <th>max_freq</th>\n",
       "    </tr>\n",
       "  </thead>\n",
       "  <tbody>\n",
       "    <tr>\n",
       "      <th>0</th>\n",
       "      <td>1433B_HUMAN</td>\n",
       "      <td>0.04</td>\n",
       "    </tr>\n",
       "    <tr>\n",
       "      <th>1</th>\n",
       "      <td>1433E_HUMAN</td>\n",
       "      <td>0.04</td>\n",
       "    </tr>\n",
       "    <tr>\n",
       "      <th>2</th>\n",
       "      <td>1433G_HUMAN</td>\n",
       "      <td>0.04</td>\n",
       "    </tr>\n",
       "    <tr>\n",
       "      <th>3</th>\n",
       "      <td>1433T_HUMAN</td>\n",
       "      <td>0.04</td>\n",
       "    </tr>\n",
       "    <tr>\n",
       "      <th>4</th>\n",
       "      <td>2A5A_HUMAN</td>\n",
       "      <td>0.08</td>\n",
       "    </tr>\n",
       "  </tbody>\n",
       "</table>\n",
       "</div>"
      ],
      "text/plain": [
       "          Node  max_freq\n",
       "0  1433B_HUMAN      0.04\n",
       "1  1433E_HUMAN      0.04\n",
       "2  1433G_HUMAN      0.04\n",
       "3  1433T_HUMAN      0.04\n",
       "4   2A5A_HUMAN      0.08"
      ]
     },
     "execution_count": 11,
     "metadata": {},
     "output_type": "execute_result"
    }
   ],
   "source": [
    "node_df_merged[['Node', 'max_freq']] = node_df_merged.apply(select_max_freq_and_node, axis=1, result_type='expand')\n",
    "node_df_merged.drop(columns = ['Node1', 'Node2', 'Freq1', 'Freq2'], inplace = True)\n",
    "node_df_merged.head()"
   ]
  },
  {
   "cell_type": "code",
   "execution_count": 12,
   "id": "7f07c7f7-b9b7-4f9c-bd92-5fe727649e78",
   "metadata": {},
   "outputs": [],
   "source": [
    "# node_df_merged.to_csv(\"C:/Users/sumed/BDS-SROP-24/spras_processed_data/hiv05-max-node-freq-ensemble.csv\", index=False)"
   ]
  }
 ],
 "metadata": {
  "kernelspec": {
   "display_name": "Python 3 (ipykernel)",
   "language": "python",
   "name": "python3"
  },
  "language_info": {
   "codemirror_mode": {
    "name": "ipython",
    "version": 3
   },
   "file_extension": ".py",
   "mimetype": "text/x-python",
   "name": "python",
   "nbconvert_exporter": "python",
   "pygments_lexer": "ipython3",
   "version": "3.11.7"
  }
 },
 "nbformat": 4,
 "nbformat_minor": 5
}
