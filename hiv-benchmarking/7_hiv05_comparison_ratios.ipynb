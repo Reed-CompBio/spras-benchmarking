{
 "cells": [
  {
   "cell_type": "markdown",
   "id": "dc428697-79c3-44d6-9746-670501be5dc6",
   "metadata": {},
   "source": [
    "## Comparison Ratios for hiv05: \n",
    "\n",
    "## SPRAS Ensemble vs. Publication & SPRAS Ensemble vs. KEGG Pathway"
   ]
  },
  {
   "cell_type": "code",
   "execution_count": 1,
   "id": "6696be50-a3ae-470d-984b-97c17156f9a7",
   "metadata": {},
   "outputs": [],
   "source": [
    "import pandas as pd"
   ]
  },
  {
   "cell_type": "markdown",
   "id": "10bc361e-44b2-4595-a0d2-4f0f864da38d",
   "metadata": {},
   "source": [
    "### Load 5_min_75%_confidence.sif & make list of all publication nodes"
   ]
  },
  {
   "cell_type": "code",
   "execution_count": 2,
   "id": "98a3579b-28ce-43d5-b379-49b926b636fc",
   "metadata": {},
   "outputs": [
    {
     "data": {
      "text/html": [
       "<div>\n",
       "<style scoped>\n",
       "    .dataframe tbody tr th:only-of-type {\n",
       "        vertical-align: middle;\n",
       "    }\n",
       "\n",
       "    .dataframe tbody tr th {\n",
       "        vertical-align: top;\n",
       "    }\n",
       "\n",
       "    .dataframe thead th {\n",
       "        text-align: right;\n",
       "    }\n",
       "</style>\n",
       "<table border=\"1\" class=\"dataframe\">\n",
       "  <thead>\n",
       "    <tr style=\"text-align: right;\">\n",
       "      <th></th>\n",
       "      <th>0</th>\n",
       "      <th>1</th>\n",
       "      <th>2</th>\n",
       "    </tr>\n",
       "  </thead>\n",
       "  <tbody>\n",
       "    <tr>\n",
       "      <th>0</th>\n",
       "      <td>RB15B_HUMAN</td>\n",
       "      <td>pp</td>\n",
       "      <td>RBM15_HUMAN</td>\n",
       "    </tr>\n",
       "    <tr>\n",
       "      <th>1</th>\n",
       "      <td>BRAP_HUMAN</td>\n",
       "      <td>pp</td>\n",
       "      <td>CENPF_HUMAN</td>\n",
       "    </tr>\n",
       "    <tr>\n",
       "      <th>2</th>\n",
       "      <td>AMPD2_HUMAN</td>\n",
       "      <td>pp</td>\n",
       "      <td>POTE1_HUMAN</td>\n",
       "    </tr>\n",
       "    <tr>\n",
       "      <th>3</th>\n",
       "      <td>K0556_HUMAN</td>\n",
       "      <td>pp</td>\n",
       "      <td>TBCD4_HUMAN</td>\n",
       "    </tr>\n",
       "    <tr>\n",
       "      <th>4</th>\n",
       "      <td>MADD_HUMAN</td>\n",
       "      <td>pp</td>\n",
       "      <td>WNK1_HUMAN</td>\n",
       "    </tr>\n",
       "  </tbody>\n",
       "</table>\n",
       "</div>"
      ],
      "text/plain": [
       "             0   1            2\n",
       "0  RB15B_HUMAN  pp  RBM15_HUMAN\n",
       "1   BRAP_HUMAN  pp  CENPF_HUMAN\n",
       "2  AMPD2_HUMAN  pp  POTE1_HUMAN\n",
       "3  K0556_HUMAN  pp  TBCD4_HUMAN\n",
       "4   MADD_HUMAN  pp   WNK1_HUMAN"
      ]
     },
     "execution_count": 2,
     "metadata": {},
     "output_type": "execute_result"
    }
   ],
   "source": [
    "publication_network_df = pd.read_csv(\"hiv_raw_data/5_min_75%_confidence.sif\", sep='\\t', header=None)\n",
    "publication_network_df.head()"
   ]
  },
  {
   "cell_type": "code",
   "execution_count": 3,
   "id": "5f5b8237-b00b-48d7-a4ca-c6bf087b6508",
   "metadata": {},
   "outputs": [
    {
     "data": {
      "text/plain": [
       "250"
      ]
     },
     "execution_count": 3,
     "metadata": {},
     "output_type": "execute_result"
    }
   ],
   "source": [
    "len(publication_network_df)"
   ]
  },
  {
   "cell_type": "code",
   "execution_count": 4,
   "id": "a80c8448-b60a-4138-9268-2c46d17a4bdd",
   "metadata": {},
   "outputs": [],
   "source": [
    "pub_protein_set_1 = list(set(publication_network_df[0].tolist()))\n",
    "pub_protein_set_2 = list(set(publication_network_df[2].tolist()))"
   ]
  },
  {
   "cell_type": "code",
   "execution_count": 5,
   "id": "e4f1a9b8-47f4-4999-a342-0d33cc9409e5",
   "metadata": {},
   "outputs": [],
   "source": [
    "all_pub_proteins = list(set(pub_protein_set_1 + pub_protein_set_2))"
   ]
  },
  {
   "cell_type": "code",
   "execution_count": 6,
   "id": "60cbc7cd-3354-4966-a505-dfd4daa14b08",
   "metadata": {},
   "outputs": [
    {
     "data": {
      "text/plain": [
       "348"
      ]
     },
     "execution_count": 6,
     "metadata": {},
     "output_type": "execute_result"
    }
   ],
   "source": [
    "len(all_pub_proteins)"
   ]
  },
  {
   "cell_type": "markdown",
   "id": "a2cb4997-3a74-4aba-8b6b-c1f88da6829f",
   "metadata": {},
   "source": [
    "### Load all nodes in KEGG pathway and make list of all kegg protein nodes"
   ]
  },
  {
   "cell_type": "code",
   "execution_count": 44,
   "id": "68973f85-575d-4e48-a1c8-25d76f993e12",
   "metadata": {},
   "outputs": [
    {
     "data": {
      "text/html": [
       "<div>\n",
       "<style scoped>\n",
       "    .dataframe tbody tr th:only-of-type {\n",
       "        vertical-align: middle;\n",
       "    }\n",
       "\n",
       "    .dataframe tbody tr th {\n",
       "        vertical-align: top;\n",
       "    }\n",
       "\n",
       "    .dataframe thead th {\n",
       "        text-align: right;\n",
       "    }\n",
       "</style>\n",
       "<table border=\"1\" class=\"dataframe\">\n",
       "  <thead>\n",
       "    <tr style=\"text-align: right;\">\n",
       "      <th></th>\n",
       "      <th>KEGG_Orthology</th>\n",
       "      <th>HSA</th>\n",
       "      <th>Uniprot</th>\n",
       "      <th>link_category</th>\n",
       "    </tr>\n",
       "  </thead>\n",
       "  <tbody>\n",
       "    <tr>\n",
       "      <th>0</th>\n",
       "      <td>K04688</td>\n",
       "      <td>hsa:6199</td>\n",
       "      <td>up:Q9UBS0</td>\n",
       "      <td>equivalent</td>\n",
       "    </tr>\n",
       "    <tr>\n",
       "      <th>1</th>\n",
       "      <td>K07203</td>\n",
       "      <td>hsa:2475</td>\n",
       "      <td>up:P42345</td>\n",
       "      <td>equivalent</td>\n",
       "    </tr>\n",
       "    <tr>\n",
       "      <th>2</th>\n",
       "      <td>K04456</td>\n",
       "      <td>hsa:208</td>\n",
       "      <td>up:P31751</td>\n",
       "      <td>equivalent</td>\n",
       "    </tr>\n",
       "    <tr>\n",
       "      <th>3</th>\n",
       "      <td>K00922</td>\n",
       "      <td>hsa:5293</td>\n",
       "      <td>up:O00329</td>\n",
       "      <td>equivalent</td>\n",
       "    </tr>\n",
       "    <tr>\n",
       "      <th>4</th>\n",
       "      <td>K02649</td>\n",
       "      <td>hsa:8503</td>\n",
       "      <td>up:Q92569</td>\n",
       "      <td>equivalent</td>\n",
       "    </tr>\n",
       "  </tbody>\n",
       "</table>\n",
       "</div>"
      ],
      "text/plain": [
       "  KEGG_Orthology       HSA    Uniprot link_category\n",
       "0         K04688  hsa:6199  up:Q9UBS0    equivalent\n",
       "1         K07203  hsa:2475  up:P42345    equivalent\n",
       "2         K04456   hsa:208  up:P31751    equivalent\n",
       "3         K00922  hsa:5293  up:O00329    equivalent\n",
       "4         K02649  hsa:8503  up:Q92569    equivalent"
      ]
     },
     "execution_count": 44,
     "metadata": {},
     "output_type": "execute_result"
    }
   ],
   "source": [
    "kegg_pathway_proteins_path = \"hiv_processed_data/orthology_hsa_swissprot_mapping.csv\"\n",
    "kegg_pathway_proteins_df = pd.read_csv(kegg_pathway_proteins_path, sep=',')\n",
    "kegg_pathway_proteins_df.head()"
   ]
  },
  {
   "cell_type": "code",
   "execution_count": 45,
   "id": "59c1176e-e234-4031-9333-673ccddbe599",
   "metadata": {},
   "outputs": [
    {
     "data": {
      "text/plain": [
       "155"
      ]
     },
     "execution_count": 45,
     "metadata": {},
     "output_type": "execute_result"
    }
   ],
   "source": [
    "len(kegg_pathway_proteins_df)"
   ]
  },
  {
   "cell_type": "code",
   "execution_count": 49,
   "id": "5ef60bcd-3100-481c-92ba-2cf46f0bc679",
   "metadata": {},
   "outputs": [],
   "source": [
    "all_kegg_proteins = list(set(kegg_pathway_proteins_df['Uniprot'].tolist()))\n",
    "all_kegg_proteins = [item.replace('up:', '') for item in all_kegg_proteins]"
   ]
  },
  {
   "cell_type": "markdown",
   "id": "374b987f-f4e6-4ae4-a5a4-b7e72052fa5c",
   "metadata": {},
   "source": [
    "### Load hiv05 ensemble-pathway & make list of all ensemble pathway nodes"
   ]
  },
  {
   "cell_type": "code",
   "execution_count": 7,
   "id": "42aab601-a8bf-4c8b-abe7-b20e73f12b7c",
   "metadata": {},
   "outputs": [
    {
     "data": {
      "text/html": [
       "<div>\n",
       "<style scoped>\n",
       "    .dataframe tbody tr th:only-of-type {\n",
       "        vertical-align: middle;\n",
       "    }\n",
       "\n",
       "    .dataframe tbody tr th {\n",
       "        vertical-align: top;\n",
       "    }\n",
       "\n",
       "    .dataframe thead th {\n",
       "        text-align: right;\n",
       "    }\n",
       "</style>\n",
       "<table border=\"1\" class=\"dataframe\">\n",
       "  <thead>\n",
       "    <tr style=\"text-align: right;\">\n",
       "      <th></th>\n",
       "      <th>Node1</th>\n",
       "      <th>Node2</th>\n",
       "      <th>Frequency</th>\n",
       "      <th>Direction</th>\n",
       "    </tr>\n",
       "  </thead>\n",
       "  <tbody>\n",
       "    <tr>\n",
       "      <th>0</th>\n",
       "      <td>1433B_HUMAN</td>\n",
       "      <td>L7RRS6_HUMAN</td>\n",
       "      <td>0.16</td>\n",
       "      <td>U</td>\n",
       "    </tr>\n",
       "    <tr>\n",
       "      <th>1</th>\n",
       "      <td>1433B_HUMAN</td>\n",
       "      <td>WEE1_HUMAN</td>\n",
       "      <td>0.16</td>\n",
       "      <td>U</td>\n",
       "    </tr>\n",
       "    <tr>\n",
       "      <th>2</th>\n",
       "      <td>1433E_HUMAN</td>\n",
       "      <td>HDAC4_HUMAN</td>\n",
       "      <td>0.16</td>\n",
       "      <td>U</td>\n",
       "    </tr>\n",
       "    <tr>\n",
       "      <th>3</th>\n",
       "      <td>1433E_HUMAN</td>\n",
       "      <td>KIF1C_HUMAN</td>\n",
       "      <td>0.16</td>\n",
       "      <td>U</td>\n",
       "    </tr>\n",
       "    <tr>\n",
       "      <th>4</th>\n",
       "      <td>1433E_HUMAN</td>\n",
       "      <td>L7RRS6_HUMAN</td>\n",
       "      <td>0.16</td>\n",
       "      <td>U</td>\n",
       "    </tr>\n",
       "  </tbody>\n",
       "</table>\n",
       "</div>"
      ],
      "text/plain": [
       "         Node1         Node2  Frequency Direction\n",
       "0  1433B_HUMAN  L7RRS6_HUMAN       0.16         U\n",
       "1  1433B_HUMAN    WEE1_HUMAN       0.16         U\n",
       "2  1433E_HUMAN   HDAC4_HUMAN       0.16         U\n",
       "3  1433E_HUMAN   KIF1C_HUMAN       0.16         U\n",
       "4  1433E_HUMAN  L7RRS6_HUMAN       0.16         U"
      ]
     },
     "execution_count": 7,
     "metadata": {},
     "output_type": "execute_result"
    }
   ],
   "source": [
    "ensemble_pathway_path = \"spras-hiv-results/hiv-benchmarking-05-060-modified-v2/hiv05-ml/ensemble-pathway.txt\"\n",
    "ensemble_pathway_df = pd.read_csv(ensemble_pathway_path, sep='\\t')\n",
    "ensemble_pathway_df.head()"
   ]
  },
  {
   "cell_type": "code",
   "execution_count": 8,
   "id": "7cddde3a-9806-45c9-873f-3ec1f36e77d2",
   "metadata": {},
   "outputs": [
    {
     "data": {
      "text/plain": [
       "1420"
      ]
     },
     "execution_count": 8,
     "metadata": {},
     "output_type": "execute_result"
    }
   ],
   "source": [
    "len(ensemble_pathway_df)"
   ]
  },
  {
   "cell_type": "code",
   "execution_count": 9,
   "id": "8763c0c7-b99b-4cfb-bccf-3ecca8fe595d",
   "metadata": {},
   "outputs": [
    {
     "data": {
      "text/plain": [
       "{0.01,\n",
       " 0.02,\n",
       " 0.03,\n",
       " 0.04,\n",
       " 0.06,\n",
       " 0.08,\n",
       " 0.09,\n",
       " 0.11,\n",
       " 0.12,\n",
       " 0.13,\n",
       " 0.15,\n",
       " 0.16,\n",
       " 0.17,\n",
       " 0.18,\n",
       " 0.2,\n",
       " 0.24,\n",
       " 0.3,\n",
       " 0.32,\n",
       " 0.39}"
      ]
     },
     "execution_count": 9,
     "metadata": {},
     "output_type": "execute_result"
    }
   ],
   "source": [
    "set(ensemble_pathway_df['Frequency'])"
   ]
  },
  {
   "cell_type": "code",
   "execution_count": 10,
   "id": "bb0f6f22-255d-4cdb-98fd-7facf3c02da7",
   "metadata": {},
   "outputs": [],
   "source": [
    "ensemble_protein_set_1 = list(set(ensemble_pathway_df['Node1'].tolist()))\n",
    "ensemble_protein_set_2 = list(set(ensemble_pathway_df['Node2'].tolist()))"
   ]
  },
  {
   "cell_type": "code",
   "execution_count": 11,
   "id": "5863294b-05ed-48c3-8ba0-bc2311a4a873",
   "metadata": {},
   "outputs": [],
   "source": [
    "all_ensemble_proteins = list(set(ensemble_protein_set_1 + ensemble_protein_set_2))"
   ]
  },
  {
   "cell_type": "code",
   "execution_count": 12,
   "id": "947c8eaf-090d-46e8-902b-a9c5b6e047ea",
   "metadata": {},
   "outputs": [
    {
     "data": {
      "text/plain": [
       "1237"
      ]
     },
     "execution_count": 12,
     "metadata": {},
     "output_type": "execute_result"
    }
   ],
   "source": [
    "len(all_ensemble_proteins)"
   ]
  },
  {
   "cell_type": "code",
   "execution_count": 13,
   "id": "bdfd7e5a-2f61-49b0-b703-911c5e292d57",
   "metadata": {},
   "outputs": [],
   "source": [
    "both_pub_ensemble = list(set(all_pub_proteins) & set(all_ensemble_proteins))"
   ]
  },
  {
   "cell_type": "code",
   "execution_count": 50,
   "id": "48f4f43c-e5f8-4850-89e1-29f101cc1cf5",
   "metadata": {},
   "outputs": [],
   "source": [
    "both_kegg_ensemble = list(set(all_kegg_proteins) & set(all_ensemble_proteins))"
   ]
  },
  {
   "cell_type": "markdown",
   "id": "b28444f9-fdc4-4766-8938-4223dbffdca8",
   "metadata": {},
   "source": [
    "### Medium confidence (frequencies >= 0.16) on ensemble pathways dataframe & create list of medconf nodes"
   ]
  },
  {
   "cell_type": "code",
   "execution_count": 14,
   "id": "a365ecdf-254b-41e5-b462-7f45f48458da",
   "metadata": {},
   "outputs": [
    {
     "data": {
      "text/html": [
       "<div>\n",
       "<style scoped>\n",
       "    .dataframe tbody tr th:only-of-type {\n",
       "        vertical-align: middle;\n",
       "    }\n",
       "\n",
       "    .dataframe tbody tr th {\n",
       "        vertical-align: top;\n",
       "    }\n",
       "\n",
       "    .dataframe thead th {\n",
       "        text-align: right;\n",
       "    }\n",
       "</style>\n",
       "<table border=\"1\" class=\"dataframe\">\n",
       "  <thead>\n",
       "    <tr style=\"text-align: right;\">\n",
       "      <th></th>\n",
       "      <th>Node1</th>\n",
       "      <th>Node2</th>\n",
       "      <th>Frequency</th>\n",
       "      <th>Direction</th>\n",
       "    </tr>\n",
       "  </thead>\n",
       "  <tbody>\n",
       "    <tr>\n",
       "      <th>0</th>\n",
       "      <td>1433B_HUMAN</td>\n",
       "      <td>L7RRS6_HUMAN</td>\n",
       "      <td>0.16</td>\n",
       "      <td>U</td>\n",
       "    </tr>\n",
       "    <tr>\n",
       "      <th>1</th>\n",
       "      <td>1433B_HUMAN</td>\n",
       "      <td>WEE1_HUMAN</td>\n",
       "      <td>0.16</td>\n",
       "      <td>U</td>\n",
       "    </tr>\n",
       "    <tr>\n",
       "      <th>2</th>\n",
       "      <td>1433E_HUMAN</td>\n",
       "      <td>HDAC4_HUMAN</td>\n",
       "      <td>0.16</td>\n",
       "      <td>U</td>\n",
       "    </tr>\n",
       "    <tr>\n",
       "      <th>3</th>\n",
       "      <td>1433E_HUMAN</td>\n",
       "      <td>KIF1C_HUMAN</td>\n",
       "      <td>0.16</td>\n",
       "      <td>U</td>\n",
       "    </tr>\n",
       "    <tr>\n",
       "      <th>4</th>\n",
       "      <td>1433E_HUMAN</td>\n",
       "      <td>L7RRS6_HUMAN</td>\n",
       "      <td>0.16</td>\n",
       "      <td>U</td>\n",
       "    </tr>\n",
       "  </tbody>\n",
       "</table>\n",
       "</div>"
      ],
      "text/plain": [
       "         Node1         Node2  Frequency Direction\n",
       "0  1433B_HUMAN  L7RRS6_HUMAN       0.16         U\n",
       "1  1433B_HUMAN    WEE1_HUMAN       0.16         U\n",
       "2  1433E_HUMAN   HDAC4_HUMAN       0.16         U\n",
       "3  1433E_HUMAN   KIF1C_HUMAN       0.16         U\n",
       "4  1433E_HUMAN  L7RRS6_HUMAN       0.16         U"
      ]
     },
     "execution_count": 14,
     "metadata": {},
     "output_type": "execute_result"
    }
   ],
   "source": [
    "medconf_ensemble_pathway_df = ensemble_pathway_df[ensemble_pathway_df['Frequency'] >= 0.16]\n",
    "medconf_ensemble_pathway_df.head()"
   ]
  },
  {
   "cell_type": "code",
   "execution_count": 15,
   "id": "fcee0da6-58d9-4ebe-acaa-a57889c50f73",
   "metadata": {},
   "outputs": [
    {
     "data": {
      "text/plain": [
       "{0.16, 0.17, 0.18, 0.2, 0.24, 0.3, 0.32, 0.39}"
      ]
     },
     "execution_count": 15,
     "metadata": {},
     "output_type": "execute_result"
    }
   ],
   "source": [
    "set(medconf_ensemble_pathway_df['Frequency'])"
   ]
  },
  {
   "cell_type": "code",
   "execution_count": 31,
   "id": "80a928ee-0524-4bda-99b0-8c3b28c95ceb",
   "metadata": {},
   "outputs": [
    {
     "data": {
      "text/plain": [
       "513"
      ]
     },
     "execution_count": 31,
     "metadata": {},
     "output_type": "execute_result"
    }
   ],
   "source": [
    "medconf_ensemble_protein_set_1 = list(set(medconf_ensemble_pathway_df['Node1'].tolist()))\n",
    "medconf_ensemble_protein_set_2 = list(set(medconf_ensemble_pathway_df['Node2'].tolist()))\n",
    "medconf_all_ensemble_proteins = list(set(medconf_ensemble_protein_set_1 + medconf_ensemble_protein_set_2))\n",
    "len(medconf_all_ensemble_proteins)"
   ]
  },
  {
   "cell_type": "code",
   "execution_count": 18,
   "id": "6249e5f6-edd0-4d9a-9d15-f93052b7064a",
   "metadata": {},
   "outputs": [],
   "source": [
    "medconf_both_pub_ensemble = list(set(all_pub_proteins) & set(medconf_all_ensemble_proteins))"
   ]
  },
  {
   "cell_type": "markdown",
   "id": "5c09bf3b-45e0-4bc9-a9c1-012cd1fa5b2d",
   "metadata": {},
   "source": [
    "### Low confidence (frequencies >= 0.08) on ensemble pathways dataframe & create list of lowconf nodes"
   ]
  },
  {
   "cell_type": "code",
   "execution_count": 27,
   "id": "0408882d-976e-4881-a7d6-55e9fcbea8aa",
   "metadata": {},
   "outputs": [
    {
     "data": {
      "text/html": [
       "<div>\n",
       "<style scoped>\n",
       "    .dataframe tbody tr th:only-of-type {\n",
       "        vertical-align: middle;\n",
       "    }\n",
       "\n",
       "    .dataframe tbody tr th {\n",
       "        vertical-align: top;\n",
       "    }\n",
       "\n",
       "    .dataframe thead th {\n",
       "        text-align: right;\n",
       "    }\n",
       "</style>\n",
       "<table border=\"1\" class=\"dataframe\">\n",
       "  <thead>\n",
       "    <tr style=\"text-align: right;\">\n",
       "      <th></th>\n",
       "      <th>Node1</th>\n",
       "      <th>Node2</th>\n",
       "      <th>Frequency</th>\n",
       "      <th>Direction</th>\n",
       "    </tr>\n",
       "  </thead>\n",
       "  <tbody>\n",
       "    <tr>\n",
       "      <th>0</th>\n",
       "      <td>1433B_HUMAN</td>\n",
       "      <td>L7RRS6_HUMAN</td>\n",
       "      <td>0.16</td>\n",
       "      <td>U</td>\n",
       "    </tr>\n",
       "    <tr>\n",
       "      <th>1</th>\n",
       "      <td>1433B_HUMAN</td>\n",
       "      <td>WEE1_HUMAN</td>\n",
       "      <td>0.16</td>\n",
       "      <td>U</td>\n",
       "    </tr>\n",
       "    <tr>\n",
       "      <th>2</th>\n",
       "      <td>1433E_HUMAN</td>\n",
       "      <td>HDAC4_HUMAN</td>\n",
       "      <td>0.16</td>\n",
       "      <td>U</td>\n",
       "    </tr>\n",
       "    <tr>\n",
       "      <th>3</th>\n",
       "      <td>1433E_HUMAN</td>\n",
       "      <td>KIF1C_HUMAN</td>\n",
       "      <td>0.16</td>\n",
       "      <td>U</td>\n",
       "    </tr>\n",
       "    <tr>\n",
       "      <th>4</th>\n",
       "      <td>1433E_HUMAN</td>\n",
       "      <td>L7RRS6_HUMAN</td>\n",
       "      <td>0.16</td>\n",
       "      <td>U</td>\n",
       "    </tr>\n",
       "  </tbody>\n",
       "</table>\n",
       "</div>"
      ],
      "text/plain": [
       "         Node1         Node2  Frequency Direction\n",
       "0  1433B_HUMAN  L7RRS6_HUMAN       0.16         U\n",
       "1  1433B_HUMAN    WEE1_HUMAN       0.16         U\n",
       "2  1433E_HUMAN   HDAC4_HUMAN       0.16         U\n",
       "3  1433E_HUMAN   KIF1C_HUMAN       0.16         U\n",
       "4  1433E_HUMAN  L7RRS6_HUMAN       0.16         U"
      ]
     },
     "execution_count": 27,
     "metadata": {},
     "output_type": "execute_result"
    }
   ],
   "source": [
    "lowconf_ensemble_pathway_df = ensemble_pathway_df[ensemble_pathway_df['Frequency'] >= 0.08]\n",
    "lowconf_ensemble_pathway_df.head()"
   ]
  },
  {
   "cell_type": "code",
   "execution_count": 28,
   "id": "9e121a28-8997-42d5-a326-8d91ce53fa89",
   "metadata": {},
   "outputs": [
    {
     "data": {
      "text/plain": [
       "{0.08,\n",
       " 0.09,\n",
       " 0.11,\n",
       " 0.12,\n",
       " 0.13,\n",
       " 0.15,\n",
       " 0.16,\n",
       " 0.17,\n",
       " 0.18,\n",
       " 0.2,\n",
       " 0.24,\n",
       " 0.3,\n",
       " 0.32,\n",
       " 0.39}"
      ]
     },
     "execution_count": 28,
     "metadata": {},
     "output_type": "execute_result"
    }
   ],
   "source": [
    "set(lowconf_ensemble_pathway_df['Frequency'])"
   ]
  },
  {
   "cell_type": "code",
   "execution_count": 30,
   "id": "5a49e95d-4855-4755-b075-d4aef4564179",
   "metadata": {},
   "outputs": [
    {
     "data": {
      "text/plain": [
       "1198"
      ]
     },
     "execution_count": 30,
     "metadata": {},
     "output_type": "execute_result"
    }
   ],
   "source": [
    "lowconf_ensemble_protein_set_1 = list(set(lowconf_ensemble_pathway_df['Node1'].tolist()))\n",
    "lowconf_ensemble_protein_set_2 = list(set(lowconf_ensemble_pathway_df['Node2'].tolist()))\n",
    "lowconf_all_ensemble_proteins = list(set(lowconf_ensemble_protein_set_1 + lowconf_ensemble_protein_set_2))\n",
    "len(lowconf_all_ensemble_proteins)"
   ]
  },
  {
   "cell_type": "code",
   "execution_count": 32,
   "id": "395c17e5-49c9-45bb-94b6-0d03ea37d163",
   "metadata": {},
   "outputs": [],
   "source": [
    "lowconf_both_pub_ensemble = list(set(all_pub_proteins) & set(lowconf_all_ensemble_proteins))"
   ]
  },
  {
   "cell_type": "markdown",
   "id": "254185d0-8dbb-4484-b5d0-3d0ca015c8c8",
   "metadata": {},
   "source": [
    "### High confidence (frequencies >= 0.24) on ensemble pathways dataframe & create list of highconf nodes"
   ]
  },
  {
   "cell_type": "code",
   "execution_count": 33,
   "id": "75a68f8b-9020-4b96-a1f6-8d24cb587fb8",
   "metadata": {},
   "outputs": [
    {
     "data": {
      "text/html": [
       "<div>\n",
       "<style scoped>\n",
       "    .dataframe tbody tr th:only-of-type {\n",
       "        vertical-align: middle;\n",
       "    }\n",
       "\n",
       "    .dataframe tbody tr th {\n",
       "        vertical-align: top;\n",
       "    }\n",
       "\n",
       "    .dataframe thead th {\n",
       "        text-align: right;\n",
       "    }\n",
       "</style>\n",
       "<table border=\"1\" class=\"dataframe\">\n",
       "  <thead>\n",
       "    <tr style=\"text-align: right;\">\n",
       "      <th></th>\n",
       "      <th>Node1</th>\n",
       "      <th>Node2</th>\n",
       "      <th>Frequency</th>\n",
       "      <th>Direction</th>\n",
       "    </tr>\n",
       "  </thead>\n",
       "  <tbody>\n",
       "    <tr>\n",
       "      <th>126</th>\n",
       "      <td>BOREA_HUMAN</td>\n",
       "      <td>INCE_HUMAN</td>\n",
       "      <td>0.24</td>\n",
       "      <td>U</td>\n",
       "    </tr>\n",
       "    <tr>\n",
       "      <th>131</th>\n",
       "      <td>BRPF1_HUMAN</td>\n",
       "      <td>KAT6A_HUMAN</td>\n",
       "      <td>0.24</td>\n",
       "      <td>U</td>\n",
       "    </tr>\n",
       "    <tr>\n",
       "      <th>133</th>\n",
       "      <td>BUD13_HUMAN</td>\n",
       "      <td>RBMX2_HUMAN</td>\n",
       "      <td>0.32</td>\n",
       "      <td>U</td>\n",
       "    </tr>\n",
       "    <tr>\n",
       "      <th>963</th>\n",
       "      <td>LMO7_HUMAN</td>\n",
       "      <td>UBAC2_HUMAN</td>\n",
       "      <td>0.30</td>\n",
       "      <td>U</td>\n",
       "    </tr>\n",
       "    <tr>\n",
       "      <th>1068</th>\n",
       "      <td>PRR12_HUMAN</td>\n",
       "      <td>PUM1_HUMAN</td>\n",
       "      <td>0.39</td>\n",
       "      <td>U</td>\n",
       "    </tr>\n",
       "  </tbody>\n",
       "</table>\n",
       "</div>"
      ],
      "text/plain": [
       "            Node1        Node2  Frequency Direction\n",
       "126   BOREA_HUMAN   INCE_HUMAN       0.24         U\n",
       "131   BRPF1_HUMAN  KAT6A_HUMAN       0.24         U\n",
       "133   BUD13_HUMAN  RBMX2_HUMAN       0.32         U\n",
       "963    LMO7_HUMAN  UBAC2_HUMAN       0.30         U\n",
       "1068  PRR12_HUMAN   PUM1_HUMAN       0.39         U"
      ]
     },
     "execution_count": 33,
     "metadata": {},
     "output_type": "execute_result"
    }
   ],
   "source": [
    "highconf_ensemble_pathway_df = ensemble_pathway_df[ensemble_pathway_df['Frequency'] >= 0.24]\n",
    "highconf_ensemble_pathway_df.head()"
   ]
  },
  {
   "cell_type": "code",
   "execution_count": 34,
   "id": "85313ca2-d5b4-4305-902d-8c11b8042a46",
   "metadata": {},
   "outputs": [
    {
     "data": {
      "text/plain": [
       "{0.24, 0.3, 0.32, 0.39}"
      ]
     },
     "execution_count": 34,
     "metadata": {},
     "output_type": "execute_result"
    }
   ],
   "source": [
    "set(highconf_ensemble_pathway_df['Frequency'])"
   ]
  },
  {
   "cell_type": "code",
   "execution_count": 35,
   "id": "f6be6d73-2d40-4657-8a83-d07b2f7b8af0",
   "metadata": {},
   "outputs": [
    {
     "data": {
      "text/plain": [
       "10"
      ]
     },
     "execution_count": 35,
     "metadata": {},
     "output_type": "execute_result"
    }
   ],
   "source": [
    "highconf_ensemble_protein_set_1 = list(set(highconf_ensemble_pathway_df['Node1'].tolist()))\n",
    "highconf_ensemble_protein_set_2 = list(set(highconf_ensemble_pathway_df['Node2'].tolist()))\n",
    "highconf_all_ensemble_proteins = list(set(highconf_ensemble_protein_set_1 + highconf_ensemble_protein_set_2))\n",
    "len(highconf_all_ensemble_proteins)"
   ]
  },
  {
   "cell_type": "code",
   "execution_count": 36,
   "id": "4a2a64f1-42dd-4e91-9788-bc7fff692347",
   "metadata": {},
   "outputs": [
    {
     "data": {
      "text/plain": [
       "10"
      ]
     },
     "execution_count": 36,
     "metadata": {},
     "output_type": "execute_result"
    }
   ],
   "source": [
    "highconf_both_pub_ensemble = list(set(all_pub_proteins) & set(highconf_all_ensemble_proteins))\n",
    "len(highconf_both_pub_ensemble)"
   ]
  },
  {
   "cell_type": "markdown",
   "id": "4dbb959a-7c3b-4a42-bcf0-acf752cfe801",
   "metadata": {},
   "source": [
    "### Intersecting publication nodes and ensemble pathway nodes - Ratios"
   ]
  },
  {
   "cell_type": "markdown",
   "id": "3fa4e883-8e7d-4cae-9b1d-f5ece0de4194",
   "metadata": {},
   "source": [
    "##### TOTAL ratio of nodes in publication pathway that are also in ensemble pathway:"
   ]
  },
  {
   "cell_type": "code",
   "execution_count": 20,
   "id": "5ae2b5da-45ed-4f15-850f-c363e4aab26a",
   "metadata": {},
   "outputs": [
    {
     "data": {
      "text/plain": [
       "0.2465642683912692"
      ]
     },
     "execution_count": 20,
     "metadata": {},
     "output_type": "execute_result"
    }
   ],
   "source": [
    "publication_nodes_in_ensemble_ratio = len(both_pub_ensemble)/len(all_ensemble_proteins)\n",
    "publication_nodes_in_ensemble_ratio"
   ]
  },
  {
   "cell_type": "markdown",
   "id": "363b387b-1f5a-4eeb-9808-67653083cd6e",
   "metadata": {},
   "source": [
    "##### TOTAL ratio of nodes in ensemble pathway that are also in publication pathway"
   ]
  },
  {
   "cell_type": "code",
   "execution_count": 21,
   "id": "5fc29a55-3d47-4a2e-8d8e-66fcb00c5b4d",
   "metadata": {},
   "outputs": [
    {
     "data": {
      "text/plain": [
       "0.8764367816091954"
      ]
     },
     "execution_count": 21,
     "metadata": {},
     "output_type": "execute_result"
    }
   ],
   "source": [
    "ensemble_nodes_in_publication_ratio = len(both_pub_ensemble)/len(all_pub_proteins)\n",
    "ensemble_nodes_in_publication_ratio"
   ]
  },
  {
   "cell_type": "markdown",
   "id": "8eb4e036-e935-42e1-afb0-607ca37612d5",
   "metadata": {},
   "source": [
    "##### MEDIUM CONFIDENCE -> ratio of nodes in publication pathway that are also in ensemble pathway:"
   ]
  },
  {
   "cell_type": "code",
   "execution_count": 22,
   "id": "209ff75b-477b-4bc9-8463-bbac9c51ab8d",
   "metadata": {},
   "outputs": [
    {
     "data": {
      "text/plain": [
       "0.2631578947368421"
      ]
     },
     "execution_count": 22,
     "metadata": {},
     "output_type": "execute_result"
    }
   ],
   "source": [
    "medconf_publication_nodes_in_ensemble_ratio = len(medconf_both_pub_ensemble)/len(medconf_all_ensemble_proteins)\n",
    "medconf_publication_nodes_in_ensemble_ratio"
   ]
  },
  {
   "cell_type": "markdown",
   "id": "9bef467d-0d4d-47d0-8540-33ea37848284",
   "metadata": {},
   "source": [
    "##### MEDIUM CONFIDENCE -> ratio of nodes in ensemble pathway that are also in publication pathway"
   ]
  },
  {
   "cell_type": "code",
   "execution_count": 23,
   "id": "927aee7e-ba27-4cff-8ba5-a9a005fceb17",
   "metadata": {},
   "outputs": [
    {
     "data": {
      "text/plain": [
       "0.3879310344827586"
      ]
     },
     "execution_count": 23,
     "metadata": {},
     "output_type": "execute_result"
    }
   ],
   "source": [
    "medconf_ensemble_nodes_in_publication_ratio = len(medconf_both_pub_ensemble)/len(all_pub_proteins)\n",
    "medconf_ensemble_nodes_in_publication_ratio"
   ]
  },
  {
   "cell_type": "markdown",
   "id": "8bb9115a-9d90-4ea0-a9a1-d642f8968399",
   "metadata": {},
   "source": [
    "##### LOW CONFIDENCE -> ratio of nodes in publication pathway that are also in ensemble pathway:"
   ]
  },
  {
   "cell_type": "code",
   "execution_count": null,
   "id": "aed16632-49c4-4cd5-8baf-88cdcde3d67b",
   "metadata": {},
   "outputs": [],
   "source": []
  },
  {
   "cell_type": "markdown",
   "id": "cd492e17-19f6-4a03-b450-54f4883f67c5",
   "metadata": {},
   "source": [
    "##### LOW CONFIDENCE -> ratio of nodes in ensemble pathway that are also in publication pathway"
   ]
  },
  {
   "cell_type": "code",
   "execution_count": null,
   "id": "25640676-b84d-4116-b2ab-54a5fcab3a92",
   "metadata": {},
   "outputs": [],
   "source": []
  },
  {
   "cell_type": "markdown",
   "id": "cadfabdc-d946-4726-b42e-2ece1f6605cd",
   "metadata": {},
   "source": [
    "##### HIGH CONFIDENCE -> ratio of nodes in publication pathway that are also in ensemble pathway:"
   ]
  },
  {
   "cell_type": "code",
   "execution_count": null,
   "id": "edf64267-80d1-4b3a-aac4-dba2ee47c053",
   "metadata": {},
   "outputs": [],
   "source": []
  },
  {
   "cell_type": "markdown",
   "id": "6c0884fd-e026-4602-a72a-b2c9058174b8",
   "metadata": {},
   "source": [
    "##### HIGH CONFIDENCE -> ratio of nodes in ensemble pathway that are also in publication pathway"
   ]
  },
  {
   "cell_type": "code",
   "execution_count": null,
   "id": "05edc4dd-0a27-48cf-a46d-4b441fbd412b",
   "metadata": {},
   "outputs": [],
   "source": []
  },
  {
   "cell_type": "markdown",
   "id": "5acfe1ee-6955-471e-8766-b04d0bf8eed8",
   "metadata": {},
   "source": [
    "### Intersecting KEGG pathway and ensemble pathway nodes - Ratios"
   ]
  },
  {
   "cell_type": "markdown",
   "id": "1e4679f0-8fdc-4720-9d1d-4ce996b24faa",
   "metadata": {},
   "source": [
    "##### TOTAL ratio of nodes in kegg pathway that are also in ensemble pathway:"
   ]
  },
  {
   "cell_type": "code",
   "execution_count": null,
   "id": "3ba1ca1d-4d72-454d-a2bf-e1d3554b5e77",
   "metadata": {},
   "outputs": [],
   "source": []
  },
  {
   "cell_type": "code",
   "execution_count": null,
   "id": "32a33c31-4463-45bf-9417-e2ae8aa9a00b",
   "metadata": {},
   "outputs": [],
   "source": []
  },
  {
   "cell_type": "code",
   "execution_count": null,
   "id": "e4b755fb-a168-4a27-a6e3-cebba6c25682",
   "metadata": {},
   "outputs": [],
   "source": []
  },
  {
   "cell_type": "code",
   "execution_count": null,
   "id": "0f4d0c2b-0935-4957-b260-d0a931d70950",
   "metadata": {},
   "outputs": [],
   "source": []
  },
  {
   "cell_type": "code",
   "execution_count": null,
   "id": "881531de-857a-45eb-bc71-a5e12f55de5e",
   "metadata": {},
   "outputs": [],
   "source": []
  },
  {
   "cell_type": "code",
   "execution_count": null,
   "id": "3a13d71b-e934-4ad2-af4d-306eb7cf0bbc",
   "metadata": {},
   "outputs": [],
   "source": []
  },
  {
   "cell_type": "code",
   "execution_count": null,
   "id": "8e6c76f1-8412-476d-87d7-ec3ef4dff122",
   "metadata": {},
   "outputs": [],
   "source": []
  },
  {
   "cell_type": "code",
   "execution_count": null,
   "id": "b0436bc4-5c25-4594-afbf-e3a1ee735ed4",
   "metadata": {},
   "outputs": [],
   "source": []
  },
  {
   "cell_type": "code",
   "execution_count": null,
   "id": "9f43ec11-715f-4f74-a74c-06d65e58aafa",
   "metadata": {},
   "outputs": [],
   "source": []
  },
  {
   "cell_type": "code",
   "execution_count": null,
   "id": "27742d7b-8cdb-4b18-aa6a-5a6d87a04330",
   "metadata": {},
   "outputs": [],
   "source": []
  },
  {
   "cell_type": "code",
   "execution_count": null,
   "id": "522514d3-3c15-4c54-bc50-62b57888a3ac",
   "metadata": {},
   "outputs": [],
   "source": []
  },
  {
   "cell_type": "code",
   "execution_count": null,
   "id": "4037bc11-44fd-4147-9a2f-4342dfbfd360",
   "metadata": {},
   "outputs": [],
   "source": []
  },
  {
   "cell_type": "code",
   "execution_count": null,
   "id": "62807567-32b5-4bed-b0b1-8f62cbf6efe3",
   "metadata": {},
   "outputs": [],
   "source": []
  },
  {
   "cell_type": "code",
   "execution_count": null,
   "id": "1d4a2b01-39d6-4796-8189-470c63bc5842",
   "metadata": {},
   "outputs": [],
   "source": []
  },
  {
   "cell_type": "code",
   "execution_count": null,
   "id": "f53a7b02-1a23-47cd-b4bf-85c634d2dc61",
   "metadata": {},
   "outputs": [],
   "source": []
  }
 ],
 "metadata": {
  "kernelspec": {
   "display_name": "Python 3 (ipykernel)",
   "language": "python",
   "name": "python3"
  },
  "language_info": {
   "codemirror_mode": {
    "name": "ipython",
    "version": 3
   },
   "file_extension": ".py",
   "mimetype": "text/x-python",
   "name": "python",
   "nbconvert_exporter": "python",
   "pygments_lexer": "ipython3",
   "version": "3.11.7"
  }
 },
 "nbformat": 4,
 "nbformat_minor": 5
}
