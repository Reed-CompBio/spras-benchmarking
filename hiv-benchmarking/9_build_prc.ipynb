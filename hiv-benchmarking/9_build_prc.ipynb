{
 "cells": [
  {
   "cell_type": "markdown",
   "id": "6e6af090-24ff-437d-a6d2-20d42a3882e8",
   "metadata": {},
   "source": [
    "## Build Precision Recall Curve"
   ]
  },
  {
   "cell_type": "code",
   "execution_count": 1,
   "id": "a7e76a51-95bf-4570-8e2b-1e9f57f7c525",
   "metadata": {},
   "outputs": [],
   "source": [
    "import pandas as pd\n",
    "import numpy as np\n",
    "from sklearn.metrics import precision_recall_curve, auc\n",
    "import matplotlib.pyplot as plt"
   ]
  },
  {
   "cell_type": "markdown",
   "id": "510b59a0-646c-43dc-8984-b793244ab333",
   "metadata": {},
   "source": [
    "### Load the ensemble-max frequency CSV"
   ]
  },
  {
   "cell_type": "code",
   "execution_count": 2,
   "id": "46555220-bda6-4f10-96f2-2895a71a6cc0",
   "metadata": {},
   "outputs": [
    {
     "data": {
      "text/html": [
       "<div>\n",
       "<style scoped>\n",
       "    .dataframe tbody tr th:only-of-type {\n",
       "        vertical-align: middle;\n",
       "    }\n",
       "\n",
       "    .dataframe tbody tr th {\n",
       "        vertical-align: top;\n",
       "    }\n",
       "\n",
       "    .dataframe thead th {\n",
       "        text-align: right;\n",
       "    }\n",
       "</style>\n",
       "<table border=\"1\" class=\"dataframe\">\n",
       "  <thead>\n",
       "    <tr style=\"text-align: right;\">\n",
       "      <th></th>\n",
       "      <th>Node</th>\n",
       "      <th>max_freq</th>\n",
       "    </tr>\n",
       "  </thead>\n",
       "  <tbody>\n",
       "    <tr>\n",
       "      <th>0</th>\n",
       "      <td>1433B_HUMAN</td>\n",
       "      <td>0.16</td>\n",
       "    </tr>\n",
       "    <tr>\n",
       "      <th>1</th>\n",
       "      <td>1433E_HUMAN</td>\n",
       "      <td>0.16</td>\n",
       "    </tr>\n",
       "    <tr>\n",
       "      <th>2</th>\n",
       "      <td>1433G_HUMAN</td>\n",
       "      <td>0.16</td>\n",
       "    </tr>\n",
       "    <tr>\n",
       "      <th>3</th>\n",
       "      <td>1433S_HUMAN</td>\n",
       "      <td>0.12</td>\n",
       "    </tr>\n",
       "    <tr>\n",
       "      <th>4</th>\n",
       "      <td>1433T_HUMAN</td>\n",
       "      <td>0.16</td>\n",
       "    </tr>\n",
       "  </tbody>\n",
       "</table>\n",
       "</div>"
      ],
      "text/plain": [
       "          Node  max_freq\n",
       "0  1433B_HUMAN      0.16\n",
       "1  1433E_HUMAN      0.16\n",
       "2  1433G_HUMAN      0.16\n",
       "3  1433S_HUMAN      0.12\n",
       "4  1433T_HUMAN      0.16"
      ]
     },
     "execution_count": 2,
     "metadata": {},
     "output_type": "execute_result"
    }
   ],
   "source": [
    "ensemble05_df = pd.read_csv(\"C:/Users/sumed/BDS-SROP-24/spras_processed_data/hiv05-max-node-freq-ensemble.csv\")\n",
    "ensemble05_df.head()"
   ]
  },
  {
   "cell_type": "markdown",
   "id": "5d024e81-16a3-498d-990a-1dcc928aa32f",
   "metadata": {},
   "source": [
    "### Building PRC with KEGG -> SwissProt mapping"
   ]
  },
  {
   "cell_type": "markdown",
   "id": "f51e33d9-32bd-407a-9a59-363b44c5e995",
   "metadata": {},
   "source": [
    "Build vector of 0s and 1s that are labels that indicate whether the SPRAS ensemble pathway is in the KEGG pathway or not"
   ]
  },
  {
   "cell_type": "code",
   "execution_count": 3,
   "id": "ddb7b79d-f20a-4709-aa70-fcb115d28934",
   "metadata": {},
   "outputs": [
    {
     "data": {
      "text/html": [
       "<div>\n",
       "<style scoped>\n",
       "    .dataframe tbody tr th:only-of-type {\n",
       "        vertical-align: middle;\n",
       "    }\n",
       "\n",
       "    .dataframe tbody tr th {\n",
       "        vertical-align: top;\n",
       "    }\n",
       "\n",
       "    .dataframe thead th {\n",
       "        text-align: right;\n",
       "    }\n",
       "</style>\n",
       "<table border=\"1\" class=\"dataframe\">\n",
       "  <thead>\n",
       "    <tr style=\"text-align: right;\">\n",
       "      <th></th>\n",
       "      <th>KEGG_Orthology</th>\n",
       "      <th>HSA</th>\n",
       "      <th>Uniprot</th>\n",
       "      <th>link_category</th>\n",
       "    </tr>\n",
       "  </thead>\n",
       "  <tbody>\n",
       "    <tr>\n",
       "      <th>0</th>\n",
       "      <td>K25057</td>\n",
       "      <td>hsa:11168</td>\n",
       "      <td>up:O75475</td>\n",
       "      <td>equivalent</td>\n",
       "    </tr>\n",
       "    <tr>\n",
       "      <th>1</th>\n",
       "      <td>K12183</td>\n",
       "      <td>hsa:7251</td>\n",
       "      <td>up:Q99816</td>\n",
       "      <td>equivalent</td>\n",
       "    </tr>\n",
       "    <tr>\n",
       "      <th>2</th>\n",
       "      <td>K12194</td>\n",
       "      <td>hsa:29082</td>\n",
       "      <td>up:Q9BY43</td>\n",
       "      <td>equivalent</td>\n",
       "    </tr>\n",
       "    <tr>\n",
       "      <th>3</th>\n",
       "      <td>K12195</td>\n",
       "      <td>hsa:79643</td>\n",
       "      <td>up:Q96FZ7</td>\n",
       "      <td>equivalent</td>\n",
       "    </tr>\n",
       "    <tr>\n",
       "      <th>4</th>\n",
       "      <td>K12200</td>\n",
       "      <td>hsa:10015</td>\n",
       "      <td>up:Q8WUM4</td>\n",
       "      <td>equivalent</td>\n",
       "    </tr>\n",
       "  </tbody>\n",
       "</table>\n",
       "</div>"
      ],
      "text/plain": [
       "  KEGG_Orthology        HSA    Uniprot link_category\n",
       "0         K25057  hsa:11168  up:O75475    equivalent\n",
       "1         K12183   hsa:7251  up:Q99816    equivalent\n",
       "2         K12194  hsa:29082  up:Q9BY43    equivalent\n",
       "3         K12195  hsa:79643  up:Q96FZ7    equivalent\n",
       "4         K12200  hsa:10015  up:Q8WUM4    equivalent"
      ]
     },
     "execution_count": 3,
     "metadata": {},
     "output_type": "execute_result"
    }
   ],
   "source": [
    "kegg_swissprot_proteins_path = \"C:/Users/sumed/BDS-SROP-24/spras_processed_data/kegg-orthology_hsa_swissprot_mapping_ko03250.csv\"\n",
    "kegg_swissprot_proteins_df = pd.read_csv(kegg_swissprot_proteins_path, sep=',')\n",
    "kegg_swissprot_proteins_df.head()"
   ]
  },
  {
   "cell_type": "code",
   "execution_count": 4,
   "id": "4ea95b14-f38f-4874-b3f9-c4e34ccbf2fa",
   "metadata": {},
   "outputs": [
    {
     "data": {
      "text/plain": [
       "44"
      ]
     },
     "execution_count": 4,
     "metadata": {},
     "output_type": "execute_result"
    }
   ],
   "source": [
    "kegg_swissprot_proteins_df['Uniprot'] = kegg_swissprot_proteins_df['Uniprot'].str.replace('up:', '')\n",
    "kegg_swissprot_proteins_df['Uniprot'] = kegg_swissprot_proteins_df['Uniprot'] + '_HUMAN'\n",
    "kegg_swissprot = kegg_swissprot_proteins_df.copy().drop(columns = ['KEGG_Orthology', 'HSA', 'link_category'])\n",
    "kegg_swissprot_list = kegg_swissprot['Uniprot'].tolist()\n",
    "len(kegg_swissprot_list)"
   ]
  },
  {
   "cell_type": "code",
   "execution_count": 5,
   "id": "f1806054-84fa-49c3-94bc-99e7362193ec",
   "metadata": {},
   "outputs": [
    {
     "data": {
      "text/plain": [
       "[]"
      ]
     },
     "execution_count": 5,
     "metadata": {},
     "output_type": "execute_result"
    }
   ],
   "source": [
    "list(set(kegg_swissprot_list) & set(ensemble05_df['Node']))"
   ]
  },
  {
   "cell_type": "markdown",
   "id": "24e980fd-3aca-4205-9212-2e80d068427c",
   "metadata": {},
   "source": [
    "The empty list shows that there is no overlap of proteins with the KEGG -> SwissProt mapping (1-to-1)"
   ]
  },
  {
   "cell_type": "markdown",
   "id": "2bf6fd29-5bcd-44fd-acc9-b097c0c5be25",
   "metadata": {},
   "source": [
    "### Build PRC with KEGG -> Uniprot mapping (1-to-many mapping for same proteins)"
   ]
  },
  {
   "cell_type": "markdown",
   "id": "1d0e4a91-ec8e-4a03-bb5a-93bb68036d35",
   "metadata": {},
   "source": [
    "There are the same proteins in the previous mapping dataframe, but accounts for ALL Uniprot names of the KEGG proteins."
   ]
  },
  {
   "cell_type": "code",
   "execution_count": 6,
   "id": "0bad5c9c-5469-47a1-a726-5ab08b2f3f3a",
   "metadata": {},
   "outputs": [
    {
     "data": {
      "text/html": [
       "<div>\n",
       "<style scoped>\n",
       "    .dataframe tbody tr th:only-of-type {\n",
       "        vertical-align: middle;\n",
       "    }\n",
       "\n",
       "    .dataframe tbody tr th {\n",
       "        vertical-align: top;\n",
       "    }\n",
       "\n",
       "    .dataframe thead th {\n",
       "        text-align: right;\n",
       "    }\n",
       "</style>\n",
       "<table border=\"1\" class=\"dataframe\">\n",
       "  <thead>\n",
       "    <tr style=\"text-align: right;\">\n",
       "      <th></th>\n",
       "      <th>KEGG_Orthology</th>\n",
       "      <th>HSA</th>\n",
       "      <th>Uniprot</th>\n",
       "      <th>link_category</th>\n",
       "    </tr>\n",
       "  </thead>\n",
       "  <tbody>\n",
       "    <tr>\n",
       "      <th>0</th>\n",
       "      <td>K25057</td>\n",
       "      <td>hsa:11168</td>\n",
       "      <td>up:O75475</td>\n",
       "      <td>equivalent</td>\n",
       "    </tr>\n",
       "    <tr>\n",
       "      <th>1</th>\n",
       "      <td>K12183</td>\n",
       "      <td>hsa:7251</td>\n",
       "      <td>up:Q99816</td>\n",
       "      <td>equivalent</td>\n",
       "    </tr>\n",
       "    <tr>\n",
       "      <th>2</th>\n",
       "      <td>K12194</td>\n",
       "      <td>hsa:29082</td>\n",
       "      <td>up:Q9BY43</td>\n",
       "      <td>equivalent</td>\n",
       "    </tr>\n",
       "    <tr>\n",
       "      <th>3</th>\n",
       "      <td>K12195</td>\n",
       "      <td>hsa:79643</td>\n",
       "      <td>up:Q96FZ7</td>\n",
       "      <td>equivalent</td>\n",
       "    </tr>\n",
       "    <tr>\n",
       "      <th>4</th>\n",
       "      <td>K12200</td>\n",
       "      <td>hsa:10015</td>\n",
       "      <td>up:Q8WUM4</td>\n",
       "      <td>equivalent</td>\n",
       "    </tr>\n",
       "  </tbody>\n",
       "</table>\n",
       "</div>"
      ],
      "text/plain": [
       "  KEGG_Orthology        HSA    Uniprot link_category\n",
       "0         K25057  hsa:11168  up:O75475    equivalent\n",
       "1         K12183   hsa:7251  up:Q99816    equivalent\n",
       "2         K12194  hsa:29082  up:Q9BY43    equivalent\n",
       "3         K12195  hsa:79643  up:Q96FZ7    equivalent\n",
       "4         K12200  hsa:10015  up:Q8WUM4    equivalent"
      ]
     },
     "execution_count": 6,
     "metadata": {},
     "output_type": "execute_result"
    }
   ],
   "source": [
    "kegg_uniprot_proteins_path = \"C:/Users/sumed/BDS-SROP-24/spras_processed_data/kegg-orthology_hsa_uniprot_mapping_ko03250.csv\"\n",
    "kegg_uniprot_proteins_df = pd.read_csv(kegg_uniprot_proteins_path, sep=',')\n",
    "kegg_uniprot_proteins_df.head()"
   ]
  },
  {
   "cell_type": "code",
   "execution_count": 7,
   "id": "e7503f65-52b5-4229-b65e-701ddd694576",
   "metadata": {},
   "outputs": [
    {
     "data": {
      "text/plain": [
       "59"
      ]
     },
     "execution_count": 7,
     "metadata": {},
     "output_type": "execute_result"
    }
   ],
   "source": [
    "kegg_uniprot_proteins_df['Uniprot'] = kegg_uniprot_proteins_df['Uniprot'].str.replace('up:', '')\n",
    "kegg_uniprot_proteins_df['Uniprot'] = kegg_uniprot_proteins_df['Uniprot'] + '_HUMAN'\n",
    "kegg_uniprot = kegg_uniprot_proteins_df.copy().drop(columns = ['KEGG_Orthology', 'HSA', 'link_category'])\n",
    "kegg_uniprot_list = kegg_uniprot['Uniprot'].tolist()\n",
    "len(kegg_uniprot_list)"
   ]
  },
  {
   "cell_type": "code",
   "execution_count": 8,
   "id": "1eea3591-c342-44eb-a021-044f597fe02c",
   "metadata": {},
   "outputs": [
    {
     "data": {
      "text/plain": [
       "[]"
      ]
     },
     "execution_count": 8,
     "metadata": {},
     "output_type": "execute_result"
    }
   ],
   "source": [
    "both_kegg_ensemble = list(set(kegg_uniprot_list) & set(ensemble05_df['Node']))\n",
    "both_kegg_ensemble"
   ]
  },
  {
   "cell_type": "code",
   "execution_count": 9,
   "id": "5109a9ea-aa89-4a25-afea-526105063690",
   "metadata": {},
   "outputs": [
    {
     "data": {
      "text/html": [
       "<div>\n",
       "<style scoped>\n",
       "    .dataframe tbody tr th:only-of-type {\n",
       "        vertical-align: middle;\n",
       "    }\n",
       "\n",
       "    .dataframe tbody tr th {\n",
       "        vertical-align: top;\n",
       "    }\n",
       "\n",
       "    .dataframe thead th {\n",
       "        text-align: right;\n",
       "    }\n",
       "</style>\n",
       "<table border=\"1\" class=\"dataframe\">\n",
       "  <thead>\n",
       "    <tr style=\"text-align: right;\">\n",
       "      <th></th>\n",
       "      <th>Node</th>\n",
       "      <th>max_freq</th>\n",
       "      <th>y_kegg</th>\n",
       "    </tr>\n",
       "  </thead>\n",
       "  <tbody>\n",
       "    <tr>\n",
       "      <th>0</th>\n",
       "      <td>1433B_HUMAN</td>\n",
       "      <td>0.16</td>\n",
       "      <td>0</td>\n",
       "    </tr>\n",
       "    <tr>\n",
       "      <th>1</th>\n",
       "      <td>1433E_HUMAN</td>\n",
       "      <td>0.16</td>\n",
       "      <td>0</td>\n",
       "    </tr>\n",
       "    <tr>\n",
       "      <th>2</th>\n",
       "      <td>1433G_HUMAN</td>\n",
       "      <td>0.16</td>\n",
       "      <td>0</td>\n",
       "    </tr>\n",
       "    <tr>\n",
       "      <th>3</th>\n",
       "      <td>1433S_HUMAN</td>\n",
       "      <td>0.12</td>\n",
       "      <td>0</td>\n",
       "    </tr>\n",
       "    <tr>\n",
       "      <th>4</th>\n",
       "      <td>1433T_HUMAN</td>\n",
       "      <td>0.16</td>\n",
       "      <td>0</td>\n",
       "    </tr>\n",
       "  </tbody>\n",
       "</table>\n",
       "</div>"
      ],
      "text/plain": [
       "          Node  max_freq  y_kegg\n",
       "0  1433B_HUMAN      0.16       0\n",
       "1  1433E_HUMAN      0.16       0\n",
       "2  1433G_HUMAN      0.16       0\n",
       "3  1433S_HUMAN      0.12       0\n",
       "4  1433T_HUMAN      0.16       0"
      ]
     },
     "execution_count": 9,
     "metadata": {},
     "output_type": "execute_result"
    }
   ],
   "source": [
    "prc_df = ensemble05_df.copy()\n",
    "prc_df['y_kegg'] = 0\n",
    "prc_df.loc[prc_df['Node'].isin(both_kegg_ensemble), 'y_kegg'] = 1\n",
    "prc_df.head()"
   ]
  },
  {
   "cell_type": "code",
   "execution_count": 10,
   "id": "f32f3953-621d-4e72-b02d-adecb33ab194",
   "metadata": {},
   "outputs": [],
   "source": [
    "# randomly adding 1s - testing if the curve works (due to the low pos true label)\n",
    "\n",
    "# Get the indices of rows where y_kegg is 0\n",
    "# zero_indices = prc_df.index[prc_df['y_kegg'] == 0].tolist()\n",
    "# # Calculate half of the zero_indices length\n",
    "# half_length = len(zero_indices) // 2\n",
    "# # Randomly select half of these indices\n",
    "# random_indices = np.random.choice(zero_indices, half_length, replace=False)\n",
    "# # Set the y_kegg values of these randomly selected indices to 1\n",
    "# prc_df.loc[random_indices, 'y_kegg'] = 1\n",
    "# prc_df.head()"
   ]
  },
  {
   "cell_type": "code",
   "execution_count": 11,
   "id": "76252a37-0fb2-43ac-83c8-cecaa09e9a88",
   "metadata": {},
   "outputs": [],
   "source": [
    "# extract needed columns from df\n",
    "y_true = prc_df['y_kegg']\n",
    "y_scores = prc_df['max_freq']"
   ]
  },
  {
   "cell_type": "code",
   "execution_count": 12,
   "id": "5bd56cd3-1ec4-4b56-a19e-daf2a74e2f8e",
   "metadata": {},
   "outputs": [
    {
     "name": "stdout",
     "output_type": "stream",
     "text": [
      "0.5\n"
     ]
    },
    {
     "name": "stderr",
     "output_type": "stream",
     "text": [
      "C:\\Users\\sumed\\anaconda3\\Lib\\site-packages\\sklearn\\metrics\\_ranking.py:891: UserWarning: No positive class found in y_true, recall is set to one for all thresholds.\n",
      "  warnings.warn(\n"
     ]
    }
   ],
   "source": [
    "precision, recall, thresholds = precision_recall_curve(y_true, y_scores)\n",
    "# Use AUC function to calculate the area under the curve of precision recall curve\n",
    "auc_precision_recall = auc(recall, precision)\n",
    "print(auc_precision_recall)"
   ]
  },
  {
   "cell_type": "code",
   "execution_count": 13,
   "id": "4c1ae823-da87-405c-9215-fcd2dec70aaf",
   "metadata": {},
   "outputs": [
    {
     "data": {
      "image/png": "[encoded data removed]",
      "text/plain": [
       "<Figure size 800x600 with 1 Axes>"
      ]
     },
     "metadata": {},
     "output_type": "display_data"
    }
   ],
   "source": [
    "plt.figure(figsize=(8, 6))\n",
    "plt.plot(recall, precision, label=f'Precision-Recall Curve (AUC = {auc_precision_recall})')\n",
    "plt.xlabel('Recall')\n",
    "plt.ylabel('Precision')\n",
    "plt.title('Precision-Recall Curve: HIV-1 Life Cycle')\n",
    "plt.legend(loc='best')\n",
    "plt.grid(True)\n",
    "plt.show()"
   ]
  },
  {
   "cell_type": "markdown",
   "id": "cbf4e637-a0eb-43b6-9f2e-4fc67341cdac",
   "metadata": {},
   "source": [
    "- took two most relevant pathways hoping for overlap \n",
    "- hard to see if we're getting reasonable pathways\n",
    "- same challenges in original study\n",
    "- due to lack of gold standard\n",
    "- kegg is not going to be useful to find gold standard\n",
    "\n",
    "TODO: try to find something that definitely had overlap for positive control"
   ]
  }
 ],
 "metadata": {
  "kernelspec": {
   "display_name": "Python 3 (ipykernel)",
   "language": "python",
   "name": "python3"
  },
  "language_info": {
   "codemirror_mode": {
    "name": "ipython",
    "version": 3
   },
   "file_extension": ".py",
   "mimetype": "text/x-python",
   "name": "python",
   "nbconvert_exporter": "python",
   "pygments_lexer": "ipython3",
   "version": "3.11.7"
  }
 },
 "nbformat": 4,
 "nbformat_minor": 5
}
