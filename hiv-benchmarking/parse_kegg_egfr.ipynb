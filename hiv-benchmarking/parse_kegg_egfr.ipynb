{
 "cells": [
  {
   "cell_type": "code",
   "execution_count": 1,
   "metadata": {},
   "outputs": [],
   "source": [
    "from Bio.KEGG.KGML.KGML_parser import read, parse\n",
    "import pandas as pd\n",
    "import requests\n",
    "import re"
   ]
  },
  {
   "cell_type": "markdown",
   "metadata": {},
   "source": [
    "**Load KEGG xml file**"
   ]
  },
  {
   "cell_type": "code",
   "execution_count": 2,
   "metadata": {},
   "outputs": [
    {
     "name": "stdout",
     "output_type": "stream",
     "text": [
      "Pathway: ErbB signaling pathway\n",
      "KEGG ID: path:hsa04012\n",
      "Image file: https://www.kegg.jp/kegg/pathway/hsa/hsa04012.png\n",
      "Organism: hsa\n",
      "Entries: 80\n",
      "Entry types:\n",
      "\tgene: 60\n",
      "\tgroup: 6\n",
      "\tcompound: 4\n",
      "\tmap: 10\n",
      "\n"
     ]
    }
   ],
   "source": [
    "pathway = read(open(\"hiv_raw_data/hsa04012.xml\", 'r'))\n",
    "print(pathway)"
   ]
  },
  {
   "cell_type": "markdown",
   "metadata": {},
   "source": [
    "**Function to extract relations (i.e. edges) from KGML file**"
   ]
  },
  {
   "cell_type": "code",
   "execution_count": 3,
   "metadata": {},
   "outputs": [],
   "source": [
    "def extract_relations(kgml_file):\n",
    "\n",
    "    with open(kgml_file, 'r') as f:\n",
    "        pathway = read(f)\n",
    "\n",
    "    relations_data = []\n",
    "\n",
    "    # iterate over all relations in the pathway\n",
    "    for relation in pathway.relations:\n",
    "        entry1 = relation.entry1.id\n",
    "        entry2 = relation.entry2.id\n",
    "        relation_type = relation.type  # Type of interaction (e.g., PPrel, GErel, etc.)\n",
    "\n",
    "        relations_data.append((entry1, entry2, relation_type))\n",
    "\n",
    "    return relations_data"
   ]
  },
  {
   "cell_type": "markdown",
   "metadata": {},
   "source": [
    "**Parse KGML file to extract relations**"
   ]
  },
  {
   "cell_type": "code",
   "execution_count": 4,
   "metadata": {},
   "outputs": [
    {
     "name": "stdout",
     "output_type": "stream",
     "text": [
      "85\n"
     ]
    }
   ],
   "source": [
    "kgml_file_path = \"hiv_raw_data/hsa04012.xml\"  \n",
    "relations = extract_relations(kgml_file_path)\n",
    "\n",
    "# for node1, node2, rel_type in relations:\n",
    "#     print(f\"Relation: Node1={node1}, Node2={node2}, Type={rel_type}\")\n",
    "\n",
    "print(len(relations))"
   ]
  },
  {
   "cell_type": "code",
   "execution_count": 5,
   "metadata": {},
   "outputs": [
    {
     "data": {
      "text/html": [
       "<div>\n",
       "<style scoped>\n",
       "    .dataframe tbody tr th:only-of-type {\n",
       "        vertical-align: middle;\n",
       "    }\n",
       "\n",
       "    .dataframe tbody tr th {\n",
       "        vertical-align: top;\n",
       "    }\n",
       "\n",
       "    .dataframe thead th {\n",
       "        text-align: right;\n",
       "    }\n",
       "</style>\n",
       "<table border=\"1\" class=\"dataframe\">\n",
       "  <thead>\n",
       "    <tr style=\"text-align: right;\">\n",
       "      <th></th>\n",
       "      <th>Node1</th>\n",
       "      <th>Node2</th>\n",
       "      <th>RelationType</th>\n",
       "    </tr>\n",
       "  </thead>\n",
       "  <tbody>\n",
       "    <tr>\n",
       "      <th>0</th>\n",
       "      <td>70</td>\n",
       "      <td>10</td>\n",
       "      <td>PPrel</td>\n",
       "    </tr>\n",
       "    <tr>\n",
       "      <th>1</th>\n",
       "      <td>8</td>\n",
       "      <td>38</td>\n",
       "      <td>PPrel</td>\n",
       "    </tr>\n",
       "    <tr>\n",
       "      <th>2</th>\n",
       "      <td>177</td>\n",
       "      <td>55</td>\n",
       "      <td>PPrel</td>\n",
       "    </tr>\n",
       "    <tr>\n",
       "      <th>3</th>\n",
       "      <td>38</td>\n",
       "      <td>64</td>\n",
       "      <td>PPrel</td>\n",
       "    </tr>\n",
       "    <tr>\n",
       "      <th>4</th>\n",
       "      <td>177</td>\n",
       "      <td>41</td>\n",
       "      <td>PPrel</td>\n",
       "    </tr>\n",
       "  </tbody>\n",
       "</table>\n",
       "</div>"
      ],
      "text/plain": [
       "   Node1  Node2 RelationType\n",
       "0     70     10        PPrel\n",
       "1      8     38        PPrel\n",
       "2    177     55        PPrel\n",
       "3     38     64        PPrel\n",
       "4    177     41        PPrel"
      ]
     },
     "execution_count": 5,
     "metadata": {},
     "output_type": "execute_result"
    }
   ],
   "source": [
    "relations_df = pd.DataFrame(relations, columns=['Node1', 'Node2', 'RelationType'])\n",
    "relations_df.head()"
   ]
  },
  {
   "cell_type": "markdown",
   "metadata": {},
   "source": [
    "**Get entries i.e. nodes from KGML file**"
   ]
  },
  {
   "cell_type": "code",
   "execution_count": 6,
   "metadata": {},
   "outputs": [
    {
     "data": {
      "text/plain": [
       "80"
      ]
     },
     "execution_count": 6,
     "metadata": {},
     "output_type": "execute_result"
    }
   ],
   "source": [
    "entries_data = []\n",
    "for entry in pathway.entries.values():\n",
    "    entries_data.append({\n",
    "        'id': entry.id,\n",
    "        'name': entry.name,\n",
    "        'type': entry.type,\n",
    "        'link': entry.link,\n",
    "        'reaction': entry.reaction,\n",
    "    })\n",
    "entries_df = pd.DataFrame(entries_data)\n",
    "len(entries_df)"
   ]
  },
  {
   "cell_type": "code",
   "execution_count": 7,
   "metadata": {},
   "outputs": [
    {
     "data": {
      "text/html": [
       "<div>\n",
       "<style scoped>\n",
       "    .dataframe tbody tr th:only-of-type {\n",
       "        vertical-align: middle;\n",
       "    }\n",
       "\n",
       "    .dataframe tbody tr th {\n",
       "        vertical-align: top;\n",
       "    }\n",
       "\n",
       "    .dataframe thead th {\n",
       "        text-align: right;\n",
       "    }\n",
       "</style>\n",
       "<table border=\"1\" class=\"dataframe\">\n",
       "  <thead>\n",
       "    <tr style=\"text-align: right;\">\n",
       "      <th></th>\n",
       "      <th>id</th>\n",
       "      <th>name</th>\n",
       "      <th>type</th>\n",
       "      <th>link</th>\n",
       "      <th>reaction</th>\n",
       "    </tr>\n",
       "  </thead>\n",
       "  <tbody>\n",
       "    <tr>\n",
       "      <th>0</th>\n",
       "      <td>7</td>\n",
       "      <td>path:hsa05223</td>\n",
       "      <td>map</td>\n",
       "      <td>https://www.kegg.jp/dbget-bin/www_bget?hsa05223</td>\n",
       "      <td></td>\n",
       "    </tr>\n",
       "    <tr>\n",
       "      <th>1</th>\n",
       "      <td>8</td>\n",
       "      <td>hsa:2885</td>\n",
       "      <td>gene</td>\n",
       "      <td>https://www.kegg.jp/dbget-bin/www_bget?hsa:2885</td>\n",
       "      <td></td>\n",
       "    </tr>\n",
       "    <tr>\n",
       "      <th>2</th>\n",
       "      <td>9</td>\n",
       "      <td>hsa:2002</td>\n",
       "      <td>gene</td>\n",
       "      <td>https://www.kegg.jp/dbget-bin/www_bget?hsa:2002</td>\n",
       "      <td></td>\n",
       "    </tr>\n",
       "    <tr>\n",
       "      <th>3</th>\n",
       "      <td>10</td>\n",
       "      <td>hsa:2066</td>\n",
       "      <td>gene</td>\n",
       "      <td>https://www.kegg.jp/dbget-bin/www_bget?hsa:2066</td>\n",
       "      <td></td>\n",
       "    </tr>\n",
       "    <tr>\n",
       "      <th>4</th>\n",
       "      <td>11</td>\n",
       "      <td>hsa:2066</td>\n",
       "      <td>gene</td>\n",
       "      <td>https://www.kegg.jp/dbget-bin/www_bget?hsa:2066</td>\n",
       "      <td></td>\n",
       "    </tr>\n",
       "  </tbody>\n",
       "</table>\n",
       "</div>"
      ],
      "text/plain": [
       "   id           name  type                                             link  \\\n",
       "0   7  path:hsa05223   map  https://www.kegg.jp/dbget-bin/www_bget?hsa05223   \n",
       "1   8       hsa:2885  gene  https://www.kegg.jp/dbget-bin/www_bget?hsa:2885   \n",
       "2   9       hsa:2002  gene  https://www.kegg.jp/dbget-bin/www_bget?hsa:2002   \n",
       "3  10       hsa:2066  gene  https://www.kegg.jp/dbget-bin/www_bget?hsa:2066   \n",
       "4  11       hsa:2066  gene  https://www.kegg.jp/dbget-bin/www_bget?hsa:2066   \n",
       "\n",
       "  reaction  \n",
       "0           \n",
       "1           \n",
       "2           \n",
       "3           \n",
       "4           "
      ]
     },
     "execution_count": 7,
     "metadata": {},
     "output_type": "execute_result"
    }
   ],
   "source": [
    "entries_df.head()"
   ]
  },
  {
   "cell_type": "code",
   "execution_count": 8,
   "metadata": {},
   "outputs": [
    {
     "data": {
      "text/plain": [
       "{'compound', 'gene', 'group', 'map'}"
      ]
     },
     "execution_count": 8,
     "metadata": {},
     "output_type": "execute_result"
    }
   ],
   "source": [
    "set(entries_df['type'])"
   ]
  },
  {
   "cell_type": "markdown",
   "metadata": {},
   "source": [
    "**Map the entry IDs in the relations to NodeIDs**"
   ]
  },
  {
   "cell_type": "code",
   "execution_count": 10,
   "metadata": {},
   "outputs": [
    {
     "data": {
      "text/html": [
       "<div>\n",
       "<style scoped>\n",
       "    .dataframe tbody tr th:only-of-type {\n",
       "        vertical-align: middle;\n",
       "    }\n",
       "\n",
       "    .dataframe tbody tr th {\n",
       "        vertical-align: top;\n",
       "    }\n",
       "\n",
       "    .dataframe thead th {\n",
       "        text-align: right;\n",
       "    }\n",
       "</style>\n",
       "<table border=\"1\" class=\"dataframe\">\n",
       "  <thead>\n",
       "    <tr style=\"text-align: right;\">\n",
       "      <th></th>\n",
       "      <th>Node1</th>\n",
       "      <th>Node2</th>\n",
       "      <th>RelationType</th>\n",
       "      <th>Node1_Name</th>\n",
       "    </tr>\n",
       "  </thead>\n",
       "  <tbody>\n",
       "    <tr>\n",
       "      <th>0</th>\n",
       "      <td>70</td>\n",
       "      <td>10</td>\n",
       "      <td>PPrel</td>\n",
       "      <td>hsa:145957</td>\n",
       "    </tr>\n",
       "    <tr>\n",
       "      <th>1</th>\n",
       "      <td>8</td>\n",
       "      <td>38</td>\n",
       "      <td>PPrel</td>\n",
       "      <td>hsa:2885</td>\n",
       "    </tr>\n",
       "    <tr>\n",
       "      <th>2</th>\n",
       "      <td>177</td>\n",
       "      <td>55</td>\n",
       "      <td>PPrel</td>\n",
       "      <td>undefined</td>\n",
       "    </tr>\n",
       "    <tr>\n",
       "      <th>3</th>\n",
       "      <td>38</td>\n",
       "      <td>64</td>\n",
       "      <td>PPrel</td>\n",
       "      <td>hsa:2549</td>\n",
       "    </tr>\n",
       "    <tr>\n",
       "      <th>4</th>\n",
       "      <td>177</td>\n",
       "      <td>41</td>\n",
       "      <td>PPrel</td>\n",
       "      <td>undefined</td>\n",
       "    </tr>\n",
       "  </tbody>\n",
       "</table>\n",
       "</div>"
      ],
      "text/plain": [
       "   Node1  Node2 RelationType  Node1_Name\n",
       "0     70     10        PPrel  hsa:145957\n",
       "1      8     38        PPrel    hsa:2885\n",
       "2    177     55        PPrel   undefined\n",
       "3     38     64        PPrel    hsa:2549\n",
       "4    177     41        PPrel   undefined"
      ]
     },
     "execution_count": 10,
     "metadata": {},
     "output_type": "execute_result"
    }
   ],
   "source": [
    "# replace Node1 with Name\n",
    "relations_df = relations_df.merge(entries_df[['id', 'name']], left_on='Node1', right_on='id', how='left').drop(columns=['id'])\n",
    "relations_df.rename(columns={'name': 'Node1_Name'}, inplace=True)\n",
    "relations_df.head()"
   ]
  },
  {
   "cell_type": "code",
   "execution_count": null,
   "metadata": {},
   "outputs": [
    {
     "data": {
      "text/html": [
       "<div>\n",
       "<style scoped>\n",
       "    .dataframe tbody tr th:only-of-type {\n",
       "        vertical-align: middle;\n",
       "    }\n",
       "\n",
       "    .dataframe tbody tr th {\n",
       "        vertical-align: top;\n",
       "    }\n",
       "\n",
       "    .dataframe thead th {\n",
       "        text-align: right;\n",
       "    }\n",
       "</style>\n",
       "<table border=\"1\" class=\"dataframe\">\n",
       "  <thead>\n",
       "    <tr style=\"text-align: right;\">\n",
       "      <th></th>\n",
       "      <th>Node1</th>\n",
       "      <th>Node2</th>\n",
       "      <th>RelationType</th>\n",
       "      <th>Node1_Name</th>\n",
       "      <th>Node2_Name</th>\n",
       "    </tr>\n",
       "  </thead>\n",
       "  <tbody>\n",
       "    <tr>\n",
       "      <th>0</th>\n",
       "      <td>70</td>\n",
       "      <td>10</td>\n",
       "      <td>PPrel</td>\n",
       "      <td>hsa:145957</td>\n",
       "      <td>hsa:2066</td>\n",
       "    </tr>\n",
       "    <tr>\n",
       "      <th>1</th>\n",
       "      <td>8</td>\n",
       "      <td>38</td>\n",
       "      <td>PPrel</td>\n",
       "      <td>hsa:2885</td>\n",
       "      <td>hsa:2549</td>\n",
       "    </tr>\n",
       "    <tr>\n",
       "      <th>2</th>\n",
       "      <td>177</td>\n",
       "      <td>55</td>\n",
       "      <td>PPrel</td>\n",
       "      <td>undefined</td>\n",
       "      <td>hsa:5335 hsa:5336</td>\n",
       "    </tr>\n",
       "    <tr>\n",
       "      <th>3</th>\n",
       "      <td>38</td>\n",
       "      <td>64</td>\n",
       "      <td>PPrel</td>\n",
       "      <td>hsa:2549</td>\n",
       "      <td>hsa:110117499 hsa:5290 hsa:5291 hsa:5293 hsa:5...</td>\n",
       "    </tr>\n",
       "    <tr>\n",
       "      <th>4</th>\n",
       "      <td>177</td>\n",
       "      <td>41</td>\n",
       "      <td>PPrel</td>\n",
       "      <td>undefined</td>\n",
       "      <td>hsa:867 hsa:868</td>\n",
       "    </tr>\n",
       "  </tbody>\n",
       "</table>\n",
       "</div>"
      ],
      "text/plain": [
       "   Node1  Node2 RelationType  Node1_Name  \\\n",
       "0     70     10        PPrel  hsa:145957   \n",
       "1      8     38        PPrel    hsa:2885   \n",
       "2    177     55        PPrel   undefined   \n",
       "3     38     64        PPrel    hsa:2549   \n",
       "4    177     41        PPrel   undefined   \n",
       "\n",
       "                                          Node2_Name  \n",
       "0                                           hsa:2066  \n",
       "1                                           hsa:2549  \n",
       "2                                  hsa:5335 hsa:5336  \n",
       "3  hsa:110117499 hsa:5290 hsa:5291 hsa:5293 hsa:5...  \n",
       "4                                    hsa:867 hsa:868  "
      ]
     },
     "execution_count": 11,
     "metadata": {},
     "output_type": "execute_result"
    }
   ],
   "source": [
    "# replace Node2 with Name\n",
    "relations_df = relations_df.merge(entries_df[['id', 'name']], left_on='Node2', right_on='id', how='left').drop(columns=['id'])\n",
    "relations_df.rename(columns={'name': 'Node2_Name'}, inplace=True)\n",
    "relations_df.head()"
   ]
  },
  {
   "cell_type": "markdown",
   "metadata": {},
   "source": [
    "**TODO:**\n",
    "- cartesian product for the one to many mapping\n",
    "- ID mapping from HSA IDs to Uniprot Entry name?\n",
    "- Clean up resulting edge/network dataframe"
   ]
  },
  {
   "cell_type": "code",
   "execution_count": null,
   "metadata": {},
   "outputs": [],
   "source": []
  }
 ],
 "metadata": {
  "kernelspec": {
   "display_name": "base",
   "language": "python",
   "name": "python3"
  },
  "language_info": {
   "codemirror_mode": {
    "name": "ipython",
    "version": 3
   },
   "file_extension": ".py",
   "mimetype": "text/x-python",
   "name": "python",
   "nbconvert_exporter": "python",
   "pygments_lexer": "ipython3",
   "version": "3.11.7"
  }
 },
 "nbformat": 4,
 "nbformat_minor": 2
}
