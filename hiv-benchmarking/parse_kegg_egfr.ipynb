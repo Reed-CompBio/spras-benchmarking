{
 "cells": [
  {
   "cell_type": "code",
   "execution_count": 1,
   "metadata": {},
   "outputs": [],
   "source": [
    "from Bio.KEGG.KGML.KGML_parser import read\n",
    "import pandas as pd\n",
    "import requests\n",
    "import re"
   ]
  },
  {
   "cell_type": "code",
   "execution_count": 4,
   "metadata": {},
   "outputs": [
    {
     "name": "stdout",
     "output_type": "stream",
     "text": [
      "Pathway: ErbB signaling pathway\n",
      "KEGG ID: path:hsa04012\n",
      "Image file: https://www.kegg.jp/kegg/pathway/hsa/hsa04012.png\n",
      "Organism: hsa\n",
      "Entries: 80\n",
      "Entry types:\n",
      "\tgene: 60\n",
      "\tgroup: 6\n",
      "\tcompound: 4\n",
      "\tmap: 10\n",
      "\n"
     ]
    }
   ],
   "source": [
    "pathway = read(open(\"hiv_raw_data/hsa04012.xml\", 'r'))\n",
    "print(pathway)"
   ]
  },
  {
   "cell_type": "code",
   "execution_count": 9,
   "metadata": {},
   "outputs": [
    {
     "data": {
      "text/plain": [
       "80"
      ]
     },
     "execution_count": 9,
     "metadata": {},
     "output_type": "execute_result"
    }
   ],
   "source": [
    "entries_data = []\n",
    "for entry in pathway.entries.values():\n",
    "    entries_data.append({\n",
    "        'id': entry.id,\n",
    "        'name': entry.name,\n",
    "        'type': entry.type,\n",
    "        'link': entry.link,\n",
    "        'reaction': entry.reaction,\n",
    "    })\n",
    "entries_df = pd.DataFrame(entries_data)\n",
    "len(entries_df)"
   ]
  },
  {
   "cell_type": "code",
   "execution_count": 6,
   "metadata": {},
   "outputs": [
    {
     "data": {
      "text/html": [
       "<div>\n",
       "<style scoped>\n",
       "    .dataframe tbody tr th:only-of-type {\n",
       "        vertical-align: middle;\n",
       "    }\n",
       "\n",
       "    .dataframe tbody tr th {\n",
       "        vertical-align: top;\n",
       "    }\n",
       "\n",
       "    .dataframe thead th {\n",
       "        text-align: right;\n",
       "    }\n",
       "</style>\n",
       "<table border=\"1\" class=\"dataframe\">\n",
       "  <thead>\n",
       "    <tr style=\"text-align: right;\">\n",
       "      <th></th>\n",
       "      <th>id</th>\n",
       "      <th>name</th>\n",
       "      <th>type</th>\n",
       "      <th>link</th>\n",
       "      <th>reaction</th>\n",
       "    </tr>\n",
       "  </thead>\n",
       "  <tbody>\n",
       "    <tr>\n",
       "      <th>0</th>\n",
       "      <td>7</td>\n",
       "      <td>path:hsa05223</td>\n",
       "      <td>map</td>\n",
       "      <td>https://www.kegg.jp/dbget-bin/www_bget?hsa05223</td>\n",
       "      <td></td>\n",
       "    </tr>\n",
       "    <tr>\n",
       "      <th>1</th>\n",
       "      <td>8</td>\n",
       "      <td>hsa:2885</td>\n",
       "      <td>gene</td>\n",
       "      <td>https://www.kegg.jp/dbget-bin/www_bget?hsa:2885</td>\n",
       "      <td></td>\n",
       "    </tr>\n",
       "    <tr>\n",
       "      <th>2</th>\n",
       "      <td>9</td>\n",
       "      <td>hsa:2002</td>\n",
       "      <td>gene</td>\n",
       "      <td>https://www.kegg.jp/dbget-bin/www_bget?hsa:2002</td>\n",
       "      <td></td>\n",
       "    </tr>\n",
       "    <tr>\n",
       "      <th>3</th>\n",
       "      <td>10</td>\n",
       "      <td>hsa:2066</td>\n",
       "      <td>gene</td>\n",
       "      <td>https://www.kegg.jp/dbget-bin/www_bget?hsa:2066</td>\n",
       "      <td></td>\n",
       "    </tr>\n",
       "    <tr>\n",
       "      <th>4</th>\n",
       "      <td>11</td>\n",
       "      <td>hsa:2066</td>\n",
       "      <td>gene</td>\n",
       "      <td>https://www.kegg.jp/dbget-bin/www_bget?hsa:2066</td>\n",
       "      <td></td>\n",
       "    </tr>\n",
       "  </tbody>\n",
       "</table>\n",
       "</div>"
      ],
      "text/plain": [
       "   id           name  type                                             link  \\\n",
       "0   7  path:hsa05223   map  https://www.kegg.jp/dbget-bin/www_bget?hsa05223   \n",
       "1   8       hsa:2885  gene  https://www.kegg.jp/dbget-bin/www_bget?hsa:2885   \n",
       "2   9       hsa:2002  gene  https://www.kegg.jp/dbget-bin/www_bget?hsa:2002   \n",
       "3  10       hsa:2066  gene  https://www.kegg.jp/dbget-bin/www_bget?hsa:2066   \n",
       "4  11       hsa:2066  gene  https://www.kegg.jp/dbget-bin/www_bget?hsa:2066   \n",
       "\n",
       "  reaction  \n",
       "0           \n",
       "1           \n",
       "2           \n",
       "3           \n",
       "4           "
      ]
     },
     "execution_count": 6,
     "metadata": {},
     "output_type": "execute_result"
    }
   ],
   "source": [
    "entries_df.head()"
   ]
  },
  {
   "cell_type": "code",
   "execution_count": 7,
   "metadata": {},
   "outputs": [
    {
     "data": {
      "text/plain": [
       "{'compound', 'gene', 'group', 'map'}"
      ]
     },
     "execution_count": 7,
     "metadata": {},
     "output_type": "execute_result"
    }
   ],
   "source": [
    "set(entries_df['type'])"
   ]
  },
  {
   "cell_type": "code",
   "execution_count": null,
   "metadata": {},
   "outputs": [],
   "source": [
    "proteins_df = entries_df[entries_df['type'] == 'ortholog'] "
   ]
  }
 ],
 "metadata": {
  "kernelspec": {
   "display_name": "base",
   "language": "python",
   "name": "python3"
  },
  "language_info": {
   "codemirror_mode": {
    "name": "ipython",
    "version": 3
   },
   "file_extension": ".py",
   "mimetype": "text/x-python",
   "name": "python",
   "nbconvert_exporter": "python",
   "pygments_lexer": "ipython3",
   "version": "3.11.7"
  }
 },
 "nbformat": 4,
 "nbformat_minor": 2
}
