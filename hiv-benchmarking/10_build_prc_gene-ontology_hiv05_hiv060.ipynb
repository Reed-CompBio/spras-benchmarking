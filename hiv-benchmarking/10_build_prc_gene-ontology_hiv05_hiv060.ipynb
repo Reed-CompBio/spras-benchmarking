{
 "cells": [
  {
   "cell_type": "markdown",
   "id": "ba432adb-a094-4edc-b820-158249c12ea0",
   "metadata": {},
   "source": [
    "## Build Precision Recall Curve: "
   ]
  },
  {
   "cell_type": "code",
   "execution_count": 1,
   "id": "52e8ce7b-1420-4bab-9b97-f6a3720334a6",
   "metadata": {},
   "outputs": [],
   "source": [
    "import pandas as pd\n",
    "import numpy as np\n",
    "from sklearn.metrics import precision_recall_curve, average_precision_score\n",
    "from collections import Counter\n",
    "import matplotlib.pyplot as plt"
   ]
  },
  {
   "cell_type": "markdown",
   "id": "11bdeb6e-7d88-4a1f-b44f-a9da13037b29",
   "metadata": {},
   "source": [
    "#### Functions: builds the dataframe of Node, scores, and label - needed to build the PRC"
   ]
  },
  {
   "cell_type": "code",
   "execution_count": 2,
   "id": "7e03b1e7-ba34-41d9-9325-9afb81337a66",
   "metadata": {},
   "outputs": [],
   "source": [
    "def build_prc_df(ensemble_df, go_ensemble_list):\n",
    "    go_ensemble_prc_df = ensemble_df.copy()\n",
    "    go_ensemble_prc_df['y_go'] = 0\n",
    "    go_ensemble_prc_df.loc[go_ensemble_prc_df['Node'].isin(go_ensemble_list), 'y_go'] = 1\n",
    "    # go0000398_ensemble05_prc_df.head()\n",
    "    return go_ensemble_prc_df"
   ]
  },
  {
   "cell_type": "markdown",
   "id": "0c6135af-febc-4478-a3b0-fe63ea11f752",
   "metadata": {},
   "source": [
    "##### Function: builds the dataframe that lists the number of times each biological process shows up in the overlap of ensemble pathways and the particular GO term"
   ]
  },
  {
   "cell_type": "code",
   "execution_count": 3,
   "id": "569d5736-df6e-476a-9937-08a27fbbd8ca",
   "metadata": {},
   "outputs": [],
   "source": [
    "def build_biological_process_count_df(go_ensemble_prc_df, go_df):\n",
    "    overlap_df = go_ensemble_prc_df[go_ensemble_prc_df['y_go'] == 1].reset_index().drop('index', axis=1)\n",
    "    print(len(overlap_df))\n",
    "    merged_df = pd.merge(overlap_df, go_df, left_on='Node', right_on='Entry Name')\n",
    "    biological_processes = merged_df['Gene Ontology (biological process)']\n",
    "    # expand the list of biological processes on ';' char\n",
    "    biological_processes_go = [element.strip() for string in biological_processes for element in string.split(';')]\n",
    "    # build count df\n",
    "    df = pd.DataFrame(biological_processes_go, columns=['Element'])\n",
    "    go_count_df = df['Element'].value_counts().reset_index()\n",
    "    go_count_df.columns = ['Element', 'Count']\n",
    "    return go_count_df"
   ]
  },
  {
   "cell_type": "markdown",
   "id": "a1156966-16a7-4800-bd77-1ff26ec220dd",
   "metadata": {},
   "source": [
    "## Part 1: Compare SPRAS hiv05 max node frequency and GO terms"
   ]
  },
  {
   "cell_type": "markdown",
   "id": "571e9d6d-5eee-4956-bf47-c74085f92d4e",
   "metadata": {},
   "source": [
    "### Load hiv05 max ensemble node frequency"
   ]
  },
  {
   "cell_type": "code",
   "execution_count": 4,
   "id": "023c43be-084f-4a8c-b3bd-45b57bbf1417",
   "metadata": {},
   "outputs": [
    {
     "data": {
      "text/html": [
       "<div>\n",
       "<style scoped>\n",
       "    .dataframe tbody tr th:only-of-type {\n",
       "        vertical-align: middle;\n",
       "    }\n",
       "\n",
       "    .dataframe tbody tr th {\n",
       "        vertical-align: top;\n",
       "    }\n",
       "\n",
       "    .dataframe thead th {\n",
       "        text-align: right;\n",
       "    }\n",
       "</style>\n",
       "<table border=\"1\" class=\"dataframe\">\n",
       "  <thead>\n",
       "    <tr style=\"text-align: right;\">\n",
       "      <th></th>\n",
       "      <th>Node</th>\n",
       "      <th>max_freq</th>\n",
       "    </tr>\n",
       "  </thead>\n",
       "  <tbody>\n",
       "    <tr>\n",
       "      <th>0</th>\n",
       "      <td>1433B_HUMAN</td>\n",
       "      <td>0.16</td>\n",
       "    </tr>\n",
       "    <tr>\n",
       "      <th>1</th>\n",
       "      <td>1433E_HUMAN</td>\n",
       "      <td>0.16</td>\n",
       "    </tr>\n",
       "    <tr>\n",
       "      <th>2</th>\n",
       "      <td>1433G_HUMAN</td>\n",
       "      <td>0.16</td>\n",
       "    </tr>\n",
       "    <tr>\n",
       "      <th>3</th>\n",
       "      <td>1433S_HUMAN</td>\n",
       "      <td>0.12</td>\n",
       "    </tr>\n",
       "    <tr>\n",
       "      <th>4</th>\n",
       "      <td>1433T_HUMAN</td>\n",
       "      <td>0.16</td>\n",
       "    </tr>\n",
       "  </tbody>\n",
       "</table>\n",
       "</div>"
      ],
      "text/plain": [
       "          Node  max_freq\n",
       "0  1433B_HUMAN      0.16\n",
       "1  1433E_HUMAN      0.16\n",
       "2  1433G_HUMAN      0.16\n",
       "3  1433S_HUMAN      0.12\n",
       "4  1433T_HUMAN      0.16"
      ]
     },
     "execution_count": 4,
     "metadata": {},
     "output_type": "execute_result"
    }
   ],
   "source": [
    "ensemble05_df = pd.read_csv(\"C:/Users/sumed/BDS-SROP-24/spras_processed_data/hiv05-max-node-freq-ensemble.csv\")\n",
    "ensemble05_df.head()"
   ]
  },
  {
   "cell_type": "code",
   "execution_count": 5,
   "id": "506ce371-cdeb-4e15-b1c5-05b76aacfa87",
   "metadata": {},
   "outputs": [
    {
     "data": {
      "text/plain": [
       "1237"
      ]
     },
     "execution_count": 5,
     "metadata": {},
     "output_type": "execute_result"
    }
   ],
   "source": [
    "ensemble05_proteins_list = ensemble05_df['Node']\n",
    "len(ensemble05_proteins_list)"
   ]
  },
  {
   "cell_type": "markdown",
   "id": "7cb01ffc-2002-4b0f-9c63-c48608a20f54",
   "metadata": {},
   "source": [
    "### 5 min: GO term --> mRNA splicing, via spliceosome (GO:0000398)"
   ]
  },
  {
   "cell_type": "code",
   "execution_count": 6,
   "id": "6006d0e8-017d-4248-973b-c0cc76b6e690",
   "metadata": {},
   "outputs": [
    {
     "data": {
      "text/html": [
       "<div>\n",
       "<style scoped>\n",
       "    .dataframe tbody tr th:only-of-type {\n",
       "        vertical-align: middle;\n",
       "    }\n",
       "\n",
       "    .dataframe tbody tr th {\n",
       "        vertical-align: top;\n",
       "    }\n",
       "\n",
       "    .dataframe thead th {\n",
       "        text-align: right;\n",
       "    }\n",
       "</style>\n",
       "<table border=\"1\" class=\"dataframe\">\n",
       "  <thead>\n",
       "    <tr style=\"text-align: right;\">\n",
       "      <th></th>\n",
       "      <th>Entry</th>\n",
       "      <th>Reviewed</th>\n",
       "      <th>Entry Name</th>\n",
       "      <th>Protein names</th>\n",
       "      <th>Gene Names</th>\n",
       "      <th>Gene Ontology (biological process)</th>\n",
       "    </tr>\n",
       "  </thead>\n",
       "  <tbody>\n",
       "    <tr>\n",
       "      <th>0</th>\n",
       "      <td>O00148</td>\n",
       "      <td>reviewed</td>\n",
       "      <td>DX39A_HUMAN</td>\n",
       "      <td>ATP-dependent RNA helicase DDX39A (EC 3.6.4.13...</td>\n",
       "      <td>DDX39A DDX39</td>\n",
       "      <td>mRNA export from nucleus [GO:0006406]; mRNA sp...</td>\n",
       "    </tr>\n",
       "    <tr>\n",
       "      <th>1</th>\n",
       "      <td>O14744</td>\n",
       "      <td>reviewed</td>\n",
       "      <td>ANM5_HUMAN</td>\n",
       "      <td>Protein arginine N-methyltransferase 5 (PRMT5)...</td>\n",
       "      <td>PRMT5 HRMT1L5 IBP72 JBP1 SKB1</td>\n",
       "      <td>chromatin remodeling [GO:0006338]; circadian r...</td>\n",
       "    </tr>\n",
       "    <tr>\n",
       "      <th>2</th>\n",
       "      <td>O14893</td>\n",
       "      <td>reviewed</td>\n",
       "      <td>GEMI2_HUMAN</td>\n",
       "      <td>Gem-associated protein 2 (Gemin-2) (Component ...</td>\n",
       "      <td>GEMIN2 SIP1</td>\n",
       "      <td>mRNA processing [GO:0006397]; negative regulat...</td>\n",
       "    </tr>\n",
       "    <tr>\n",
       "      <th>3</th>\n",
       "      <td>O15234</td>\n",
       "      <td>reviewed</td>\n",
       "      <td>CASC3_HUMAN</td>\n",
       "      <td>Protein CASC3 (Cancer susceptibility candidate...</td>\n",
       "      <td>CASC3 MLN51</td>\n",
       "      <td>intracellular mRNA localization [GO:0008298]; ...</td>\n",
       "    </tr>\n",
       "    <tr>\n",
       "      <th>4</th>\n",
       "      <td>O15541</td>\n",
       "      <td>reviewed</td>\n",
       "      <td>R113A_HUMAN</td>\n",
       "      <td>E3 ubiquitin-protein ligase RNF113A (EC 2.3.2....</td>\n",
       "      <td>RNF113A RNF113 ZNF183</td>\n",
       "      <td>DNA repair [GO:0006281]; mRNA splicing, via sp...</td>\n",
       "    </tr>\n",
       "  </tbody>\n",
       "</table>\n",
       "</div>"
      ],
      "text/plain": [
       "    Entry  Reviewed   Entry Name  \\\n",
       "0  O00148  reviewed  DX39A_HUMAN   \n",
       "1  O14744  reviewed   ANM5_HUMAN   \n",
       "2  O14893  reviewed  GEMI2_HUMAN   \n",
       "3  O15234  reviewed  CASC3_HUMAN   \n",
       "4  O15541  reviewed  R113A_HUMAN   \n",
       "\n",
       "                                       Protein names  \\\n",
       "0  ATP-dependent RNA helicase DDX39A (EC 3.6.4.13...   \n",
       "1  Protein arginine N-methyltransferase 5 (PRMT5)...   \n",
       "2  Gem-associated protein 2 (Gemin-2) (Component ...   \n",
       "3  Protein CASC3 (Cancer susceptibility candidate...   \n",
       "4  E3 ubiquitin-protein ligase RNF113A (EC 2.3.2....   \n",
       "\n",
       "                      Gene Names  \\\n",
       "0                   DDX39A DDX39   \n",
       "1  PRMT5 HRMT1L5 IBP72 JBP1 SKB1   \n",
       "2                    GEMIN2 SIP1   \n",
       "3                    CASC3 MLN51   \n",
       "4          RNF113A RNF113 ZNF183   \n",
       "\n",
       "                  Gene Ontology (biological process)  \n",
       "0  mRNA export from nucleus [GO:0006406]; mRNA sp...  \n",
       "1  chromatin remodeling [GO:0006338]; circadian r...  \n",
       "2  mRNA processing [GO:0006397]; negative regulat...  \n",
       "3  intracellular mRNA localization [GO:0008298]; ...  \n",
       "4  DNA repair [GO:0006281]; mRNA splicing, via sp...  "
      ]
     },
     "execution_count": 6,
     "metadata": {},
     "output_type": "execute_result"
    }
   ],
   "source": [
    "go0000398_path = \"C:/Users/sumed/BDS-SROP-24/spras_raw_data/uniprotkb_go_0000398_AND_taxonomy_id_96_2024_07_25.tsv\"\n",
    "go0000398_df = pd.read_csv(go0000398_path, sep='\\t')\n",
    "go0000398_df.head()"
   ]
  },
  {
   "cell_type": "code",
   "execution_count": 7,
   "id": "69148031-f4d4-4a18-8b77-e25831c98940",
   "metadata": {},
   "outputs": [
    {
     "name": "stdout",
     "output_type": "stream",
     "text": [
      "Number of proteins in GO:0000398 and human taxonomy:  677\n",
      "Number of proteins in GO:0000398 and human taxonomy, intersected with SPRAS hiv05 ensemble pathway nodes:  51\n"
     ]
    }
   ],
   "source": [
    "go0000398_proteins_list = go0000398_df['Entry Name']\n",
    "print(\"Number of proteins in GO:0000398 and human taxonomy: \", len(go0000398_proteins_list))\n",
    "go0000398_ensemble05 = list(set(go0000398_proteins_list) & set(ensemble05_proteins_list))\n",
    "print(\"Number of proteins in GO:0000398 and human taxonomy, intersected with SPRAS hiv05 ensemble pathway nodes: \", len(go0000398_ensemble05))"
   ]
  },
  {
   "cell_type": "markdown",
   "id": "c373b267-8269-4c3d-9354-e08b191c6787",
   "metadata": {},
   "source": [
    "#### Building the PRC:"
   ]
  },
  {
   "cell_type": "code",
   "execution_count": 8,
   "id": "f64d814c-ffce-409a-b889-05dc1b6d4995",
   "metadata": {},
   "outputs": [
    {
     "data": {
      "text/html": [
       "<div>\n",
       "<style scoped>\n",
       "    .dataframe tbody tr th:only-of-type {\n",
       "        vertical-align: middle;\n",
       "    }\n",
       "\n",
       "    .dataframe tbody tr th {\n",
       "        vertical-align: top;\n",
       "    }\n",
       "\n",
       "    .dataframe thead th {\n",
       "        text-align: right;\n",
       "    }\n",
       "</style>\n",
       "<table border=\"1\" class=\"dataframe\">\n",
       "  <thead>\n",
       "    <tr style=\"text-align: right;\">\n",
       "      <th></th>\n",
       "      <th>Node</th>\n",
       "      <th>max_freq</th>\n",
       "      <th>y_go</th>\n",
       "    </tr>\n",
       "  </thead>\n",
       "  <tbody>\n",
       "    <tr>\n",
       "      <th>0</th>\n",
       "      <td>1433B_HUMAN</td>\n",
       "      <td>0.16</td>\n",
       "      <td>0</td>\n",
       "    </tr>\n",
       "    <tr>\n",
       "      <th>1</th>\n",
       "      <td>1433E_HUMAN</td>\n",
       "      <td>0.16</td>\n",
       "      <td>0</td>\n",
       "    </tr>\n",
       "    <tr>\n",
       "      <th>2</th>\n",
       "      <td>1433G_HUMAN</td>\n",
       "      <td>0.16</td>\n",
       "      <td>0</td>\n",
       "    </tr>\n",
       "    <tr>\n",
       "      <th>3</th>\n",
       "      <td>1433S_HUMAN</td>\n",
       "      <td>0.12</td>\n",
       "      <td>0</td>\n",
       "    </tr>\n",
       "    <tr>\n",
       "      <th>4</th>\n",
       "      <td>1433T_HUMAN</td>\n",
       "      <td>0.16</td>\n",
       "      <td>0</td>\n",
       "    </tr>\n",
       "  </tbody>\n",
       "</table>\n",
       "</div>"
      ],
      "text/plain": [
       "          Node  max_freq  y_go\n",
       "0  1433B_HUMAN      0.16     0\n",
       "1  1433E_HUMAN      0.16     0\n",
       "2  1433G_HUMAN      0.16     0\n",
       "3  1433S_HUMAN      0.12     0\n",
       "4  1433T_HUMAN      0.16     0"
      ]
     },
     "execution_count": 8,
     "metadata": {},
     "output_type": "execute_result"
    }
   ],
   "source": [
    "go0000398_ensemble05_prc_df = build_prc_df(ensemble05_df, go0000398_ensemble05)\n",
    "go0000398_ensemble05_prc_df.head()"
   ]
  },
  {
   "cell_type": "code",
   "execution_count": 9,
   "id": "ac579730-ec4a-4d6c-b95e-3e27de33b217",
   "metadata": {},
   "outputs": [],
   "source": [
    "# extract needed columns from df\n",
    "y_true = go0000398_ensemble05_prc_df['y_go']\n",
    "y_scores = go0000398_ensemble05_prc_df['max_freq']"
   ]
  },
  {
   "cell_type": "code",
   "execution_count": 10,
   "id": "2360c54c-28c5-4833-8c0f-375916c4373e",
   "metadata": {},
   "outputs": [
    {
     "name": "stdout",
     "output_type": "stream",
     "text": [
      "0.0688765896417117\n"
     ]
    }
   ],
   "source": [
    "precision, recall, thresholds = precision_recall_curve(y_true, y_scores)\n",
    "# use avg precision score to calculate the area under the curve of precision recall curve\n",
    "auc_precision_recall = average_precision_score(y_true, y_scores)\n",
    "print(auc_precision_recall)"
   ]
  },
  {
   "cell_type": "code",
   "execution_count": 11,
   "id": "9a6d27e6-c94f-47ed-9a82-3badc9a59858",
   "metadata": {},
   "outputs": [
    {
     "data": {
      "image/png": "[encoded data removed]",
      "text/plain": [
       "<Figure size 600x400 with 1 Axes>"
      ]
     },
     "metadata": {},
     "output_type": "display_data"
    }
   ],
   "source": [
    "plt.figure(figsize=(6, 4))\n",
    "plt.plot(recall, precision, label=f'Precision-Recall Curve (AUC = {auc_precision_recall:.5f})')\n",
    "plt.xlabel('Recall', fontsize=15)\n",
    "plt.ylabel('Precision', fontsize=15)\n",
    "plt.title('Precision-Recall Curve: mRNA splicing, via spliceosome (GO:0000398), hiv05', fontsize=12)\n",
    "plt.legend(loc='best', fontsize=13)\n",
    "plt.grid(True)\n",
    "plt.show()"
   ]
  },
  {
   "cell_type": "markdown",
   "id": "5967bfea-f19e-44af-94bc-f59fe7e9618b",
   "metadata": {},
   "source": [
    "#### Listing the biological processes for the proteins found in ensemble network"
   ]
  },
  {
   "cell_type": "code",
   "execution_count": 12,
   "id": "f1e56e54-7143-4326-b3c2-fadee9cc628f",
   "metadata": {},
   "outputs": [
    {
     "name": "stdout",
     "output_type": "stream",
     "text": [
      "51\n"
     ]
    },
    {
     "data": {
      "text/html": [
       "<div>\n",
       "<style scoped>\n",
       "    .dataframe tbody tr th:only-of-type {\n",
       "        vertical-align: middle;\n",
       "    }\n",
       "\n",
       "    .dataframe tbody tr th {\n",
       "        vertical-align: top;\n",
       "    }\n",
       "\n",
       "    .dataframe thead th {\n",
       "        text-align: right;\n",
       "    }\n",
       "</style>\n",
       "<table border=\"1\" class=\"dataframe\">\n",
       "  <thead>\n",
       "    <tr style=\"text-align: right;\">\n",
       "      <th></th>\n",
       "      <th>Element</th>\n",
       "      <th>Count</th>\n",
       "    </tr>\n",
       "  </thead>\n",
       "  <tbody>\n",
       "    <tr>\n",
       "      <th>0</th>\n",
       "      <td>mRNA splicing, via spliceosome [GO:0000398]</td>\n",
       "      <td>44</td>\n",
       "    </tr>\n",
       "    <tr>\n",
       "      <th>1</th>\n",
       "      <td>RNA splicing [GO:0008380]</td>\n",
       "      <td>13</td>\n",
       "    </tr>\n",
       "    <tr>\n",
       "      <th>2</th>\n",
       "      <td>negative regulation of mRNA splicing, via spli...</td>\n",
       "      <td>9</td>\n",
       "    </tr>\n",
       "    <tr>\n",
       "      <th>3</th>\n",
       "      <td>mRNA processing [GO:0006397]</td>\n",
       "      <td>9</td>\n",
       "    </tr>\n",
       "    <tr>\n",
       "      <th>4</th>\n",
       "      <td>alternative mRNA splicing, via spliceosome [GO...</td>\n",
       "      <td>7</td>\n",
       "    </tr>\n",
       "    <tr>\n",
       "      <th>5</th>\n",
       "      <td>RNA splicing, via transesterification reaction...</td>\n",
       "      <td>7</td>\n",
       "    </tr>\n",
       "    <tr>\n",
       "      <th>6</th>\n",
       "      <td>positive regulation of transcription by RNA po...</td>\n",
       "      <td>7</td>\n",
       "    </tr>\n",
       "    <tr>\n",
       "      <th>7</th>\n",
       "      <td>regulation of alternative mRNA splicing, via s...</td>\n",
       "      <td>7</td>\n",
       "    </tr>\n",
       "    <tr>\n",
       "      <th>8</th>\n",
       "      <td>RNA processing [GO:0006396]</td>\n",
       "      <td>6</td>\n",
       "    </tr>\n",
       "    <tr>\n",
       "      <th>9</th>\n",
       "      <td>spliceosomal complex assembly [GO:0000245]</td>\n",
       "      <td>6</td>\n",
       "    </tr>\n",
       "    <tr>\n",
       "      <th>10</th>\n",
       "      <td>mRNA cis splicing, via spliceosome [GO:0045292]</td>\n",
       "      <td>5</td>\n",
       "    </tr>\n",
       "    <tr>\n",
       "      <th>11</th>\n",
       "      <td>mRNA splice site recognition [GO:0006376]</td>\n",
       "      <td>5</td>\n",
       "    </tr>\n",
       "    <tr>\n",
       "      <th>12</th>\n",
       "      <td>negative regulation of transcription by RNA po...</td>\n",
       "      <td>5</td>\n",
       "    </tr>\n",
       "    <tr>\n",
       "      <th>13</th>\n",
       "      <td>U2-type prespliceosome assembly [GO:1903241]</td>\n",
       "      <td>5</td>\n",
       "    </tr>\n",
       "    <tr>\n",
       "      <th>14</th>\n",
       "      <td>positive regulation of mRNA splicing, via spli...</td>\n",
       "      <td>5</td>\n",
       "    </tr>\n",
       "  </tbody>\n",
       "</table>\n",
       "</div>"
      ],
      "text/plain": [
       "                                              Element  Count\n",
       "0         mRNA splicing, via spliceosome [GO:0000398]     44\n",
       "1                           RNA splicing [GO:0008380]     13\n",
       "2   negative regulation of mRNA splicing, via spli...      9\n",
       "3                        mRNA processing [GO:0006397]      9\n",
       "4   alternative mRNA splicing, via spliceosome [GO...      7\n",
       "5   RNA splicing, via transesterification reaction...      7\n",
       "6   positive regulation of transcription by RNA po...      7\n",
       "7   regulation of alternative mRNA splicing, via s...      7\n",
       "8                         RNA processing [GO:0006396]      6\n",
       "9          spliceosomal complex assembly [GO:0000245]      6\n",
       "10    mRNA cis splicing, via spliceosome [GO:0045292]      5\n",
       "11          mRNA splice site recognition [GO:0006376]      5\n",
       "12  negative regulation of transcription by RNA po...      5\n",
       "13       U2-type prespliceosome assembly [GO:1903241]      5\n",
       "14  positive regulation of mRNA splicing, via spli...      5"
      ]
     },
     "execution_count": 12,
     "metadata": {},
     "output_type": "execute_result"
    }
   ],
   "source": [
    "go0000398_hiv05_count_df = build_biological_process_count_df(go0000398_ensemble05_prc_df, go0000398_df)\n",
    "go0000398_hiv05_count_df[go0000398_hiv05_count_df['Count'] > 4]"
   ]
  },
  {
   "cell_type": "markdown",
   "id": "7b349288-bc3a-46cd-8b79-38d7186d79b1",
   "metadata": {},
   "source": [
    "### 5 min: GO term --> cell division (GO:0051301)"
   ]
  },
  {
   "cell_type": "code",
   "execution_count": 13,
   "id": "d939cfdc-9353-451e-8668-98b97fecaaf3",
   "metadata": {},
   "outputs": [
    {
     "data": {
      "text/html": [
       "<div>\n",
       "<style scoped>\n",
       "    .dataframe tbody tr th:only-of-type {\n",
       "        vertical-align: middle;\n",
       "    }\n",
       "\n",
       "    .dataframe tbody tr th {\n",
       "        vertical-align: top;\n",
       "    }\n",
       "\n",
       "    .dataframe thead th {\n",
       "        text-align: right;\n",
       "    }\n",
       "</style>\n",
       "<table border=\"1\" class=\"dataframe\">\n",
       "  <thead>\n",
       "    <tr style=\"text-align: right;\">\n",
       "      <th></th>\n",
       "      <th>Entry</th>\n",
       "      <th>Reviewed</th>\n",
       "      <th>Entry Name</th>\n",
       "      <th>Protein names</th>\n",
       "      <th>Gene Names</th>\n",
       "      <th>Gene Ontology (biological process)</th>\n",
       "    </tr>\n",
       "  </thead>\n",
       "  <tbody>\n",
       "    <tr>\n",
       "      <th>0</th>\n",
       "      <td>A0A024R1X5</td>\n",
       "      <td>unreviewed</td>\n",
       "      <td>A0A024R1X5_HUMAN</td>\n",
       "      <td>Beclin-1</td>\n",
       "      <td>BECN1 hCG_16958</td>\n",
       "      <td>amyloid-beta metabolic process [GO:0050435]; a...</td>\n",
       "    </tr>\n",
       "    <tr>\n",
       "      <th>1</th>\n",
       "      <td>A0A0S2Z4N5</td>\n",
       "      <td>unreviewed</td>\n",
       "      <td>A0A0S2Z4N5_HUMAN</td>\n",
       "      <td>Tumor protein 63 (p63)</td>\n",
       "      <td>TP63 TP73L hCG_16028</td>\n",
       "      <td>cellular senescence [GO:0090398]; chromatin re...</td>\n",
       "    </tr>\n",
       "    <tr>\n",
       "      <th>2</th>\n",
       "      <td>A0A140VK09</td>\n",
       "      <td>unreviewed</td>\n",
       "      <td>A0A140VK09_HUMAN</td>\n",
       "      <td>Calcium and integrin-binding protein 1 (Calmyrin)</td>\n",
       "      <td>NaN</td>\n",
       "      <td>angiogenesis [GO:0001525]; apoptotic process [...</td>\n",
       "    </tr>\n",
       "    <tr>\n",
       "      <th>3</th>\n",
       "      <td>A0A2P9DU05</td>\n",
       "      <td>unreviewed</td>\n",
       "      <td>A0A2P9DU05_HUMAN</td>\n",
       "      <td>Rho-associated protein kinase (EC 2.7.11.1)</td>\n",
       "      <td>ROCK2</td>\n",
       "      <td>actomyosin structure organization [GO:0031032]...</td>\n",
       "    </tr>\n",
       "    <tr>\n",
       "      <th>4</th>\n",
       "      <td>A0A2R8Y4I8</td>\n",
       "      <td>unreviewed</td>\n",
       "      <td>A0A2R8Y4I8_HUMAN</td>\n",
       "      <td>Spastin (EC 5.6.1.1)</td>\n",
       "      <td>SPAST SPG4</td>\n",
       "      <td>axonogenesis [GO:0007409]; cytokinetic process...</td>\n",
       "    </tr>\n",
       "  </tbody>\n",
       "</table>\n",
       "</div>"
      ],
      "text/plain": [
       "        Entry    Reviewed        Entry Name  \\\n",
       "0  A0A024R1X5  unreviewed  A0A024R1X5_HUMAN   \n",
       "1  A0A0S2Z4N5  unreviewed  A0A0S2Z4N5_HUMAN   \n",
       "2  A0A140VK09  unreviewed  A0A140VK09_HUMAN   \n",
       "3  A0A2P9DU05  unreviewed  A0A2P9DU05_HUMAN   \n",
       "4  A0A2R8Y4I8  unreviewed  A0A2R8Y4I8_HUMAN   \n",
       "\n",
       "                                       Protein names            Gene Names  \\\n",
       "0                                           Beclin-1       BECN1 hCG_16958   \n",
       "1                             Tumor protein 63 (p63)  TP63 TP73L hCG_16028   \n",
       "2  Calcium and integrin-binding protein 1 (Calmyrin)                   NaN   \n",
       "3        Rho-associated protein kinase (EC 2.7.11.1)                 ROCK2   \n",
       "4                               Spastin (EC 5.6.1.1)            SPAST SPG4   \n",
       "\n",
       "                  Gene Ontology (biological process)  \n",
       "0  amyloid-beta metabolic process [GO:0050435]; a...  \n",
       "1  cellular senescence [GO:0090398]; chromatin re...  \n",
       "2  angiogenesis [GO:0001525]; apoptotic process [...  \n",
       "3  actomyosin structure organization [GO:0031032]...  \n",
       "4  axonogenesis [GO:0007409]; cytokinetic process...  "
      ]
     },
     "execution_count": 13,
     "metadata": {},
     "output_type": "execute_result"
    }
   ],
   "source": [
    "go0051301_path = \"C:/Users/sumed/BDS-SROP-24/spras_raw_data/uniprotkb_go_0051301_AND_taxonomy_id_96_2024_07_29.tsv\"\n",
    "go0051301_df = pd.read_csv(go0051301_path, sep='\\t')\n",
    "go0051301_df.head()"
   ]
  },
  {
   "cell_type": "code",
   "execution_count": 14,
   "id": "607d1946-3322-42df-a448-9904482dfd66",
   "metadata": {},
   "outputs": [
    {
     "name": "stdout",
     "output_type": "stream",
     "text": [
      "Number of proteins in GO:0051301 and human taxonomy:  1064\n",
      "Number of proteins in GO:0051301 and human taxonomy, intersected with SPRAS hiv05 ensemble pathway nodes:  113\n"
     ]
    }
   ],
   "source": [
    "go0051301_proteins_list = go0051301_df['Entry Name']\n",
    "print(\"Number of proteins in GO:0051301 and human taxonomy: \", len(go0051301_proteins_list))\n",
    "go0051301_ensemble05 = list(set(go0051301_proteins_list) & set(ensemble05_proteins_list))\n",
    "print(\"Number of proteins in GO:0051301 and human taxonomy, intersected with SPRAS hiv05 ensemble pathway nodes: \", len(go0051301_ensemble05))"
   ]
  },
  {
   "cell_type": "markdown",
   "id": "a6f678c5-4cdf-4fb5-a950-4b7569ce30aa",
   "metadata": {},
   "source": [
    "#### Building the PRC:"
   ]
  },
  {
   "cell_type": "code",
   "execution_count": 15,
   "id": "d0bd3915-bb99-4730-859c-50aef0d482fe",
   "metadata": {},
   "outputs": [
    {
     "data": {
      "text/html": [
       "<div>\n",
       "<style scoped>\n",
       "    .dataframe tbody tr th:only-of-type {\n",
       "        vertical-align: middle;\n",
       "    }\n",
       "\n",
       "    .dataframe tbody tr th {\n",
       "        vertical-align: top;\n",
       "    }\n",
       "\n",
       "    .dataframe thead th {\n",
       "        text-align: right;\n",
       "    }\n",
       "</style>\n",
       "<table border=\"1\" class=\"dataframe\">\n",
       "  <thead>\n",
       "    <tr style=\"text-align: right;\">\n",
       "      <th></th>\n",
       "      <th>Node</th>\n",
       "      <th>max_freq</th>\n",
       "      <th>y_go</th>\n",
       "    </tr>\n",
       "  </thead>\n",
       "  <tbody>\n",
       "    <tr>\n",
       "      <th>0</th>\n",
       "      <td>1433B_HUMAN</td>\n",
       "      <td>0.16</td>\n",
       "      <td>0</td>\n",
       "    </tr>\n",
       "    <tr>\n",
       "      <th>1</th>\n",
       "      <td>1433E_HUMAN</td>\n",
       "      <td>0.16</td>\n",
       "      <td>0</td>\n",
       "    </tr>\n",
       "    <tr>\n",
       "      <th>2</th>\n",
       "      <td>1433G_HUMAN</td>\n",
       "      <td>0.16</td>\n",
       "      <td>0</td>\n",
       "    </tr>\n",
       "    <tr>\n",
       "      <th>3</th>\n",
       "      <td>1433S_HUMAN</td>\n",
       "      <td>0.12</td>\n",
       "      <td>0</td>\n",
       "    </tr>\n",
       "    <tr>\n",
       "      <th>4</th>\n",
       "      <td>1433T_HUMAN</td>\n",
       "      <td>0.16</td>\n",
       "      <td>0</td>\n",
       "    </tr>\n",
       "  </tbody>\n",
       "</table>\n",
       "</div>"
      ],
      "text/plain": [
       "          Node  max_freq  y_go\n",
       "0  1433B_HUMAN      0.16     0\n",
       "1  1433E_HUMAN      0.16     0\n",
       "2  1433G_HUMAN      0.16     0\n",
       "3  1433S_HUMAN      0.12     0\n",
       "4  1433T_HUMAN      0.16     0"
      ]
     },
     "execution_count": 15,
     "metadata": {},
     "output_type": "execute_result"
    }
   ],
   "source": [
    "go0051301_ensemble05_prc_df = build_prc_df(ensemble05_df, go0051301_ensemble05)\n",
    "go0051301_ensemble05_prc_df.head()"
   ]
  },
  {
   "cell_type": "code",
   "execution_count": 16,
   "id": "8857a213-0506-49df-913d-84e1159ab97c",
   "metadata": {},
   "outputs": [],
   "source": [
    "# extract needed columns from df\n",
    "y_true = go0051301_ensemble05_prc_df['y_go']\n",
    "y_scores = go0051301_ensemble05_prc_df['max_freq']"
   ]
  },
  {
   "cell_type": "code",
   "execution_count": 17,
   "id": "3968042f-ab41-4753-9985-f6a340035bf4",
   "metadata": {},
   "outputs": [
    {
     "name": "stdout",
     "output_type": "stream",
     "text": [
      "0.09764040405994252\n"
     ]
    }
   ],
   "source": [
    "precision, recall, thresholds = precision_recall_curve(y_true, y_scores)\n",
    "# use avg precision score to calculate the area under the curve of precision recall curve\n",
    "auc_precision_recall = average_precision_score(y_true, y_scores)\n",
    "print(auc_precision_recall)"
   ]
  },
  {
   "cell_type": "code",
   "execution_count": 18,
   "id": "0fe64431-e220-4ced-932b-d5847b09dfaa",
   "metadata": {},
   "outputs": [
    {
     "data": {
      "image/png": "[encoded data removed]",
      "text/plain": [
       "<Figure size 600x400 with 1 Axes>"
      ]
     },
     "metadata": {},
     "output_type": "display_data"
    }
   ],
   "source": [
    "plt.figure(figsize=(6, 4))\n",
    "plt.plot(recall, precision, label=f'Precision-Recall Curve (AUC = {auc_precision_recall:.5f})')\n",
    "plt.xlabel('Recall', fontsize=15)\n",
    "plt.ylabel('Precision', fontsize=15)\n",
    "plt.title('Precision-Recall Curve: cell division (GO:0051301), hiv05', fontsize=12)\n",
    "plt.legend(loc='best', fontsize=13)\n",
    "plt.grid(True)\n",
    "plt.show()"
   ]
  },
  {
   "cell_type": "markdown",
   "id": "e774716b-bd41-45e6-9f6f-1736b23ba262",
   "metadata": {},
   "source": [
    "#### Listing the biological processes for the proteins found in ensemble network"
   ]
  },
  {
   "cell_type": "code",
   "execution_count": 19,
   "id": "cc85fa17-6779-4b4c-8eb7-08df39bba60b",
   "metadata": {},
   "outputs": [
    {
     "name": "stdout",
     "output_type": "stream",
     "text": [
      "113\n"
     ]
    },
    {
     "data": {
      "text/html": [
       "<div>\n",
       "<style scoped>\n",
       "    .dataframe tbody tr th:only-of-type {\n",
       "        vertical-align: middle;\n",
       "    }\n",
       "\n",
       "    .dataframe tbody tr th {\n",
       "        vertical-align: top;\n",
       "    }\n",
       "\n",
       "    .dataframe thead th {\n",
       "        text-align: right;\n",
       "    }\n",
       "</style>\n",
       "<table border=\"1\" class=\"dataframe\">\n",
       "  <thead>\n",
       "    <tr style=\"text-align: right;\">\n",
       "      <th></th>\n",
       "      <th>Element</th>\n",
       "      <th>Count</th>\n",
       "    </tr>\n",
       "  </thead>\n",
       "  <tbody>\n",
       "    <tr>\n",
       "      <th>0</th>\n",
       "      <td>cell division [GO:0051301]</td>\n",
       "      <td>73</td>\n",
       "    </tr>\n",
       "    <tr>\n",
       "      <th>1</th>\n",
       "      <td>mitotic cytokinesis [GO:0000281]</td>\n",
       "      <td>20</td>\n",
       "    </tr>\n",
       "    <tr>\n",
       "      <th>2</th>\n",
       "      <td>negative regulation of transcription by RNA po...</td>\n",
       "      <td>16</td>\n",
       "    </tr>\n",
       "    <tr>\n",
       "      <th>3</th>\n",
       "      <td>mitotic cell cycle [GO:0000278]</td>\n",
       "      <td>14</td>\n",
       "    </tr>\n",
       "    <tr>\n",
       "      <th>4</th>\n",
       "      <td>mitotic spindle assembly [GO:0090307]</td>\n",
       "      <td>14</td>\n",
       "    </tr>\n",
       "    <tr>\n",
       "      <th>5</th>\n",
       "      <td>protein phosphorylation [GO:0006468]</td>\n",
       "      <td>11</td>\n",
       "    </tr>\n",
       "    <tr>\n",
       "      <th>6</th>\n",
       "      <td>microtubule cytoskeleton organization [GO:0000...</td>\n",
       "      <td>10</td>\n",
       "    </tr>\n",
       "    <tr>\n",
       "      <th>7</th>\n",
       "      <td>DNA repair [GO:0006281]</td>\n",
       "      <td>10</td>\n",
       "    </tr>\n",
       "    <tr>\n",
       "      <th>8</th>\n",
       "      <td>chromosome segregation [GO:0007059]</td>\n",
       "      <td>10</td>\n",
       "    </tr>\n",
       "    <tr>\n",
       "      <th>9</th>\n",
       "      <td>mitotic spindle organization [GO:0007052]</td>\n",
       "      <td>10</td>\n",
       "    </tr>\n",
       "    <tr>\n",
       "      <th>10</th>\n",
       "      <td>G1/S transition of mitotic cell cycle [GO:0000...</td>\n",
       "      <td>9</td>\n",
       "    </tr>\n",
       "    <tr>\n",
       "      <th>11</th>\n",
       "      <td>mitotic sister chromatid segregation [GO:0000070]</td>\n",
       "      <td>9</td>\n",
       "    </tr>\n",
       "    <tr>\n",
       "      <th>12</th>\n",
       "      <td>apoptotic process [GO:0006915]</td>\n",
       "      <td>9</td>\n",
       "    </tr>\n",
       "    <tr>\n",
       "      <th>13</th>\n",
       "      <td>signal transduction [GO:0007165]</td>\n",
       "      <td>9</td>\n",
       "    </tr>\n",
       "    <tr>\n",
       "      <th>14</th>\n",
       "      <td>regulation of transcription by RNA polymerase ...</td>\n",
       "      <td>9</td>\n",
       "    </tr>\n",
       "  </tbody>\n",
       "</table>\n",
       "</div>"
      ],
      "text/plain": [
       "                                              Element  Count\n",
       "0                          cell division [GO:0051301]     73\n",
       "1                    mitotic cytokinesis [GO:0000281]     20\n",
       "2   negative regulation of transcription by RNA po...     16\n",
       "3                     mitotic cell cycle [GO:0000278]     14\n",
       "4               mitotic spindle assembly [GO:0090307]     14\n",
       "5                protein phosphorylation [GO:0006468]     11\n",
       "6   microtubule cytoskeleton organization [GO:0000...     10\n",
       "7                             DNA repair [GO:0006281]     10\n",
       "8                 chromosome segregation [GO:0007059]     10\n",
       "9           mitotic spindle organization [GO:0007052]     10\n",
       "10  G1/S transition of mitotic cell cycle [GO:0000...      9\n",
       "11  mitotic sister chromatid segregation [GO:0000070]      9\n",
       "12                     apoptotic process [GO:0006915]      9\n",
       "13                   signal transduction [GO:0007165]      9\n",
       "14  regulation of transcription by RNA polymerase ...      9"
      ]
     },
     "execution_count": 19,
     "metadata": {},
     "output_type": "execute_result"
    }
   ],
   "source": [
    "go0051301_hiv05_count_df = build_biological_process_count_df(go0051301_ensemble05_prc_df, go0051301_df)\n",
    "go0051301_hiv05_count_df[go0051301_hiv05_count_df['Count'] > 8]"
   ]
  },
  {
   "cell_type": "markdown",
   "id": "9d0ffcfa-03de-46d6-a6ad-bfef28f302ee",
   "metadata": {},
   "source": [
    "### 5 min: GO term --> positive regulation of transcription from RNA polymerase II promoter\t149 (GO:0045944)"
   ]
  },
  {
   "cell_type": "code",
   "execution_count": 20,
   "id": "c21f3277-3fa1-45bb-ae2e-df045a7c744f",
   "metadata": {},
   "outputs": [
    {
     "data": {
      "text/html": [
       "<div>\n",
       "<style scoped>\n",
       "    .dataframe tbody tr th:only-of-type {\n",
       "        vertical-align: middle;\n",
       "    }\n",
       "\n",
       "    .dataframe tbody tr th {\n",
       "        vertical-align: top;\n",
       "    }\n",
       "\n",
       "    .dataframe thead th {\n",
       "        text-align: right;\n",
       "    }\n",
       "</style>\n",
       "<table border=\"1\" class=\"dataframe\">\n",
       "  <thead>\n",
       "    <tr style=\"text-align: right;\">\n",
       "      <th></th>\n",
       "      <th>Entry</th>\n",
       "      <th>Reviewed</th>\n",
       "      <th>Entry Name</th>\n",
       "      <th>Protein names</th>\n",
       "      <th>Gene Names</th>\n",
       "      <th>Gene Ontology (biological process)</th>\n",
       "    </tr>\n",
       "  </thead>\n",
       "  <tbody>\n",
       "    <tr>\n",
       "      <th>0</th>\n",
       "      <td>A0A024R274</td>\n",
       "      <td>unreviewed</td>\n",
       "      <td>A0A024R274_HUMAN</td>\n",
       "      <td>Mothers against decapentaplegic homolog (MAD h...</td>\n",
       "      <td>SMAD4</td>\n",
       "      <td>adrenal gland development [GO:0030325]; atriov...</td>\n",
       "    </tr>\n",
       "    <tr>\n",
       "      <th>1</th>\n",
       "      <td>A0A024R5Z7</td>\n",
       "      <td>unreviewed</td>\n",
       "      <td>A0A024R5Z7_HUMAN</td>\n",
       "      <td>Annexin</td>\n",
       "      <td>ANXA2 hCG_2004404</td>\n",
       "      <td>angiogenesis [GO:0001525]; cell-matrix adhesio...</td>\n",
       "    </tr>\n",
       "    <tr>\n",
       "      <th>2</th>\n",
       "      <td>A0A0A0MQU7</td>\n",
       "      <td>unreviewed</td>\n",
       "      <td>A0A0A0MQU7_HUMAN</td>\n",
       "      <td>HNF1 homeobox A</td>\n",
       "      <td>HNF1A</td>\n",
       "      <td>apoptotic nuclear changes [GO:0030262]; bile a...</td>\n",
       "    </tr>\n",
       "    <tr>\n",
       "      <th>3</th>\n",
       "      <td>A0A0S2Z310</td>\n",
       "      <td>unreviewed</td>\n",
       "      <td>A0A0S2Z310_HUMAN</td>\n",
       "      <td>Serine/threonine-protein kinase receptor (EC 2...</td>\n",
       "      <td>ACVRL1</td>\n",
       "      <td>angiogenesis [GO:0001525]; blood vessel remode...</td>\n",
       "    </tr>\n",
       "    <tr>\n",
       "      <th>4</th>\n",
       "      <td>A0A0S2Z383</td>\n",
       "      <td>unreviewed</td>\n",
       "      <td>A0A0S2Z383_HUMAN</td>\n",
       "      <td>Homeobox protein Nkx-2.5 (Homeobox protein NK-...</td>\n",
       "      <td>NKX2-5</td>\n",
       "      <td>adult heart development [GO:0007512]; apoptoti...</td>\n",
       "    </tr>\n",
       "  </tbody>\n",
       "</table>\n",
       "</div>"
      ],
      "text/plain": [
       "        Entry    Reviewed        Entry Name  \\\n",
       "0  A0A024R274  unreviewed  A0A024R274_HUMAN   \n",
       "1  A0A024R5Z7  unreviewed  A0A024R5Z7_HUMAN   \n",
       "2  A0A0A0MQU7  unreviewed  A0A0A0MQU7_HUMAN   \n",
       "3  A0A0S2Z310  unreviewed  A0A0S2Z310_HUMAN   \n",
       "4  A0A0S2Z383  unreviewed  A0A0S2Z383_HUMAN   \n",
       "\n",
       "                                       Protein names         Gene Names  \\\n",
       "0  Mothers against decapentaplegic homolog (MAD h...              SMAD4   \n",
       "1                                            Annexin  ANXA2 hCG_2004404   \n",
       "2                                    HNF1 homeobox A              HNF1A   \n",
       "3  Serine/threonine-protein kinase receptor (EC 2...             ACVRL1   \n",
       "4  Homeobox protein Nkx-2.5 (Homeobox protein NK-...             NKX2-5   \n",
       "\n",
       "                  Gene Ontology (biological process)  \n",
       "0  adrenal gland development [GO:0030325]; atriov...  \n",
       "1  angiogenesis [GO:0001525]; cell-matrix adhesio...  \n",
       "2  apoptotic nuclear changes [GO:0030262]; bile a...  \n",
       "3  angiogenesis [GO:0001525]; blood vessel remode...  \n",
       "4  adult heart development [GO:0007512]; apoptoti...  "
      ]
     },
     "execution_count": 20,
     "metadata": {},
     "output_type": "execute_result"
    }
   ],
   "source": [
    "go0045944_path = \"C:/Users/sumed/BDS-SROP-24/spras_raw_data/uniprotkb_go_0045944_AND_taxonomy_id_96_2024_07_29.tsv\"\n",
    "go0045944_df = pd.read_csv(go0045944_path, sep='\\t')\n",
    "go0045944_df.head()"
   ]
  },
  {
   "cell_type": "code",
   "execution_count": 21,
   "id": "bb700bb4-0b10-4685-b2e5-0dd367e0a0ea",
   "metadata": {},
   "outputs": [
    {
     "name": "stdout",
     "output_type": "stream",
     "text": [
      "Number of proteins in GO:0045944 and human taxonomy:  2197\n",
      "Number of proteins in GO:0045944 and human taxonomy, intersected with SPRAS hiv05 ensemble pathway nodes:  191\n"
     ]
    }
   ],
   "source": [
    "go0045944_proteins_list = go0045944_df['Entry Name']\n",
    "print(\"Number of proteins in GO:0045944 and human taxonomy: \", len(go0045944_proteins_list))\n",
    "go0045944_ensemble05 = list(set(go0045944_proteins_list) & set(ensemble05_proteins_list))\n",
    "print(\"Number of proteins in GO:0045944 and human taxonomy, intersected with SPRAS hiv05 ensemble pathway nodes: \", len(go0045944_ensemble05))"
   ]
  },
  {
   "cell_type": "markdown",
   "id": "11def2e7-d640-42c5-9552-67f34a2b928f",
   "metadata": {},
   "source": [
    "#### Building the PRC:"
   ]
  },
  {
   "cell_type": "code",
   "execution_count": 22,
   "id": "f338f683-5504-4004-a8a7-7a5c017cf0f1",
   "metadata": {},
   "outputs": [
    {
     "data": {
      "text/html": [
       "<div>\n",
       "<style scoped>\n",
       "    .dataframe tbody tr th:only-of-type {\n",
       "        vertical-align: middle;\n",
       "    }\n",
       "\n",
       "    .dataframe tbody tr th {\n",
       "        vertical-align: top;\n",
       "    }\n",
       "\n",
       "    .dataframe thead th {\n",
       "        text-align: right;\n",
       "    }\n",
       "</style>\n",
       "<table border=\"1\" class=\"dataframe\">\n",
       "  <thead>\n",
       "    <tr style=\"text-align: right;\">\n",
       "      <th></th>\n",
       "      <th>Node</th>\n",
       "      <th>max_freq</th>\n",
       "      <th>y_go</th>\n",
       "    </tr>\n",
       "  </thead>\n",
       "  <tbody>\n",
       "    <tr>\n",
       "      <th>0</th>\n",
       "      <td>1433B_HUMAN</td>\n",
       "      <td>0.16</td>\n",
       "      <td>0</td>\n",
       "    </tr>\n",
       "    <tr>\n",
       "      <th>1</th>\n",
       "      <td>1433E_HUMAN</td>\n",
       "      <td>0.16</td>\n",
       "      <td>0</td>\n",
       "    </tr>\n",
       "    <tr>\n",
       "      <th>2</th>\n",
       "      <td>1433G_HUMAN</td>\n",
       "      <td>0.16</td>\n",
       "      <td>0</td>\n",
       "    </tr>\n",
       "    <tr>\n",
       "      <th>3</th>\n",
       "      <td>1433S_HUMAN</td>\n",
       "      <td>0.12</td>\n",
       "      <td>0</td>\n",
       "    </tr>\n",
       "    <tr>\n",
       "      <th>4</th>\n",
       "      <td>1433T_HUMAN</td>\n",
       "      <td>0.16</td>\n",
       "      <td>0</td>\n",
       "    </tr>\n",
       "  </tbody>\n",
       "</table>\n",
       "</div>"
      ],
      "text/plain": [
       "          Node  max_freq  y_go\n",
       "0  1433B_HUMAN      0.16     0\n",
       "1  1433E_HUMAN      0.16     0\n",
       "2  1433G_HUMAN      0.16     0\n",
       "3  1433S_HUMAN      0.12     0\n",
       "4  1433T_HUMAN      0.16     0"
      ]
     },
     "execution_count": 22,
     "metadata": {},
     "output_type": "execute_result"
    }
   ],
   "source": [
    "go0045944_ensemble05_prc_df = build_prc_df(ensemble05_df, go0045944_ensemble05)\n",
    "go0045944_ensemble05_prc_df.head()"
   ]
  },
  {
   "cell_type": "code",
   "execution_count": 23,
   "id": "85c75534-9437-4ea5-a6f7-33baa5875f08",
   "metadata": {},
   "outputs": [],
   "source": [
    "# extract needed columns from df\n",
    "y_true = go0045944_ensemble05_prc_df['y_go']\n",
    "y_scores = go0045944_ensemble05_prc_df['max_freq']"
   ]
  },
  {
   "cell_type": "code",
   "execution_count": 24,
   "id": "a7c58c90-48bc-4848-8d89-bba337a5d8f6",
   "metadata": {},
   "outputs": [
    {
     "name": "stdout",
     "output_type": "stream",
     "text": [
      "0.18626784334728516\n"
     ]
    }
   ],
   "source": [
    "precision, recall, thresholds = precision_recall_curve(y_true, y_scores)\n",
    "# use avg precision score to calculate the area under the curve of precision recall curve\n",
    "auc_precision_recall = average_precision_score(y_true, y_scores)\n",
    "print(auc_precision_recall)"
   ]
  },
  {
   "cell_type": "code",
   "execution_count": 25,
   "id": "bce011dd-8729-48f5-95ee-9f8dd3fb1ce2",
   "metadata": {},
   "outputs": [
    {
     "data": {
      "image/png": "[encoded data removed]",
      "text/plain": [
       "<Figure size 600x400 with 1 Axes>"
      ]
     },
     "metadata": {},
     "output_type": "display_data"
    }
   ],
   "source": [
    "plt.figure(figsize=(6, 4))\n",
    "plt.plot(recall, precision, label=f'Precision-Recall Curve (AUC = {auc_precision_recall:.5f})')\n",
    "plt.xlabel('Recall', fontsize=15)\n",
    "plt.ylabel('Precision', fontsize=15)\n",
    "plt.title('Precision-Recall Curve: positive regulation of transcription \\n from RNA polymerase II promoter 149 (GO:0045944), hiv05', fontsize=12)\n",
    "plt.legend(loc='best', fontsize=13)\n",
    "plt.grid(True)\n",
    "plt.show()"
   ]
  },
  {
   "cell_type": "markdown",
   "id": "260ca10f-c583-478d-b1c8-b037bc1ee2b1",
   "metadata": {},
   "source": [
    "#### Listing the biological processes for the proteins found in ensemble network"
   ]
  },
  {
   "cell_type": "code",
   "execution_count": 26,
   "id": "ab293ac3-a2f8-410a-b7a9-e27773ca4429",
   "metadata": {},
   "outputs": [
    {
     "name": "stdout",
     "output_type": "stream",
     "text": [
      "191\n"
     ]
    },
    {
     "data": {
      "text/html": [
       "<div>\n",
       "<style scoped>\n",
       "    .dataframe tbody tr th:only-of-type {\n",
       "        vertical-align: middle;\n",
       "    }\n",
       "\n",
       "    .dataframe tbody tr th {\n",
       "        vertical-align: top;\n",
       "    }\n",
       "\n",
       "    .dataframe thead th {\n",
       "        text-align: right;\n",
       "    }\n",
       "</style>\n",
       "<table border=\"1\" class=\"dataframe\">\n",
       "  <thead>\n",
       "    <tr style=\"text-align: right;\">\n",
       "      <th></th>\n",
       "      <th>Element</th>\n",
       "      <th>Count</th>\n",
       "    </tr>\n",
       "  </thead>\n",
       "  <tbody>\n",
       "    <tr>\n",
       "      <th>0</th>\n",
       "      <td>positive regulation of transcription by RNA po...</td>\n",
       "      <td>174</td>\n",
       "    </tr>\n",
       "    <tr>\n",
       "      <th>1</th>\n",
       "      <td>regulation of transcription by RNA polymerase ...</td>\n",
       "      <td>75</td>\n",
       "    </tr>\n",
       "    <tr>\n",
       "      <th>2</th>\n",
       "      <td>positive regulation of DNA-templated transcrip...</td>\n",
       "      <td>68</td>\n",
       "    </tr>\n",
       "    <tr>\n",
       "      <th>3</th>\n",
       "      <td>negative regulation of transcription by RNA po...</td>\n",
       "      <td>66</td>\n",
       "    </tr>\n",
       "    <tr>\n",
       "      <th>4</th>\n",
       "      <td>transcription by RNA polymerase II [GO:0006366]</td>\n",
       "      <td>38</td>\n",
       "    </tr>\n",
       "    <tr>\n",
       "      <th>5</th>\n",
       "      <td>negative regulation of DNA-templated transcrip...</td>\n",
       "      <td>38</td>\n",
       "    </tr>\n",
       "    <tr>\n",
       "      <th>6</th>\n",
       "      <td>positive regulation of gene expression [GO:001...</td>\n",
       "      <td>34</td>\n",
       "    </tr>\n",
       "    <tr>\n",
       "      <th>7</th>\n",
       "      <td>regulation of DNA-templated transcription [GO:...</td>\n",
       "      <td>32</td>\n",
       "    </tr>\n",
       "    <tr>\n",
       "      <th>8</th>\n",
       "      <td>negative regulation of cell population prolife...</td>\n",
       "      <td>26</td>\n",
       "    </tr>\n",
       "    <tr>\n",
       "      <th>9</th>\n",
       "      <td>chromatin remodeling [GO:0006338]</td>\n",
       "      <td>26</td>\n",
       "    </tr>\n",
       "    <tr>\n",
       "      <th>10</th>\n",
       "      <td>negative regulation of apoptotic process [GO:0...</td>\n",
       "      <td>24</td>\n",
       "    </tr>\n",
       "    <tr>\n",
       "      <th>11</th>\n",
       "      <td>DNA damage response [GO:0006974]</td>\n",
       "      <td>23</td>\n",
       "    </tr>\n",
       "    <tr>\n",
       "      <th>12</th>\n",
       "      <td>apoptotic process [GO:0006915]</td>\n",
       "      <td>21</td>\n",
       "    </tr>\n",
       "    <tr>\n",
       "      <th>13</th>\n",
       "      <td>positive regulation of apoptotic process [GO:0...</td>\n",
       "      <td>21</td>\n",
       "    </tr>\n",
       "  </tbody>\n",
       "</table>\n",
       "</div>"
      ],
      "text/plain": [
       "                                              Element  Count\n",
       "0   positive regulation of transcription by RNA po...    174\n",
       "1   regulation of transcription by RNA polymerase ...     75\n",
       "2   positive regulation of DNA-templated transcrip...     68\n",
       "3   negative regulation of transcription by RNA po...     66\n",
       "4     transcription by RNA polymerase II [GO:0006366]     38\n",
       "5   negative regulation of DNA-templated transcrip...     38\n",
       "6   positive regulation of gene expression [GO:001...     34\n",
       "7   regulation of DNA-templated transcription [GO:...     32\n",
       "8   negative regulation of cell population prolife...     26\n",
       "9                   chromatin remodeling [GO:0006338]     26\n",
       "10  negative regulation of apoptotic process [GO:0...     24\n",
       "11                   DNA damage response [GO:0006974]     23\n",
       "12                     apoptotic process [GO:0006915]     21\n",
       "13  positive regulation of apoptotic process [GO:0...     21"
      ]
     },
     "execution_count": 26,
     "metadata": {},
     "output_type": "execute_result"
    }
   ],
   "source": [
    "go0045944_count_df = build_biological_process_count_df(go0045944_ensemble05_prc_df, go0045944_df)\n",
    "go0045944_count_df[go0045944_count_df['Count'] > 20 ]"
   ]
  },
  {
   "cell_type": "markdown",
   "id": "0a44aae1-996d-46ce-9a89-cf489e90eaf4",
   "metadata": {},
   "source": [
    "## Part 2: Compare SPRAS hiv060 max node frequency and GO terms"
   ]
  },
  {
   "cell_type": "markdown",
   "id": "0ec01f2d-6f97-4430-a101-02b323d1b8dc",
   "metadata": {},
   "source": [
    "### Load hiv060 max ensemble node frequency"
   ]
  },
  {
   "cell_type": "code",
   "execution_count": 27,
   "id": "12d88981-be41-41d5-a393-72dc7e854be4",
   "metadata": {},
   "outputs": [
    {
     "data": {
      "text/html": [
       "<div>\n",
       "<style scoped>\n",
       "    .dataframe tbody tr th:only-of-type {\n",
       "        vertical-align: middle;\n",
       "    }\n",
       "\n",
       "    .dataframe tbody tr th {\n",
       "        vertical-align: top;\n",
       "    }\n",
       "\n",
       "    .dataframe thead th {\n",
       "        text-align: right;\n",
       "    }\n",
       "</style>\n",
       "<table border=\"1\" class=\"dataframe\">\n",
       "  <thead>\n",
       "    <tr style=\"text-align: right;\">\n",
       "      <th></th>\n",
       "      <th>Node</th>\n",
       "      <th>max_freq</th>\n",
       "    </tr>\n",
       "  </thead>\n",
       "  <tbody>\n",
       "    <tr>\n",
       "      <th>0</th>\n",
       "      <td>1433B_HUMAN</td>\n",
       "      <td>0.04</td>\n",
       "    </tr>\n",
       "    <tr>\n",
       "      <th>1</th>\n",
       "      <td>1433E_HUMAN</td>\n",
       "      <td>0.04</td>\n",
       "    </tr>\n",
       "    <tr>\n",
       "      <th>2</th>\n",
       "      <td>1433G_HUMAN</td>\n",
       "      <td>0.04</td>\n",
       "    </tr>\n",
       "    <tr>\n",
       "      <th>3</th>\n",
       "      <td>1433T_HUMAN</td>\n",
       "      <td>0.04</td>\n",
       "    </tr>\n",
       "    <tr>\n",
       "      <th>4</th>\n",
       "      <td>2A5A_HUMAN</td>\n",
       "      <td>0.08</td>\n",
       "    </tr>\n",
       "  </tbody>\n",
       "</table>\n",
       "</div>"
      ],
      "text/plain": [
       "          Node  max_freq\n",
       "0  1433B_HUMAN      0.04\n",
       "1  1433E_HUMAN      0.04\n",
       "2  1433G_HUMAN      0.04\n",
       "3  1433T_HUMAN      0.04\n",
       "4   2A5A_HUMAN      0.08"
      ]
     },
     "execution_count": 27,
     "metadata": {},
     "output_type": "execute_result"
    }
   ],
   "source": [
    "ensemble060_df = pd.read_csv(\"C:/Users/sumed/BDS-SROP-24/spras_processed_data/hiv060-max-node-freq-ensemble.csv\")\n",
    "ensemble060_df.head()"
   ]
  },
  {
   "cell_type": "code",
   "execution_count": 28,
   "id": "da56fe6a-ed8f-417d-844b-5a5443afe10b",
   "metadata": {},
   "outputs": [
    {
     "data": {
      "text/plain": [
       "1029"
      ]
     },
     "execution_count": 28,
     "metadata": {},
     "output_type": "execute_result"
    }
   ],
   "source": [
    "ensemble060_proteins_list = ensemble060_df['Node']\n",
    "len(ensemble060_proteins_list)"
   ]
  },
  {
   "cell_type": "markdown",
   "id": "c6289cd8-0972-4480-b011-3758c4fd04ad",
   "metadata": {},
   "source": [
    "### 60 min: GO term --> cell division (GO:0051301)"
   ]
  },
  {
   "cell_type": "code",
   "execution_count": 29,
   "id": "4dc493f3-51c0-4235-9b5b-c108e830c7d0",
   "metadata": {},
   "outputs": [
    {
     "name": "stdout",
     "output_type": "stream",
     "text": [
      "Number of proteins in GO:0051301 and human taxonomy:  1064\n",
      "Number of proteins in GO:0051301 and human taxonomy, intersected with SPRAS hiv060 ensemble pathway nodes:  101\n"
     ]
    }
   ],
   "source": [
    "go0051301_proteins_list = go0051301_df['Entry Name']\n",
    "print(\"Number of proteins in GO:0051301 and human taxonomy: \", len(go0051301_proteins_list))\n",
    "go0051301_ensemble060 = list(set(go0051301_proteins_list) & set(ensemble060_proteins_list))\n",
    "print(\"Number of proteins in GO:0051301 and human taxonomy, intersected with SPRAS hiv060 ensemble pathway nodes: \", len(go0051301_ensemble060))"
   ]
  },
  {
   "cell_type": "markdown",
   "id": "ec00c8c7-85e7-4673-ad60-5502d554c5bc",
   "metadata": {},
   "source": [
    "#### Build PRC"
   ]
  },
  {
   "cell_type": "code",
   "execution_count": 30,
   "id": "703694e8-7489-42b6-9d63-792052f6ae77",
   "metadata": {},
   "outputs": [
    {
     "data": {
      "text/html": [
       "<div>\n",
       "<style scoped>\n",
       "    .dataframe tbody tr th:only-of-type {\n",
       "        vertical-align: middle;\n",
       "    }\n",
       "\n",
       "    .dataframe tbody tr th {\n",
       "        vertical-align: top;\n",
       "    }\n",
       "\n",
       "    .dataframe thead th {\n",
       "        text-align: right;\n",
       "    }\n",
       "</style>\n",
       "<table border=\"1\" class=\"dataframe\">\n",
       "  <thead>\n",
       "    <tr style=\"text-align: right;\">\n",
       "      <th></th>\n",
       "      <th>Node</th>\n",
       "      <th>max_freq</th>\n",
       "      <th>y_go</th>\n",
       "    </tr>\n",
       "  </thead>\n",
       "  <tbody>\n",
       "    <tr>\n",
       "      <th>0</th>\n",
       "      <td>1433B_HUMAN</td>\n",
       "      <td>0.04</td>\n",
       "      <td>0</td>\n",
       "    </tr>\n",
       "    <tr>\n",
       "      <th>1</th>\n",
       "      <td>1433E_HUMAN</td>\n",
       "      <td>0.04</td>\n",
       "      <td>0</td>\n",
       "    </tr>\n",
       "    <tr>\n",
       "      <th>2</th>\n",
       "      <td>1433G_HUMAN</td>\n",
       "      <td>0.04</td>\n",
       "      <td>0</td>\n",
       "    </tr>\n",
       "    <tr>\n",
       "      <th>3</th>\n",
       "      <td>1433T_HUMAN</td>\n",
       "      <td>0.04</td>\n",
       "      <td>0</td>\n",
       "    </tr>\n",
       "    <tr>\n",
       "      <th>4</th>\n",
       "      <td>2A5A_HUMAN</td>\n",
       "      <td>0.08</td>\n",
       "      <td>0</td>\n",
       "    </tr>\n",
       "  </tbody>\n",
       "</table>\n",
       "</div>"
      ],
      "text/plain": [
       "          Node  max_freq  y_go\n",
       "0  1433B_HUMAN      0.04     0\n",
       "1  1433E_HUMAN      0.04     0\n",
       "2  1433G_HUMAN      0.04     0\n",
       "3  1433T_HUMAN      0.04     0\n",
       "4   2A5A_HUMAN      0.08     0"
      ]
     },
     "execution_count": 30,
     "metadata": {},
     "output_type": "execute_result"
    }
   ],
   "source": [
    "go0051301_ensemble060_prc_df = build_prc_df(ensemble060_df, go0051301_ensemble060)\n",
    "go0051301_ensemble060_prc_df.head()"
   ]
  },
  {
   "cell_type": "code",
   "execution_count": 31,
   "id": "b7243613-4e70-463d-9b86-a27bcecd990f",
   "metadata": {},
   "outputs": [],
   "source": [
    "# extract needed columns from df\n",
    "y_true = go0051301_ensemble060_prc_df['y_go']\n",
    "y_scores = go0051301_ensemble060_prc_df['max_freq']"
   ]
  },
  {
   "cell_type": "code",
   "execution_count": 32,
   "id": "cf2928ba-e2b3-418b-9afc-85d68928321c",
   "metadata": {},
   "outputs": [
    {
     "name": "stdout",
     "output_type": "stream",
     "text": [
      "0.11148581561911794\n"
     ]
    }
   ],
   "source": [
    "precision, recall, thresholds = precision_recall_curve(y_true, y_scores)\n",
    "# use avg precision score to calculate the area under the curve of precision recall curve\n",
    "auc_precision_recall = average_precision_score(y_true, y_scores)\n",
    "print(auc_precision_recall)"
   ]
  },
  {
   "cell_type": "code",
   "execution_count": 33,
   "id": "931fe877-cf09-4329-aeba-ebaa0d807b84",
   "metadata": {},
   "outputs": [
    {
     "data": {
      "image/png": "[encoded data removed]",
      "text/plain": [
       "<Figure size 600x400 with 1 Axes>"
      ]
     },
     "metadata": {},
     "output_type": "display_data"
    }
   ],
   "source": [
    "plt.figure(figsize=(6, 4))\n",
    "plt.plot(recall, precision, label=f'Precision-Recall Curve (AUC = {auc_precision_recall:.5f})')\n",
    "plt.xlabel('Recall', fontsize=15)\n",
    "plt.ylabel('Precision', fontsize=15)\n",
    "plt.title('Precision-Recall Curve: cell division (GO:0051301), hiv060', fontsize=12)\n",
    "plt.legend(loc='best', fontsize=13)\n",
    "plt.grid(True)\n",
    "plt.show()"
   ]
  },
  {
   "cell_type": "code",
   "execution_count": 34,
   "id": "62cc9b77-d385-46a3-a4de-5226d8bedeaf",
   "metadata": {},
   "outputs": [
    {
     "name": "stdout",
     "output_type": "stream",
     "text": [
      "101\n"
     ]
    },
    {
     "data": {
      "text/html": [
       "<div>\n",
       "<style scoped>\n",
       "    .dataframe tbody tr th:only-of-type {\n",
       "        vertical-align: middle;\n",
       "    }\n",
       "\n",
       "    .dataframe tbody tr th {\n",
       "        vertical-align: top;\n",
       "    }\n",
       "\n",
       "    .dataframe thead th {\n",
       "        text-align: right;\n",
       "    }\n",
       "</style>\n",
       "<table border=\"1\" class=\"dataframe\">\n",
       "  <thead>\n",
       "    <tr style=\"text-align: right;\">\n",
       "      <th></th>\n",
       "      <th>Element</th>\n",
       "      <th>Count</th>\n",
       "    </tr>\n",
       "  </thead>\n",
       "  <tbody>\n",
       "    <tr>\n",
       "      <th>0</th>\n",
       "      <td>cell division [GO:0051301]</td>\n",
       "      <td>75</td>\n",
       "    </tr>\n",
       "    <tr>\n",
       "      <th>1</th>\n",
       "      <td>mitotic cytokinesis [GO:0000281]</td>\n",
       "      <td>17</td>\n",
       "    </tr>\n",
       "    <tr>\n",
       "      <th>2</th>\n",
       "      <td>mitotic spindle organization [GO:0007052]</td>\n",
       "      <td>13</td>\n",
       "    </tr>\n",
       "    <tr>\n",
       "      <th>3</th>\n",
       "      <td>negative regulation of transcription by RNA po...</td>\n",
       "      <td>13</td>\n",
       "    </tr>\n",
       "    <tr>\n",
       "      <th>4</th>\n",
       "      <td>microtubule cytoskeleton organization [GO:0000...</td>\n",
       "      <td>13</td>\n",
       "    </tr>\n",
       "    <tr>\n",
       "      <th>5</th>\n",
       "      <td>mitotic cell cycle [GO:0000278]</td>\n",
       "      <td>13</td>\n",
       "    </tr>\n",
       "    <tr>\n",
       "      <th>6</th>\n",
       "      <td>mitotic spindle assembly [GO:0090307]</td>\n",
       "      <td>12</td>\n",
       "    </tr>\n",
       "    <tr>\n",
       "      <th>7</th>\n",
       "      <td>protein phosphorylation [GO:0006468]</td>\n",
       "      <td>12</td>\n",
       "    </tr>\n",
       "  </tbody>\n",
       "</table>\n",
       "</div>"
      ],
      "text/plain": [
       "                                             Element  Count\n",
       "0                         cell division [GO:0051301]     75\n",
       "1                   mitotic cytokinesis [GO:0000281]     17\n",
       "2          mitotic spindle organization [GO:0007052]     13\n",
       "3  negative regulation of transcription by RNA po...     13\n",
       "4  microtubule cytoskeleton organization [GO:0000...     13\n",
       "5                    mitotic cell cycle [GO:0000278]     13\n",
       "6              mitotic spindle assembly [GO:0090307]     12\n",
       "7               protein phosphorylation [GO:0006468]     12"
      ]
     },
     "execution_count": 34,
     "metadata": {},
     "output_type": "execute_result"
    }
   ],
   "source": [
    "go0051301_hiv060_count_df = build_biological_process_count_df(go0051301_ensemble060_prc_df, go0051301_df)\n",
    "go0051301_hiv060_count_df[go0051301_hiv060_count_df['Count'] > 10]"
   ]
  },
  {
   "cell_type": "markdown",
   "id": "1e20b813-df91-4686-8bc4-e341240756f3",
   "metadata": {},
   "source": [
    "### 60 min: GO term --> mRNA splicing, via spliceosome (GO:0000398)"
   ]
  },
  {
   "cell_type": "code",
   "execution_count": 35,
   "id": "5411a667-91c2-4204-b4dd-3f750e243e69",
   "metadata": {},
   "outputs": [
    {
     "name": "stdout",
     "output_type": "stream",
     "text": [
      "Number of proteins in GO:0000398 and human taxonomy:  677\n",
      "Number of proteins in GO:0000398 and human taxonomy, intersected with SPRAS hiv060 ensemble pathway nodes:  52\n"
     ]
    }
   ],
   "source": [
    "go0000398_proteins_list = go0000398_df['Entry Name']\n",
    "print(\"Number of proteins in GO:0000398 and human taxonomy: \", len(go0000398_proteins_list))\n",
    "go0000398_ensemble060 = list(set(go0000398_proteins_list) & set(ensemble060_proteins_list))\n",
    "print(\"Number of proteins in GO:0000398 and human taxonomy, intersected with SPRAS hiv060 ensemble pathway nodes: \", len(go0000398_ensemble060))"
   ]
  },
  {
   "cell_type": "markdown",
   "id": "d657bd40-9359-4c22-a54d-5bfef477da8c",
   "metadata": {},
   "source": [
    "#### Build the PRC:"
   ]
  },
  {
   "cell_type": "code",
   "execution_count": 36,
   "id": "bc58ef1a-d227-4af0-8caf-99a3e5e569a7",
   "metadata": {},
   "outputs": [
    {
     "data": {
      "text/html": [
       "<div>\n",
       "<style scoped>\n",
       "    .dataframe tbody tr th:only-of-type {\n",
       "        vertical-align: middle;\n",
       "    }\n",
       "\n",
       "    .dataframe tbody tr th {\n",
       "        vertical-align: top;\n",
       "    }\n",
       "\n",
       "    .dataframe thead th {\n",
       "        text-align: right;\n",
       "    }\n",
       "</style>\n",
       "<table border=\"1\" class=\"dataframe\">\n",
       "  <thead>\n",
       "    <tr style=\"text-align: right;\">\n",
       "      <th></th>\n",
       "      <th>Node</th>\n",
       "      <th>max_freq</th>\n",
       "      <th>y_go</th>\n",
       "    </tr>\n",
       "  </thead>\n",
       "  <tbody>\n",
       "    <tr>\n",
       "      <th>0</th>\n",
       "      <td>1433B_HUMAN</td>\n",
       "      <td>0.04</td>\n",
       "      <td>0</td>\n",
       "    </tr>\n",
       "    <tr>\n",
       "      <th>1</th>\n",
       "      <td>1433E_HUMAN</td>\n",
       "      <td>0.04</td>\n",
       "      <td>0</td>\n",
       "    </tr>\n",
       "    <tr>\n",
       "      <th>2</th>\n",
       "      <td>1433G_HUMAN</td>\n",
       "      <td>0.04</td>\n",
       "      <td>0</td>\n",
       "    </tr>\n",
       "    <tr>\n",
       "      <th>3</th>\n",
       "      <td>1433T_HUMAN</td>\n",
       "      <td>0.04</td>\n",
       "      <td>0</td>\n",
       "    </tr>\n",
       "    <tr>\n",
       "      <th>4</th>\n",
       "      <td>2A5A_HUMAN</td>\n",
       "      <td>0.08</td>\n",
       "      <td>0</td>\n",
       "    </tr>\n",
       "  </tbody>\n",
       "</table>\n",
       "</div>"
      ],
      "text/plain": [
       "          Node  max_freq  y_go\n",
       "0  1433B_HUMAN      0.04     0\n",
       "1  1433E_HUMAN      0.04     0\n",
       "2  1433G_HUMAN      0.04     0\n",
       "3  1433T_HUMAN      0.04     0\n",
       "4   2A5A_HUMAN      0.08     0"
      ]
     },
     "execution_count": 36,
     "metadata": {},
     "output_type": "execute_result"
    }
   ],
   "source": [
    "go0000398_ensemble060_prc_df = build_prc_df(ensemble060_df, go0000398_ensemble060)\n",
    "go0000398_ensemble060_prc_df.head()"
   ]
  },
  {
   "cell_type": "code",
   "execution_count": 37,
   "id": "57198de2-3bd1-449a-bb48-7c4428bd6229",
   "metadata": {},
   "outputs": [],
   "source": [
    "# extract needed columns from df\n",
    "y_true = go0000398_ensemble060_prc_df['y_go']\n",
    "y_scores = go0000398_ensemble060_prc_df['max_freq']"
   ]
  },
  {
   "cell_type": "code",
   "execution_count": 38,
   "id": "5f1103d7-dac9-4d42-badc-0bf4fd9d9411",
   "metadata": {},
   "outputs": [
    {
     "name": "stdout",
     "output_type": "stream",
     "text": [
      "0.051246600774379085\n"
     ]
    }
   ],
   "source": [
    "precision, recall, thresholds = precision_recall_curve(y_true, y_scores)\n",
    "# use avg precision score to calculate the area under the curve of precision recall curve\n",
    "auc_precision_recall = average_precision_score(y_true, y_scores)\n",
    "print(auc_precision_recall)"
   ]
  },
  {
   "cell_type": "code",
   "execution_count": 39,
   "id": "4da7dfb0-6351-4cc1-8461-e8babbaf9293",
   "metadata": {},
   "outputs": [
    {
     "data": {
      "image/png": "[encoded data removed]",
      "text/plain": [
       "<Figure size 600x400 with 1 Axes>"
      ]
     },
     "metadata": {},
     "output_type": "display_data"
    }
   ],
   "source": [
    "plt.figure(figsize=(6, 4))\n",
    "plt.plot(recall, precision, label=f'Precision-Recall Curve (AUC = {auc_precision_recall:.5f})')\n",
    "plt.xlabel('Recall', fontsize=15)\n",
    "plt.ylabel('Precision', fontsize=15)\n",
    "plt.title('Precision-Recall Curve: mRNA splicing, via spliceosome (GO:0000398), hiv060', fontsize=12)\n",
    "plt.legend(loc='best', fontsize=13)\n",
    "plt.grid(True)\n",
    "plt.show()"
   ]
  },
  {
   "cell_type": "markdown",
   "id": "24759cc3-239b-46ad-9bbd-dceb69e418e7",
   "metadata": {},
   "source": [
    "#### Listing the biological processes for the proteins found in ensemble network"
   ]
  },
  {
   "cell_type": "code",
   "execution_count": 40,
   "id": "cc28a645-2036-4398-ae09-fb7d71bd76f3",
   "metadata": {},
   "outputs": [
    {
     "name": "stdout",
     "output_type": "stream",
     "text": [
      "52\n"
     ]
    },
    {
     "data": {
      "text/html": [
       "<div>\n",
       "<style scoped>\n",
       "    .dataframe tbody tr th:only-of-type {\n",
       "        vertical-align: middle;\n",
       "    }\n",
       "\n",
       "    .dataframe tbody tr th {\n",
       "        vertical-align: top;\n",
       "    }\n",
       "\n",
       "    .dataframe thead th {\n",
       "        text-align: right;\n",
       "    }\n",
       "</style>\n",
       "<table border=\"1\" class=\"dataframe\">\n",
       "  <thead>\n",
       "    <tr style=\"text-align: right;\">\n",
       "      <th></th>\n",
       "      <th>Element</th>\n",
       "      <th>Count</th>\n",
       "    </tr>\n",
       "  </thead>\n",
       "  <tbody>\n",
       "    <tr>\n",
       "      <th>0</th>\n",
       "      <td>mRNA splicing, via spliceosome [GO:0000398]</td>\n",
       "      <td>42</td>\n",
       "    </tr>\n",
       "    <tr>\n",
       "      <th>1</th>\n",
       "      <td>RNA splicing [GO:0008380]</td>\n",
       "      <td>15</td>\n",
       "    </tr>\n",
       "    <tr>\n",
       "      <th>2</th>\n",
       "      <td>mRNA processing [GO:0006397]</td>\n",
       "      <td>12</td>\n",
       "    </tr>\n",
       "    <tr>\n",
       "      <th>3</th>\n",
       "      <td>positive regulation of transcription by RNA po...</td>\n",
       "      <td>9</td>\n",
       "    </tr>\n",
       "    <tr>\n",
       "      <th>4</th>\n",
       "      <td>regulation of alternative mRNA splicing, via s...</td>\n",
       "      <td>9</td>\n",
       "    </tr>\n",
       "    <tr>\n",
       "      <th>5</th>\n",
       "      <td>negative regulation of mRNA splicing, via spli...</td>\n",
       "      <td>9</td>\n",
       "    </tr>\n",
       "    <tr>\n",
       "      <th>6</th>\n",
       "      <td>spliceosomal complex assembly [GO:0000245]</td>\n",
       "      <td>9</td>\n",
       "    </tr>\n",
       "    <tr>\n",
       "      <th>7</th>\n",
       "      <td>RNA splicing, via transesterification reaction...</td>\n",
       "      <td>8</td>\n",
       "    </tr>\n",
       "    <tr>\n",
       "      <th>8</th>\n",
       "      <td>spliceosomal tri-snRNP complex assembly [GO:00...</td>\n",
       "      <td>7</td>\n",
       "    </tr>\n",
       "    <tr>\n",
       "      <th>9</th>\n",
       "      <td>positive regulation of mRNA splicing, via spli...</td>\n",
       "      <td>7</td>\n",
       "    </tr>\n",
       "    <tr>\n",
       "      <th>10</th>\n",
       "      <td>RNA processing [GO:0006396]</td>\n",
       "      <td>6</td>\n",
       "    </tr>\n",
       "    <tr>\n",
       "      <th>11</th>\n",
       "      <td>negative regulation of transcription by RNA po...</td>\n",
       "      <td>6</td>\n",
       "    </tr>\n",
       "    <tr>\n",
       "      <th>12</th>\n",
       "      <td>U2-type prespliceosome assembly [GO:1903241]</td>\n",
       "      <td>6</td>\n",
       "    </tr>\n",
       "    <tr>\n",
       "      <th>13</th>\n",
       "      <td>mRNA cis splicing, via spliceosome [GO:0045292]</td>\n",
       "      <td>5</td>\n",
       "    </tr>\n",
       "    <tr>\n",
       "      <th>14</th>\n",
       "      <td>mRNA splice site recognition [GO:0006376]</td>\n",
       "      <td>5</td>\n",
       "    </tr>\n",
       "    <tr>\n",
       "      <th>15</th>\n",
       "      <td>spliceosomal snRNP assembly [GO:0000387]</td>\n",
       "      <td>5</td>\n",
       "    </tr>\n",
       "  </tbody>\n",
       "</table>\n",
       "</div>"
      ],
      "text/plain": [
       "                                              Element  Count\n",
       "0         mRNA splicing, via spliceosome [GO:0000398]     42\n",
       "1                           RNA splicing [GO:0008380]     15\n",
       "2                        mRNA processing [GO:0006397]     12\n",
       "3   positive regulation of transcription by RNA po...      9\n",
       "4   regulation of alternative mRNA splicing, via s...      9\n",
       "5   negative regulation of mRNA splicing, via spli...      9\n",
       "6          spliceosomal complex assembly [GO:0000245]      9\n",
       "7   RNA splicing, via transesterification reaction...      8\n",
       "8   spliceosomal tri-snRNP complex assembly [GO:00...      7\n",
       "9   positive regulation of mRNA splicing, via spli...      7\n",
       "10                        RNA processing [GO:0006396]      6\n",
       "11  negative regulation of transcription by RNA po...      6\n",
       "12       U2-type prespliceosome assembly [GO:1903241]      6\n",
       "13    mRNA cis splicing, via spliceosome [GO:0045292]      5\n",
       "14          mRNA splice site recognition [GO:0006376]      5\n",
       "15           spliceosomal snRNP assembly [GO:0000387]      5"
      ]
     },
     "execution_count": 40,
     "metadata": {},
     "output_type": "execute_result"
    }
   ],
   "source": [
    "go0000398_hiv060_count_df = build_biological_process_count_df(go0000398_ensemble060_prc_df, go0000398_df)\n",
    "go0000398_hiv060_count_df[go0000398_hiv060_count_df['Count'] > 4]"
   ]
  },
  {
   "cell_type": "markdown",
   "id": "f66515a6-8cf4-448c-86d4-9b87997ed6b6",
   "metadata": {},
   "source": [
    "### 60 min: GO term --> cell-cell adhesion (GO:0098609)"
   ]
  },
  {
   "cell_type": "code",
   "execution_count": 41,
   "id": "d16b27eb-5772-43d5-b3ce-d50b1302f710",
   "metadata": {},
   "outputs": [
    {
     "data": {
      "text/html": [
       "<div>\n",
       "<style scoped>\n",
       "    .dataframe tbody tr th:only-of-type {\n",
       "        vertical-align: middle;\n",
       "    }\n",
       "\n",
       "    .dataframe tbody tr th {\n",
       "        vertical-align: top;\n",
       "    }\n",
       "\n",
       "    .dataframe thead th {\n",
       "        text-align: right;\n",
       "    }\n",
       "</style>\n",
       "<table border=\"1\" class=\"dataframe\">\n",
       "  <thead>\n",
       "    <tr style=\"text-align: right;\">\n",
       "      <th></th>\n",
       "      <th>Entry</th>\n",
       "      <th>Reviewed</th>\n",
       "      <th>Entry Name</th>\n",
       "      <th>Protein names</th>\n",
       "      <th>Gene Names</th>\n",
       "      <th>Gene Ontology (biological process)</th>\n",
       "    </tr>\n",
       "  </thead>\n",
       "  <tbody>\n",
       "    <tr>\n",
       "      <th>0</th>\n",
       "      <td>A0A024R5Z7</td>\n",
       "      <td>unreviewed</td>\n",
       "      <td>A0A024R5Z7_HUMAN</td>\n",
       "      <td>Annexin</td>\n",
       "      <td>ANXA2 hCG_2004404</td>\n",
       "      <td>angiogenesis [GO:0001525]; cell-matrix adhesio...</td>\n",
       "    </tr>\n",
       "    <tr>\n",
       "      <th>1</th>\n",
       "      <td>A0A0U2ZQU7</td>\n",
       "      <td>unreviewed</td>\n",
       "      <td>A0A0U2ZQU7_HUMAN</td>\n",
       "      <td>Cadherin-1 (Epithelial cadherin)</td>\n",
       "      <td>CDH1</td>\n",
       "      <td>adherens junction organization [GO:0034332]; c...</td>\n",
       "    </tr>\n",
       "    <tr>\n",
       "      <th>2</th>\n",
       "      <td>A0A140VJM0</td>\n",
       "      <td>unreviewed</td>\n",
       "      <td>A0A140VJM0_HUMAN</td>\n",
       "      <td>Testicular tissue protein Li 96 (Testicular ti...</td>\n",
       "      <td>NaN</td>\n",
       "      <td>cell adhesion mediated by integrin [GO:0033627...</td>\n",
       "    </tr>\n",
       "    <tr>\n",
       "      <th>3</th>\n",
       "      <td>A0A1U9X8X8</td>\n",
       "      <td>unreviewed</td>\n",
       "      <td>A0A1U9X8X8_HUMAN</td>\n",
       "      <td>Corneodesmosin</td>\n",
       "      <td>NaN</td>\n",
       "      <td>cell-cell adhesion [GO:0098609]; skin morphoge...</td>\n",
       "    </tr>\n",
       "    <tr>\n",
       "      <th>4</th>\n",
       "      <td>A0A384MDY0</td>\n",
       "      <td>unreviewed</td>\n",
       "      <td>A0A384MDY0_HUMAN</td>\n",
       "      <td>Catenin alpha-1</td>\n",
       "      <td>CTNNA1 hCG_1782385</td>\n",
       "      <td>apical junction assembly [GO:0043297]; axon re...</td>\n",
       "    </tr>\n",
       "  </tbody>\n",
       "</table>\n",
       "</div>"
      ],
      "text/plain": [
       "        Entry    Reviewed        Entry Name  \\\n",
       "0  A0A024R5Z7  unreviewed  A0A024R5Z7_HUMAN   \n",
       "1  A0A0U2ZQU7  unreviewed  A0A0U2ZQU7_HUMAN   \n",
       "2  A0A140VJM0  unreviewed  A0A140VJM0_HUMAN   \n",
       "3  A0A1U9X8X8  unreviewed  A0A1U9X8X8_HUMAN   \n",
       "4  A0A384MDY0  unreviewed  A0A384MDY0_HUMAN   \n",
       "\n",
       "                                       Protein names          Gene Names  \\\n",
       "0                                            Annexin   ANXA2 hCG_2004404   \n",
       "1                   Cadherin-1 (Epithelial cadherin)                CDH1   \n",
       "2  Testicular tissue protein Li 96 (Testicular ti...                 NaN   \n",
       "3                                     Corneodesmosin                 NaN   \n",
       "4                                    Catenin alpha-1  CTNNA1 hCG_1782385   \n",
       "\n",
       "                  Gene Ontology (biological process)  \n",
       "0  angiogenesis [GO:0001525]; cell-matrix adhesio...  \n",
       "1  adherens junction organization [GO:0034332]; c...  \n",
       "2  cell adhesion mediated by integrin [GO:0033627...  \n",
       "3  cell-cell adhesion [GO:0098609]; skin morphoge...  \n",
       "4  apical junction assembly [GO:0043297]; axon re...  "
      ]
     },
     "execution_count": 41,
     "metadata": {},
     "output_type": "execute_result"
    }
   ],
   "source": [
    "go0098609_path = \"C:/Users/sumed/BDS-SROP-24/spras_raw_data/uniprotkb_go_0098609_AND_taxonomy_id_96_2024_07_29.tsv\"\n",
    "go0098609_df = pd.read_csv(go0098609_path, sep='\\t')\n",
    "go0098609_df.head()"
   ]
  },
  {
   "cell_type": "code",
   "execution_count": 42,
   "id": "4f385f87-0d94-4bb8-872b-0056f529b7a5",
   "metadata": {},
   "outputs": [
    {
     "name": "stdout",
     "output_type": "stream",
     "text": [
      "Number of proteins in GO:0098609 and human taxonomy:  1308\n",
      "Number of proteins in GO:0098609 and human taxonomy, intersected with SPRAS hiv060 ensemble pathway nodes:  24\n"
     ]
    }
   ],
   "source": [
    "go0098609_proteins_list = go0098609_df['Entry Name']\n",
    "print(\"Number of proteins in GO:0098609 and human taxonomy: \", len(go0098609_proteins_list))\n",
    "go0098609_ensemble060 = list(set(go0098609_proteins_list) & set(ensemble060_proteins_list))\n",
    "print(\"Number of proteins in GO:0098609 and human taxonomy, intersected with SPRAS hiv060 ensemble pathway nodes: \", len(go0098609_ensemble060))"
   ]
  },
  {
   "cell_type": "markdown",
   "id": "7b874ff8-61af-47aa-82ff-c642f19c1e2d",
   "metadata": {},
   "source": [
    "#### Build the PRC"
   ]
  },
  {
   "cell_type": "code",
   "execution_count": 43,
   "id": "0134b908-d0b6-4edc-a879-41d10ec9f8ec",
   "metadata": {},
   "outputs": [
    {
     "data": {
      "text/html": [
       "<div>\n",
       "<style scoped>\n",
       "    .dataframe tbody tr th:only-of-type {\n",
       "        vertical-align: middle;\n",
       "    }\n",
       "\n",
       "    .dataframe tbody tr th {\n",
       "        vertical-align: top;\n",
       "    }\n",
       "\n",
       "    .dataframe thead th {\n",
       "        text-align: right;\n",
       "    }\n",
       "</style>\n",
       "<table border=\"1\" class=\"dataframe\">\n",
       "  <thead>\n",
       "    <tr style=\"text-align: right;\">\n",
       "      <th></th>\n",
       "      <th>Node</th>\n",
       "      <th>max_freq</th>\n",
       "      <th>y_go</th>\n",
       "    </tr>\n",
       "  </thead>\n",
       "  <tbody>\n",
       "    <tr>\n",
       "      <th>0</th>\n",
       "      <td>1433B_HUMAN</td>\n",
       "      <td>0.04</td>\n",
       "      <td>0</td>\n",
       "    </tr>\n",
       "    <tr>\n",
       "      <th>1</th>\n",
       "      <td>1433E_HUMAN</td>\n",
       "      <td>0.04</td>\n",
       "      <td>0</td>\n",
       "    </tr>\n",
       "    <tr>\n",
       "      <th>2</th>\n",
       "      <td>1433G_HUMAN</td>\n",
       "      <td>0.04</td>\n",
       "      <td>0</td>\n",
       "    </tr>\n",
       "    <tr>\n",
       "      <th>3</th>\n",
       "      <td>1433T_HUMAN</td>\n",
       "      <td>0.04</td>\n",
       "      <td>0</td>\n",
       "    </tr>\n",
       "    <tr>\n",
       "      <th>4</th>\n",
       "      <td>2A5A_HUMAN</td>\n",
       "      <td>0.08</td>\n",
       "      <td>0</td>\n",
       "    </tr>\n",
       "  </tbody>\n",
       "</table>\n",
       "</div>"
      ],
      "text/plain": [
       "          Node  max_freq  y_go\n",
       "0  1433B_HUMAN      0.04     0\n",
       "1  1433E_HUMAN      0.04     0\n",
       "2  1433G_HUMAN      0.04     0\n",
       "3  1433T_HUMAN      0.04     0\n",
       "4   2A5A_HUMAN      0.08     0"
      ]
     },
     "execution_count": 43,
     "metadata": {},
     "output_type": "execute_result"
    }
   ],
   "source": [
    "go0098609_ensemble060_prc_df = build_prc_df(ensemble060_df, go0098609_ensemble060)\n",
    "go0098609_ensemble060_prc_df.head()"
   ]
  },
  {
   "cell_type": "code",
   "execution_count": 44,
   "id": "e4375d27-1793-4663-bcb3-857a2da8e625",
   "metadata": {},
   "outputs": [],
   "source": [
    "# extract needed columns from df\n",
    "y_true = go0098609_ensemble060_prc_df['y_go']\n",
    "y_scores = go0098609_ensemble060_prc_df['max_freq']"
   ]
  },
  {
   "cell_type": "code",
   "execution_count": 45,
   "id": "e258cfe0-6da4-4cea-a1af-a3fb9b2140bf",
   "metadata": {},
   "outputs": [
    {
     "name": "stdout",
     "output_type": "stream",
     "text": [
      "0.023102923753173847\n"
     ]
    }
   ],
   "source": [
    "precision, recall, thresholds = precision_recall_curve(y_true, y_scores)\n",
    "# use avg precision score to calculate the area under the curve of precision recall curve\n",
    "auc_precision_recall = average_precision_score(y_true, y_scores)\n",
    "print(auc_precision_recall)"
   ]
  },
  {
   "cell_type": "code",
   "execution_count": 46,
   "id": "7282d195-9817-41d9-baab-9d062b4eab0e",
   "metadata": {},
   "outputs": [
    {
     "data": {
      "image/png": "[encoded data removed]",
      "text/plain": [
       "<Figure size 600x400 with 1 Axes>"
      ]
     },
     "metadata": {},
     "output_type": "display_data"
    }
   ],
   "source": [
    "plt.figure(figsize=(6, 4))\n",
    "plt.plot(recall, precision, label=f'Precision-Recall Curve (AUC = {auc_precision_recall:.5f})')\n",
    "plt.xlabel('Recall', fontsize=15)\n",
    "plt.ylabel('Precision', fontsize=15)\n",
    "plt.title('Precision-Recall Curve: cell-cell adhesion (GO:0098609), hiv060', fontsize=12)\n",
    "plt.legend(loc='best', fontsize=13)\n",
    "plt.grid(True)\n",
    "plt.show()"
   ]
  },
  {
   "cell_type": "markdown",
   "id": "3fa1a6c4-8d84-4d23-a0b0-54fb71700bca",
   "metadata": {},
   "source": [
    "#### Listing the biological processes for the proteins found in ensemble network"
   ]
  },
  {
   "cell_type": "code",
   "execution_count": 47,
   "id": "e6930f99-afbd-4df2-8f27-83b7f6051229",
   "metadata": {},
   "outputs": [
    {
     "name": "stdout",
     "output_type": "stream",
     "text": [
      "24\n"
     ]
    },
    {
     "data": {
      "text/html": [
       "<div>\n",
       "<style scoped>\n",
       "    .dataframe tbody tr th:only-of-type {\n",
       "        vertical-align: middle;\n",
       "    }\n",
       "\n",
       "    .dataframe tbody tr th {\n",
       "        vertical-align: top;\n",
       "    }\n",
       "\n",
       "    .dataframe thead th {\n",
       "        text-align: right;\n",
       "    }\n",
       "</style>\n",
       "<table border=\"1\" class=\"dataframe\">\n",
       "  <thead>\n",
       "    <tr style=\"text-align: right;\">\n",
       "      <th></th>\n",
       "      <th>Element</th>\n",
       "      <th>Count</th>\n",
       "    </tr>\n",
       "  </thead>\n",
       "  <tbody>\n",
       "    <tr>\n",
       "      <th>0</th>\n",
       "      <td>cell-cell adhesion [GO:0098609]</td>\n",
       "      <td>10</td>\n",
       "    </tr>\n",
       "    <tr>\n",
       "      <th>1</th>\n",
       "      <td>intracellular signal transduction [GO:0035556]</td>\n",
       "      <td>7</td>\n",
       "    </tr>\n",
       "    <tr>\n",
       "      <th>2</th>\n",
       "      <td>signal transduction [GO:0007165]</td>\n",
       "      <td>7</td>\n",
       "    </tr>\n",
       "    <tr>\n",
       "      <th>3</th>\n",
       "      <td>actin cytoskeleton organization [GO:0030036]</td>\n",
       "      <td>6</td>\n",
       "    </tr>\n",
       "    <tr>\n",
       "      <th>4</th>\n",
       "      <td>peptidyl-tyrosine phosphorylation [GO:0018108]</td>\n",
       "      <td>6</td>\n",
       "    </tr>\n",
       "    <tr>\n",
       "      <th>5</th>\n",
       "      <td>response to xenobiotic stimulus [GO:0009410]</td>\n",
       "      <td>6</td>\n",
       "    </tr>\n",
       "    <tr>\n",
       "      <th>6</th>\n",
       "      <td>positive regulation of DNA-templated transcrip...</td>\n",
       "      <td>6</td>\n",
       "    </tr>\n",
       "    <tr>\n",
       "      <th>7</th>\n",
       "      <td>positive regulation of apoptotic process [GO:0...</td>\n",
       "      <td>6</td>\n",
       "    </tr>\n",
       "    <tr>\n",
       "      <th>8</th>\n",
       "      <td>negative regulation of apoptotic process [GO:0...</td>\n",
       "      <td>6</td>\n",
       "    </tr>\n",
       "    <tr>\n",
       "      <th>9</th>\n",
       "      <td>thymus development [GO:0048538]</td>\n",
       "      <td>5</td>\n",
       "    </tr>\n",
       "    <tr>\n",
       "      <th>10</th>\n",
       "      <td>positive regulation of cell population prolife...</td>\n",
       "      <td>5</td>\n",
       "    </tr>\n",
       "    <tr>\n",
       "      <th>11</th>\n",
       "      <td>positive regulation of transcription by RNA po...</td>\n",
       "      <td>5</td>\n",
       "    </tr>\n",
       "    <tr>\n",
       "      <th>12</th>\n",
       "      <td>T cell receptor signaling pathway [GO:0050852]</td>\n",
       "      <td>5</td>\n",
       "    </tr>\n",
       "  </tbody>\n",
       "</table>\n",
       "</div>"
      ],
      "text/plain": [
       "                                              Element  Count\n",
       "0                     cell-cell adhesion [GO:0098609]     10\n",
       "1      intracellular signal transduction [GO:0035556]      7\n",
       "2                    signal transduction [GO:0007165]      7\n",
       "3        actin cytoskeleton organization [GO:0030036]      6\n",
       "4      peptidyl-tyrosine phosphorylation [GO:0018108]      6\n",
       "5        response to xenobiotic stimulus [GO:0009410]      6\n",
       "6   positive regulation of DNA-templated transcrip...      6\n",
       "7   positive regulation of apoptotic process [GO:0...      6\n",
       "8   negative regulation of apoptotic process [GO:0...      6\n",
       "9                     thymus development [GO:0048538]      5\n",
       "10  positive regulation of cell population prolife...      5\n",
       "11  positive regulation of transcription by RNA po...      5\n",
       "12     T cell receptor signaling pathway [GO:0050852]      5"
      ]
     },
     "execution_count": 47,
     "metadata": {},
     "output_type": "execute_result"
    }
   ],
   "source": [
    "go0098609_hiv060_count_df = build_biological_process_count_df(go0098609_ensemble060_prc_df, go0098609_df)\n",
    "go0098609_hiv060_count_df[go0098609_hiv060_count_df['Count'] > 4]"
   ]
  },
  {
   "cell_type": "code",
   "execution_count": null,
   "id": "9b9d4d90-e2ac-4dac-9bd8-1b1889eacb48",
   "metadata": {},
   "outputs": [],
   "source": []
  }
 ],
 "metadata": {
  "kernelspec": {
   "display_name": "Python 3 (ipykernel)",
   "language": "python",
   "name": "python3"
  },
  "language_info": {
   "codemirror_mode": {
    "name": "ipython",
    "version": 3
   },
   "file_extension": ".py",
   "mimetype": "text/x-python",
   "name": "python",
   "nbconvert_exporter": "python",
   "pygments_lexer": "ipython3",
   "version": "3.11.7"
  }
 },
 "nbformat": 4,
 "nbformat_minor": 5
}
