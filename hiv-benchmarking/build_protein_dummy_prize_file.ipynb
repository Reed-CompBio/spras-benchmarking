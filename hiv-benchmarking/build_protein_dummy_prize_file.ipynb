{
 "cells": [
  {
   "cell_type": "code",
   "execution_count": 8,
   "metadata": {},
   "outputs": [],
   "source": [
    "import pandas as pd\n",
    "import numpy as np"
   ]
  },
  {
   "cell_type": "code",
   "execution_count": 19,
   "metadata": {},
   "outputs": [
    {
     "data": {
      "text/html": [
       "<div>\n",
       "<style scoped>\n",
       "    .dataframe tbody tr th:only-of-type {\n",
       "        vertical-align: middle;\n",
       "    }\n",
       "\n",
       "    .dataframe tbody tr th {\n",
       "        vertical-align: top;\n",
       "    }\n",
       "\n",
       "    .dataframe thead th {\n",
       "        text-align: right;\n",
       "    }\n",
       "</style>\n",
       "<table border=\"1\" class=\"dataframe\">\n",
       "  <thead>\n",
       "    <tr style=\"text-align: right;\">\n",
       "      <th></th>\n",
       "      <th>NODEID</th>\n",
       "      <th>prize</th>\n",
       "    </tr>\n",
       "  </thead>\n",
       "  <tbody>\n",
       "    <tr>\n",
       "      <th>0</th>\n",
       "      <td>B0YIW2_HUMAN</td>\n",
       "      <td>5.029366</td>\n",
       "    </tr>\n",
       "    <tr>\n",
       "      <th>1</th>\n",
       "      <td>HTF4_HUMAN</td>\n",
       "      <td>4.582688</td>\n",
       "    </tr>\n",
       "    <tr>\n",
       "      <th>2</th>\n",
       "      <td>FETUA_HUMAN</td>\n",
       "      <td>4.027456</td>\n",
       "    </tr>\n",
       "    <tr>\n",
       "      <th>3</th>\n",
       "      <td>HBA_HUMAN</td>\n",
       "      <td>3.955817</td>\n",
       "    </tr>\n",
       "    <tr>\n",
       "      <th>4</th>\n",
       "      <td>KCRM_HUMAN</td>\n",
       "      <td>3.885428</td>\n",
       "    </tr>\n",
       "    <tr>\n",
       "      <th>...</th>\n",
       "      <td>...</td>\n",
       "      <td>...</td>\n",
       "    </tr>\n",
       "    <tr>\n",
       "      <th>1118</th>\n",
       "      <td>AXIN1_HUMAN</td>\n",
       "      <td>1.005809</td>\n",
       "    </tr>\n",
       "    <tr>\n",
       "      <th>1119</th>\n",
       "      <td>RTN4_HUMAN</td>\n",
       "      <td>1.005192</td>\n",
       "    </tr>\n",
       "    <tr>\n",
       "      <th>1120</th>\n",
       "      <td>J3KR72_HUMAN</td>\n",
       "      <td>1.003755</td>\n",
       "    </tr>\n",
       "    <tr>\n",
       "      <th>1121</th>\n",
       "      <td>PARP6_HUMAN</td>\n",
       "      <td>1.003196</td>\n",
       "    </tr>\n",
       "    <tr>\n",
       "      <th>1122</th>\n",
       "      <td>T184C_HUMAN</td>\n",
       "      <td>1.002288</td>\n",
       "    </tr>\n",
       "  </tbody>\n",
       "</table>\n",
       "<p>1123 rows × 2 columns</p>\n",
       "</div>"
      ],
      "text/plain": [
       "            NODEID     prize\n",
       "0     B0YIW2_HUMAN  5.029366\n",
       "1       HTF4_HUMAN  4.582688\n",
       "2      FETUA_HUMAN  4.027456\n",
       "3        HBA_HUMAN  3.955817\n",
       "4       KCRM_HUMAN  3.885428\n",
       "...            ...       ...\n",
       "1118   AXIN1_HUMAN  1.005809\n",
       "1119    RTN4_HUMAN  1.005192\n",
       "1120  J3KR72_HUMAN  1.003755\n",
       "1121   PARP6_HUMAN  1.003196\n",
       "1122   T184C_HUMAN  1.002288\n",
       "\n",
       "[1123 rows x 2 columns]"
      ]
     },
     "execution_count": 19,
     "metadata": {},
     "output_type": "execute_result"
    }
   ],
   "source": [
    "modified_prize_05 = pd.read_csv('hiv_processed_data/modified_prize_05.txt', sep='\\t')\n",
    "modified_prize_05"
   ]
  },
  {
   "cell_type": "code",
   "execution_count": 14,
   "metadata": {},
   "outputs": [
    {
     "data": {
      "text/html": [
       "<div>\n",
       "<style scoped>\n",
       "    .dataframe tbody tr th:only-of-type {\n",
       "        vertical-align: middle;\n",
       "    }\n",
       "\n",
       "    .dataframe tbody tr th {\n",
       "        vertical-align: top;\n",
       "    }\n",
       "\n",
       "    .dataframe thead th {\n",
       "        text-align: right;\n",
       "    }\n",
       "</style>\n",
       "<table border=\"1\" class=\"dataframe\">\n",
       "  <thead>\n",
       "    <tr style=\"text-align: right;\">\n",
       "      <th></th>\n",
       "      <th>NODEID</th>\n",
       "    </tr>\n",
       "  </thead>\n",
       "  <tbody>\n",
       "    <tr>\n",
       "      <th>0</th>\n",
       "      <td>CGT_HUMAN</td>\n",
       "    </tr>\n",
       "    <tr>\n",
       "      <th>1</th>\n",
       "      <td>ACHA_HUMAN</td>\n",
       "    </tr>\n",
       "    <tr>\n",
       "      <th>2</th>\n",
       "      <td>ACHB_HUMAN</td>\n",
       "    </tr>\n",
       "    <tr>\n",
       "      <th>3</th>\n",
       "      <td>A1AG1_HUMAN</td>\n",
       "    </tr>\n",
       "    <tr>\n",
       "      <th>4</th>\n",
       "      <td>A1AG2_HUMAN</td>\n",
       "    </tr>\n",
       "  </tbody>\n",
       "</table>\n",
       "</div>"
      ],
      "text/plain": [
       "        NODEID\n",
       "0    CGT_HUMAN\n",
       "1   ACHA_HUMAN\n",
       "2   ACHB_HUMAN\n",
       "3  A1AG1_HUMAN\n",
       "4  A1AG2_HUMAN"
      ]
     },
     "execution_count": 14,
     "metadata": {},
     "output_type": "execute_result"
    }
   ],
   "source": [
    "human_dummy_nodes = pd.read_csv('hiv_processed_data/human_dummy_proteins_uniprotkb.txt', header=None)\n",
    "human_dummy_nodes.rename(columns={0:'NODEID'}, inplace=True)\n",
    "human_dummy_nodes.head()"
   ]
  },
  {
   "cell_type": "code",
   "execution_count": 10,
   "metadata": {},
   "outputs": [
    {
     "data": {
      "text/plain": [
       "1.8057502788094812"
      ]
     },
     "execution_count": 10,
     "metadata": {},
     "output_type": "execute_result"
    }
   ],
   "source": [
    "prizes_list = modified_prize_05['prize']\n",
    "prizes_mean = prizes_list.mean()\n",
    "prizes_mean"
   ]
  },
  {
   "cell_type": "code",
   "execution_count": 16,
   "metadata": {},
   "outputs": [
    {
     "data": {
      "text/html": [
       "<div>\n",
       "<style scoped>\n",
       "    .dataframe tbody tr th:only-of-type {\n",
       "        vertical-align: middle;\n",
       "    }\n",
       "\n",
       "    .dataframe tbody tr th {\n",
       "        vertical-align: top;\n",
       "    }\n",
       "\n",
       "    .dataframe thead th {\n",
       "        text-align: right;\n",
       "    }\n",
       "</style>\n",
       "<table border=\"1\" class=\"dataframe\">\n",
       "  <thead>\n",
       "    <tr style=\"text-align: right;\">\n",
       "      <th></th>\n",
       "      <th>NODEID</th>\n",
       "      <th>prize</th>\n",
       "    </tr>\n",
       "  </thead>\n",
       "  <tbody>\n",
       "    <tr>\n",
       "      <th>0</th>\n",
       "      <td>CGT_HUMAN</td>\n",
       "      <td>1.80575</td>\n",
       "    </tr>\n",
       "    <tr>\n",
       "      <th>1</th>\n",
       "      <td>ACHA_HUMAN</td>\n",
       "      <td>1.80575</td>\n",
       "    </tr>\n",
       "    <tr>\n",
       "      <th>2</th>\n",
       "      <td>ACHB_HUMAN</td>\n",
       "      <td>1.80575</td>\n",
       "    </tr>\n",
       "    <tr>\n",
       "      <th>3</th>\n",
       "      <td>A1AG1_HUMAN</td>\n",
       "      <td>1.80575</td>\n",
       "    </tr>\n",
       "    <tr>\n",
       "      <th>4</th>\n",
       "      <td>A1AG2_HUMAN</td>\n",
       "      <td>1.80575</td>\n",
       "    </tr>\n",
       "  </tbody>\n",
       "</table>\n",
       "</div>"
      ],
      "text/plain": [
       "        NODEID    prize\n",
       "0    CGT_HUMAN  1.80575\n",
       "1   ACHA_HUMAN  1.80575\n",
       "2   ACHB_HUMAN  1.80575\n",
       "3  A1AG1_HUMAN  1.80575\n",
       "4  A1AG2_HUMAN  1.80575"
      ]
     },
     "execution_count": 16,
     "metadata": {},
     "output_type": "execute_result"
    }
   ],
   "source": [
    "human_dummy_nodes['prize']=prizes_mean\n",
    "human_dummy_nodes.head()"
   ]
  },
  {
   "cell_type": "code",
   "execution_count": 24,
   "metadata": {},
   "outputs": [
    {
     "name": "stdout",
     "output_type": "stream",
     "text": [
      "['LSM12_HUMAN', 'MK14_HUMAN', 'CAF1A_HUMAN', 'CH60_HUMAN', 'DCAF1_HUMAN', 'COF1_HUMAN', 'STML2_HUMAN', 'VTNC_HUMAN', 'ARHG1_HUMAN', 'CO9_HUMAN', 'PML_HUMAN', 'P53_HUMAN', 'EPN1_HUMAN', 'PLIN3_HUMAN', 'SEC62_HUMAN', 'ANT3_HUMAN', 'ZAP70_HUMAN', 'KAPCB_HUMAN', 'TBB4A_HUMAN', 'TBA1B_HUMAN', 'ALBU_HUMAN', 'CD3E_HUMAN', 'PSD11_HUMAN', 'TSP1_HUMAN', 'ACTB_HUMAN', 'TRFL_HUMAN', 'EVL_HUMAN', 'CO3_HUMAN', 'LCK_HUMAN', 'RAF1_HUMAN', 'LEUK_HUMAN', 'HS105_HUMAN', 'PHB2_HUMAN']\n"
     ]
    },
    {
     "data": {
      "text/plain": [
       "33"
      ]
     },
     "execution_count": 24,
     "metadata": {},
     "output_type": "execute_result"
    }
   ],
   "source": [
    "intersection = list(set(list(modified_prize_05['NODEID'])) & set(list(human_dummy_nodes['NODEID'])))\n",
    "print(intersection)\n",
    "len(intersection)"
   ]
  },
  {
   "cell_type": "code",
   "execution_count": null,
   "metadata": {},
   "outputs": [],
   "source": [
    "# Merge dataframes on NODEID, using outer join to include all unique NODEIDs\n",
    "merged_df = pd.merge(modified_prize_05, human_dummy_nodes, on=\"NODEID\", how=\"outer\", suffixes=('_og', '_dummy'))\n",
    "# Calculate the max prize for each NODEID, filling NaN values with available data\n",
    "merged_df['prize'] = merged_df[['prize_og', 'prize_dummy']].max(axis=1)\n",
    "# Drop the old prize columns from both dataframes\n",
    "merged_df = merged_df[['NODEID', 'prize']]"
   ]
  },
  {
   "cell_type": "code",
   "execution_count": 18,
   "metadata": {},
   "outputs": [
    {
     "data": {
      "text/html": [
       "<div>\n",
       "<style scoped>\n",
       "    .dataframe tbody tr th:only-of-type {\n",
       "        vertical-align: middle;\n",
       "    }\n",
       "\n",
       "    .dataframe tbody tr th {\n",
       "        vertical-align: top;\n",
       "    }\n",
       "\n",
       "    .dataframe thead th {\n",
       "        text-align: right;\n",
       "    }\n",
       "</style>\n",
       "<table border=\"1\" class=\"dataframe\">\n",
       "  <thead>\n",
       "    <tr style=\"text-align: right;\">\n",
       "      <th></th>\n",
       "      <th>NODEID</th>\n",
       "      <th>prize</th>\n",
       "    </tr>\n",
       "  </thead>\n",
       "  <tbody>\n",
       "    <tr>\n",
       "      <th>0</th>\n",
       "      <td>B0YIW2_HUMAN</td>\n",
       "      <td>5.029366</td>\n",
       "    </tr>\n",
       "    <tr>\n",
       "      <th>1</th>\n",
       "      <td>HTF4_HUMAN</td>\n",
       "      <td>4.582688</td>\n",
       "    </tr>\n",
       "    <tr>\n",
       "      <th>2</th>\n",
       "      <td>FETUA_HUMAN</td>\n",
       "      <td>4.027456</td>\n",
       "    </tr>\n",
       "    <tr>\n",
       "      <th>3</th>\n",
       "      <td>HBA_HUMAN</td>\n",
       "      <td>3.955817</td>\n",
       "    </tr>\n",
       "    <tr>\n",
       "      <th>4</th>\n",
       "      <td>KCRM_HUMAN</td>\n",
       "      <td>3.885428</td>\n",
       "    </tr>\n",
       "    <tr>\n",
       "      <th>...</th>\n",
       "      <td>...</td>\n",
       "      <td>...</td>\n",
       "    </tr>\n",
       "    <tr>\n",
       "      <th>1546</th>\n",
       "      <td>K2013_HUMAN</td>\n",
       "      <td>1.805750</td>\n",
       "    </tr>\n",
       "    <tr>\n",
       "      <th>1547</th>\n",
       "      <td>HACD3_HUMAN</td>\n",
       "      <td>1.805750</td>\n",
       "    </tr>\n",
       "    <tr>\n",
       "      <th>1548</th>\n",
       "      <td>VTI1A_HUMAN</td>\n",
       "      <td>1.805750</td>\n",
       "    </tr>\n",
       "    <tr>\n",
       "      <th>1549</th>\n",
       "      <td>VAPA_HUMAN</td>\n",
       "      <td>1.805750</td>\n",
       "    </tr>\n",
       "    <tr>\n",
       "      <th>1550</th>\n",
       "      <td>VDAC3_HUMAN</td>\n",
       "      <td>1.805750</td>\n",
       "    </tr>\n",
       "  </tbody>\n",
       "</table>\n",
       "<p>1551 rows × 2 columns</p>\n",
       "</div>"
      ],
      "text/plain": [
       "            NODEID     prize\n",
       "0     B0YIW2_HUMAN  5.029366\n",
       "1       HTF4_HUMAN  4.582688\n",
       "2      FETUA_HUMAN  4.027456\n",
       "3        HBA_HUMAN  3.955817\n",
       "4       KCRM_HUMAN  3.885428\n",
       "...            ...       ...\n",
       "1546   K2013_HUMAN  1.805750\n",
       "1547   HACD3_HUMAN  1.805750\n",
       "1548   VTI1A_HUMAN  1.805750\n",
       "1549    VAPA_HUMAN  1.805750\n",
       "1550   VDAC3_HUMAN  1.805750\n",
       "\n",
       "[1551 rows x 2 columns]"
      ]
     },
     "execution_count": 18,
     "metadata": {},
     "output_type": "execute_result"
    }
   ],
   "source": [
    "merged_df"
   ]
  },
  {
   "cell_type": "code",
   "execution_count": 21,
   "metadata": {},
   "outputs": [],
   "source": [
    "merged_df.to_csv(\"hiv_processed_data/modified_prize_dummy_05.txt\", index=False, sep='\\t')"
   ]
  },
  {
   "cell_type": "code",
   "execution_count": null,
   "metadata": {},
   "outputs": [],
   "source": []
  }
 ],
 "metadata": {
  "kernelspec": {
   "display_name": "base",
   "language": "python",
   "name": "python3"
  },
  "language_info": {
   "codemirror_mode": {
    "name": "ipython",
    "version": 3
   },
   "file_extension": ".py",
   "mimetype": "text/x-python",
   "name": "python",
   "nbconvert_exporter": "python",
   "pygments_lexer": "ipython3",
   "version": "3.11.7"
  }
 },
 "nbformat": 4,
 "nbformat_minor": 2
}
